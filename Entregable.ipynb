{
  "cells": [
    {
      "cell_type": "code",
      "execution_count": 1,
      "metadata": {
        "colab": {
          "base_uri": "https://localhost:8080/"
        },
        "id": "DY3-v-zO2YpA",
        "outputId": "b5a80c46-300d-41cc-d7f5-89bcd1c1f815"
      },
      "outputs": [
        {
          "output_type": "stream",
          "name": "stdout",
          "text": [
            "Drive already mounted at /content/gdrive; to attempt to forcibly remount, call drive.mount(\"/content/gdrive\", force_remount=True).\n"
          ]
        }
      ],
      "source": [
        "from google.colab import drive\n",
        "\n",
        "drive.mount(\"/content/gdrive\") "
      ]
    },
    {
      "cell_type": "code",
      "execution_count": 2,
      "metadata": {
        "colab": {
          "base_uri": "https://localhost:8080/"
        },
        "id": "MWYNCrdK2hoL",
        "outputId": "4bba1271-ea59-4abc-9f32-65c707bebeb7"
      },
      "outputs": [
        {
          "output_type": "stream",
          "name": "stdout",
          "text": [
            "/content/gdrive/MyDrive/Bloque 2 IA/Estadistica\n",
            " Apuntes.gdoc   Entregable  'Entregable 2'   us2022q2a.csv   usfirms2022.csv\n"
          ]
        }
      ],
      "source": [
        "%cd \"/content/gdrive/MyDrive/Bloque 2 IA/Estadistica\"\n",
        "!ls"
      ]
    },
    {
      "cell_type": "code",
      "execution_count": 3,
      "metadata": {
        "id": "z7wfh99N2nQF"
      },
      "outputs": [],
      "source": [
        "import plotly.express as px\n",
        "import pandas as pd\n",
        "import numpy as np"
      ]
    },
    {
      "cell_type": "markdown",
      "metadata": {
        "id": "3ywgW5ewJ5EW"
      },
      "source": [
        "##Seleccion y limpieza de datos"
      ]
    },
    {
      "cell_type": "code",
      "execution_count": 4,
      "metadata": {
        "id": "1jrVbKay2oaW"
      },
      "outputs": [],
      "source": [
        "df1 = pd.read_csv('us2022q2a.csv')\n",
        "df2 = pd.read_csv('usfirms2022.csv')"
      ]
    },
    {
      "cell_type": "markdown",
      "source": [
        "Dropeamos columnas que son repetidas en el dataset y no nos son utiles para lo que deseamos"
      ],
      "metadata": {
        "id": "cMmYgv4wwoL6"
      }
    },
    {
      "cell_type": "code",
      "execution_count": 5,
      "metadata": {
        "id": "5lQUW1zP2vkP"
      },
      "outputs": [],
      "source": [
        "df1 = df1.drop(['fiscalmonth', 'year', 'cto'], axis=1)\n",
        "df2 = df2.drop(['N', 'Country\\nof Origin', 'Type of Asset'], axis=1)"
      ]
    },
    {
      "cell_type": "markdown",
      "source": [
        "Mergeamos los datos de los dos datasets "
      ],
      "metadata": {
        "id": "BBSAuyqdwtiA"
      }
    },
    {
      "cell_type": "code",
      "execution_count": 106,
      "metadata": {
        "id": "ZN993zEf2q-8",
        "colab": {
          "base_uri": "https://localhost:8080/",
          "height": 594
        },
        "outputId": "4011570d-951e-4a0e-9109-7ae1fd257461"
      },
      "outputs": [
        {
          "output_type": "execute_result",
          "data": {
            "text/plain": [
              "  firm       q    revenue       cogs       sgae  otheropexp  extraincome  \\\n",
              "0    A  2000q1        NaN        NaN        NaN         NaN          NaN   \n",
              "1    A  2000q2  2485000.0  1261000.0  1010000.0         0.0      42000.0   \n",
              "2    A  2000q3  2670000.0  1369000.0  1091000.0         0.0      28000.0   \n",
              "3    A  2000q4  3372000.0  1732000.0  1182000.0         0.0      10000.0   \n",
              "4    A  2001q1  2841000.0  1449000.0  1113000.0         0.0      -6000.0   \n",
              "\n",
              "   finexp  incometax  totalassets  ...  originalprice  sharesoutstanding  \\\n",
              "0     NaN        NaN          NaN  ...       104.0000         452000.000   \n",
              "1     0.0    90000.0    7321000.0  ...        73.7500         452271.967   \n",
              "2     0.0    83000.0    7827000.0  ...        48.9375         453014.579   \n",
              "3     0.0   163000.0    8425000.0  ...        54.7500         456366.381   \n",
              "4     0.0   119000.0    9208000.0  ...        30.7300         456769.737   \n",
              "\n",
              "   Ticker                       Name  Class  Sector NAICS\\nlevel 1  \\\n",
              "0       A  Agilent Technologies, Inc    Com          Manufacturing   \n",
              "1       A  Agilent Technologies, Inc    Com          Manufacturing   \n",
              "2       A  Agilent Technologies, Inc    Com          Manufacturing   \n",
              "3       A  Agilent Technologies, Inc    Com          Manufacturing   \n",
              "4       A  Agilent Technologies, Inc    Com          Manufacturing   \n",
              "\n",
              "   Exchange / Src Sector\\nEconomatica  \\\n",
              "0            NYSE   Electric Electron   \n",
              "1            NYSE   Electric Electron   \n",
              "2            NYSE   Electric Electron   \n",
              "3            NYSE   Electric Electron   \n",
              "4            NYSE   Electric Electron   \n",
              "\n",
              "                        Sector NAICS\\nlast available partind  \n",
              "0  Navigational, Measuring, Electromedical, and C...   0.124  \n",
              "1  Navigational, Measuring, Electromedical, and C...   0.124  \n",
              "2  Navigational, Measuring, Electromedical, and C...   0.124  \n",
              "3  Navigational, Measuring, Electromedical, and C...   0.124  \n",
              "4  Navigational, Measuring, Electromedical, and C...   0.124  \n",
              "\n",
              "[5 rows x 25 columns]"
            ],
            "text/html": [
              "\n",
              "  <div id=\"df-9de2898c-057f-414c-ba49-2ccb20dea020\">\n",
              "    <div class=\"colab-df-container\">\n",
              "      <div>\n",
              "<style scoped>\n",
              "    .dataframe tbody tr th:only-of-type {\n",
              "        vertical-align: middle;\n",
              "    }\n",
              "\n",
              "    .dataframe tbody tr th {\n",
              "        vertical-align: top;\n",
              "    }\n",
              "\n",
              "    .dataframe thead th {\n",
              "        text-align: right;\n",
              "    }\n",
              "</style>\n",
              "<table border=\"1\" class=\"dataframe\">\n",
              "  <thead>\n",
              "    <tr style=\"text-align: right;\">\n",
              "      <th></th>\n",
              "      <th>firm</th>\n",
              "      <th>q</th>\n",
              "      <th>revenue</th>\n",
              "      <th>cogs</th>\n",
              "      <th>sgae</th>\n",
              "      <th>otheropexp</th>\n",
              "      <th>extraincome</th>\n",
              "      <th>finexp</th>\n",
              "      <th>incometax</th>\n",
              "      <th>totalassets</th>\n",
              "      <th>...</th>\n",
              "      <th>originalprice</th>\n",
              "      <th>sharesoutstanding</th>\n",
              "      <th>Ticker</th>\n",
              "      <th>Name</th>\n",
              "      <th>Class</th>\n",
              "      <th>Sector NAICS\\nlevel 1</th>\n",
              "      <th>Exchange / Src</th>\n",
              "      <th>Sector\\nEconomatica</th>\n",
              "      <th>Sector NAICS\\nlast available</th>\n",
              "      <th>partind</th>\n",
              "    </tr>\n",
              "  </thead>\n",
              "  <tbody>\n",
              "    <tr>\n",
              "      <th>0</th>\n",
              "      <td>A</td>\n",
              "      <td>2000q1</td>\n",
              "      <td>NaN</td>\n",
              "      <td>NaN</td>\n",
              "      <td>NaN</td>\n",
              "      <td>NaN</td>\n",
              "      <td>NaN</td>\n",
              "      <td>NaN</td>\n",
              "      <td>NaN</td>\n",
              "      <td>NaN</td>\n",
              "      <td>...</td>\n",
              "      <td>104.0000</td>\n",
              "      <td>452000.000</td>\n",
              "      <td>A</td>\n",
              "      <td>Agilent Technologies, Inc</td>\n",
              "      <td>Com</td>\n",
              "      <td>Manufacturing</td>\n",
              "      <td>NYSE</td>\n",
              "      <td>Electric Electron</td>\n",
              "      <td>Navigational, Measuring, Electromedical, and C...</td>\n",
              "      <td>0.124</td>\n",
              "    </tr>\n",
              "    <tr>\n",
              "      <th>1</th>\n",
              "      <td>A</td>\n",
              "      <td>2000q2</td>\n",
              "      <td>2485000.0</td>\n",
              "      <td>1261000.0</td>\n",
              "      <td>1010000.0</td>\n",
              "      <td>0.0</td>\n",
              "      <td>42000.0</td>\n",
              "      <td>0.0</td>\n",
              "      <td>90000.0</td>\n",
              "      <td>7321000.0</td>\n",
              "      <td>...</td>\n",
              "      <td>73.7500</td>\n",
              "      <td>452271.967</td>\n",
              "      <td>A</td>\n",
              "      <td>Agilent Technologies, Inc</td>\n",
              "      <td>Com</td>\n",
              "      <td>Manufacturing</td>\n",
              "      <td>NYSE</td>\n",
              "      <td>Electric Electron</td>\n",
              "      <td>Navigational, Measuring, Electromedical, and C...</td>\n",
              "      <td>0.124</td>\n",
              "    </tr>\n",
              "    <tr>\n",
              "      <th>2</th>\n",
              "      <td>A</td>\n",
              "      <td>2000q3</td>\n",
              "      <td>2670000.0</td>\n",
              "      <td>1369000.0</td>\n",
              "      <td>1091000.0</td>\n",
              "      <td>0.0</td>\n",
              "      <td>28000.0</td>\n",
              "      <td>0.0</td>\n",
              "      <td>83000.0</td>\n",
              "      <td>7827000.0</td>\n",
              "      <td>...</td>\n",
              "      <td>48.9375</td>\n",
              "      <td>453014.579</td>\n",
              "      <td>A</td>\n",
              "      <td>Agilent Technologies, Inc</td>\n",
              "      <td>Com</td>\n",
              "      <td>Manufacturing</td>\n",
              "      <td>NYSE</td>\n",
              "      <td>Electric Electron</td>\n",
              "      <td>Navigational, Measuring, Electromedical, and C...</td>\n",
              "      <td>0.124</td>\n",
              "    </tr>\n",
              "    <tr>\n",
              "      <th>3</th>\n",
              "      <td>A</td>\n",
              "      <td>2000q4</td>\n",
              "      <td>3372000.0</td>\n",
              "      <td>1732000.0</td>\n",
              "      <td>1182000.0</td>\n",
              "      <td>0.0</td>\n",
              "      <td>10000.0</td>\n",
              "      <td>0.0</td>\n",
              "      <td>163000.0</td>\n",
              "      <td>8425000.0</td>\n",
              "      <td>...</td>\n",
              "      <td>54.7500</td>\n",
              "      <td>456366.381</td>\n",
              "      <td>A</td>\n",
              "      <td>Agilent Technologies, Inc</td>\n",
              "      <td>Com</td>\n",
              "      <td>Manufacturing</td>\n",
              "      <td>NYSE</td>\n",
              "      <td>Electric Electron</td>\n",
              "      <td>Navigational, Measuring, Electromedical, and C...</td>\n",
              "      <td>0.124</td>\n",
              "    </tr>\n",
              "    <tr>\n",
              "      <th>4</th>\n",
              "      <td>A</td>\n",
              "      <td>2001q1</td>\n",
              "      <td>2841000.0</td>\n",
              "      <td>1449000.0</td>\n",
              "      <td>1113000.0</td>\n",
              "      <td>0.0</td>\n",
              "      <td>-6000.0</td>\n",
              "      <td>0.0</td>\n",
              "      <td>119000.0</td>\n",
              "      <td>9208000.0</td>\n",
              "      <td>...</td>\n",
              "      <td>30.7300</td>\n",
              "      <td>456769.737</td>\n",
              "      <td>A</td>\n",
              "      <td>Agilent Technologies, Inc</td>\n",
              "      <td>Com</td>\n",
              "      <td>Manufacturing</td>\n",
              "      <td>NYSE</td>\n",
              "      <td>Electric Electron</td>\n",
              "      <td>Navigational, Measuring, Electromedical, and C...</td>\n",
              "      <td>0.124</td>\n",
              "    </tr>\n",
              "  </tbody>\n",
              "</table>\n",
              "<p>5 rows × 25 columns</p>\n",
              "</div>\n",
              "      <button class=\"colab-df-convert\" onclick=\"convertToInteractive('df-9de2898c-057f-414c-ba49-2ccb20dea020')\"\n",
              "              title=\"Convert this dataframe to an interactive table.\"\n",
              "              style=\"display:none;\">\n",
              "        \n",
              "  <svg xmlns=\"http://www.w3.org/2000/svg\" height=\"24px\"viewBox=\"0 0 24 24\"\n",
              "       width=\"24px\">\n",
              "    <path d=\"M0 0h24v24H0V0z\" fill=\"none\"/>\n",
              "    <path d=\"M18.56 5.44l.94 2.06.94-2.06 2.06-.94-2.06-.94-.94-2.06-.94 2.06-2.06.94zm-11 1L8.5 8.5l.94-2.06 2.06-.94-2.06-.94L8.5 2.5l-.94 2.06-2.06.94zm10 10l.94 2.06.94-2.06 2.06-.94-2.06-.94-.94-2.06-.94 2.06-2.06.94z\"/><path d=\"M17.41 7.96l-1.37-1.37c-.4-.4-.92-.59-1.43-.59-.52 0-1.04.2-1.43.59L10.3 9.45l-7.72 7.72c-.78.78-.78 2.05 0 2.83L4 21.41c.39.39.9.59 1.41.59.51 0 1.02-.2 1.41-.59l7.78-7.78 2.81-2.81c.8-.78.8-2.07 0-2.86zM5.41 20L4 18.59l7.72-7.72 1.47 1.35L5.41 20z\"/>\n",
              "  </svg>\n",
              "      </button>\n",
              "      \n",
              "  <style>\n",
              "    .colab-df-container {\n",
              "      display:flex;\n",
              "      flex-wrap:wrap;\n",
              "      gap: 12px;\n",
              "    }\n",
              "\n",
              "    .colab-df-convert {\n",
              "      background-color: #E8F0FE;\n",
              "      border: none;\n",
              "      border-radius: 50%;\n",
              "      cursor: pointer;\n",
              "      display: none;\n",
              "      fill: #1967D2;\n",
              "      height: 32px;\n",
              "      padding: 0 0 0 0;\n",
              "      width: 32px;\n",
              "    }\n",
              "\n",
              "    .colab-df-convert:hover {\n",
              "      background-color: #E2EBFA;\n",
              "      box-shadow: 0px 1px 2px rgba(60, 64, 67, 0.3), 0px 1px 3px 1px rgba(60, 64, 67, 0.15);\n",
              "      fill: #174EA6;\n",
              "    }\n",
              "\n",
              "    [theme=dark] .colab-df-convert {\n",
              "      background-color: #3B4455;\n",
              "      fill: #D2E3FC;\n",
              "    }\n",
              "\n",
              "    [theme=dark] .colab-df-convert:hover {\n",
              "      background-color: #434B5C;\n",
              "      box-shadow: 0px 1px 3px 1px rgba(0, 0, 0, 0.15);\n",
              "      filter: drop-shadow(0px 1px 2px rgba(0, 0, 0, 0.3));\n",
              "      fill: #FFFFFF;\n",
              "    }\n",
              "  </style>\n",
              "\n",
              "      <script>\n",
              "        const buttonEl =\n",
              "          document.querySelector('#df-9de2898c-057f-414c-ba49-2ccb20dea020 button.colab-df-convert');\n",
              "        buttonEl.style.display =\n",
              "          google.colab.kernel.accessAllowed ? 'block' : 'none';\n",
              "\n",
              "        async function convertToInteractive(key) {\n",
              "          const element = document.querySelector('#df-9de2898c-057f-414c-ba49-2ccb20dea020');\n",
              "          const dataTable =\n",
              "            await google.colab.kernel.invokeFunction('convertToInteractive',\n",
              "                                                     [key], {});\n",
              "          if (!dataTable) return;\n",
              "\n",
              "          const docLinkHtml = 'Like what you see? Visit the ' +\n",
              "            '<a target=\"_blank\" href=https://colab.research.google.com/notebooks/data_table.ipynb>data table notebook</a>'\n",
              "            + ' to learn more about interactive tables.';\n",
              "          element.innerHTML = '';\n",
              "          dataTable['output_type'] = 'display_data';\n",
              "          await google.colab.output.renderOutput(dataTable, element);\n",
              "          const docLink = document.createElement('div');\n",
              "          docLink.innerHTML = docLinkHtml;\n",
              "          element.appendChild(docLink);\n",
              "        }\n",
              "      </script>\n",
              "    </div>\n",
              "  </div>\n",
              "  "
            ]
          },
          "metadata": {},
          "execution_count": 106
        }
      ],
      "source": [
        "df_merge = df1.merge(df2, left_on='firm', right_on='Ticker')\n",
        "df_merge.head()"
      ]
    },
    {
      "cell_type": "markdown",
      "source": [
        "Dropeamos los servicios que no son industriales"
      ],
      "metadata": {
        "id": "1OiOT5Ihwzue"
      }
    },
    {
      "cell_type": "code",
      "execution_count": 7,
      "metadata": {
        "id": "20NJAwhkWDja"
      },
      "outputs": [],
      "source": [
        "df2_services = df_merge.copy()\n",
        "df2_services = df2_services.drop(df2_services[(df2_services['Sector NAICS\\nlevel 1'] == 'Manufacturing')].index)\n",
        "df2_services = df2_services.drop(df2_services[(df2_services['Sector NAICS\\nlevel 1'] == 'Finance and Insurance')].index)\n",
        "df2_services = df2_services.drop(df2_services[(df2_services['Sector NAICS\\nlevel 1'] == 'Information')].index)\n",
        "df2_services = df2_services.drop(df2_services[(df2_services['Sector NAICS\\nlevel 1'] == 'Retail Trade')].index)\n",
        "df2_services = df2_services.drop(df2_services[(df2_services['Sector NAICS\\nlevel 1'] == 'Mining, Quarrying, and Oil and Gas Extraction')].index)\n",
        "df2_services = df2_services.drop(df2_services[(df2_services['Sector NAICS\\nlevel 1'] == 'Wholesale Trade')].index)\n",
        "df2_services = df2_services.drop(df2_services[(df2_services['Sector NAICS\\nlevel 1'] == 'Utilities')].index)\n",
        "df2_services = df2_services.drop(df2_services[(df2_services['Sector NAICS\\nlevel 1'] == 'Transportation and Warehousing')].index)\n",
        "df2_services = df2_services.drop(df2_services[(df2_services['Sector NAICS\\nlevel 1'] == 'Real Estate and Rental and Leasing')].index)\n",
        "df2_services = df2_services.drop(df2_services[(df2_services['Sector NAICS\\nlevel 1'] == 'Health Care and Social Assistance')].index)\n",
        "df2_services = df2_services.drop(df2_services[(df2_services['Sector NAICS\\nlevel 1'] == 'Construction')].index)\n",
        "df2_services = df2_services.drop(df2_services[(df2_services['Sector NAICS\\nlevel 1'] == 'Arts, Entertainment, and Recreation')].index)\n",
        "df2_services = df2_services.drop(df2_services[(df2_services['Sector NAICS\\nlevel 1'] == '-')].index)\n",
        "df2_services = df2_services.drop(df2_services[(df2_services['Sector NAICS\\nlevel 1'] == 'Agriculture, Forestry, Fishing and Hunting')].index)"
      ]
    },
    {
      "cell_type": "markdown",
      "source": [
        "Obtenemos las R de cada registro "
      ],
      "metadata": {
        "id": "CXewosFTxjgs"
      }
    },
    {
      "cell_type": "code",
      "execution_count": 8,
      "metadata": {
        "id": "i7M0Yv1C37gm"
      },
      "outputs": [],
      "source": [
        "df2_services['R'] = np.log(df2_services.groupby(['firm'])['adjprice'].shift(-1)) - np.log(df2_services.groupby(['firm'])['adjprice'].shift(3))"
      ]
    },
    {
      "cell_type": "markdown",
      "source": [
        "Dropeamos todos los datos, a excepcion de el ultimo cuartil"
      ],
      "metadata": {
        "id": "_Yj3fjUaxoHn"
      }
    },
    {
      "cell_type": "code",
      "execution_count": 9,
      "metadata": {
        "id": "eD8cOm_Y21p6"
      },
      "outputs": [],
      "source": [
        "df_mask = df2_services['q'] == '2022q1'\n",
        "df3 = df2_services[df_mask]"
      ]
    },
    {
      "cell_type": "markdown",
      "source": [
        "Dropeamos columnas que no se usaran en los calculos de nuestras variables independientes"
      ],
      "metadata": {
        "id": "TEekal1exwnA"
      }
    },
    {
      "cell_type": "code",
      "execution_count": 10,
      "metadata": {
        "id": "vrC1WgFSWjLE"
      },
      "outputs": [],
      "source": [
        "df3 = df3.drop(\n",
        "    [\n",
        "        'extraincome', \n",
        "        'shortdebt', \n",
        "        'longdebt', \n",
        "        'stockholderequity', \n",
        "        'Ticker', \n",
        "        'Name', \n",
        "        'Class',\n",
        "        'Exchange / Src',\n",
        "        'Sector\\nEconomatica',\n",
        "        'Sector NAICS\\nlast available',\n",
        "        'partind'\n",
        "      ],\n",
        "       axis=1)"
      ]
    },
    {
      "cell_type": "code",
      "source": [
        "df3.head()"
      ],
      "metadata": {
        "colab": {
          "base_uri": "https://localhost:8080/",
          "height": 594
        },
        "id": "Q3tuATynxdnF",
        "outputId": "a0cb3367-cd7f-449d-c018-2fa6da614516"
      },
      "execution_count": 107,
      "outputs": [
        {
          "output_type": "execute_result",
          "data": {
            "text/plain": [
              "      firm       q    revenue       cogs      sgae  otheropexp   finexp  \\\n",
              "1525   ABM  2022q1  1936200.0  1659600.0  170600.0         0.0   6200.0   \n",
              "1702  ABNB  2022q1  1508937.0   362623.0  918116.0    233329.0   1020.0   \n",
              "2692  ACCD  2022q1    93756.0    43593.0   87109.0     -7134.0    768.0   \n",
              "3502   ACM  2022q1  3213658.0  3003706.0   37098.0     73292.0  24173.0   \n",
              "4402  ACVA  2022q1   103065.0    60888.0   38437.0     32829.0    210.0   \n",
              "\n",
              "      incometax  totalassets  totalliabilities  ...  \\\n",
              "1525    24300.0    4504900.0         2849600.0  ...   \n",
              "1702    10706.0   17068442.0        12331026.0  ...   \n",
              "2692     3862.0    1285529.0          429735.0  ...   \n",
              "3502    36011.0   11196063.0         8546410.0  ...   \n",
              "4402      240.0    1019344.0          485722.0  ...   \n",
              "\n",
              "                                  Sector NAICS\\nlevel 1         R       Book  \\\n",
              "1525  Administrative and Support and Waste Managemen... -0.008253  1655300.0   \n",
              "1702  Administrative and Support and Waste Managemen... -0.541818  4737416.0   \n",
              "2692  Administrative and Support and Waste Managemen... -1.993228   855794.0   \n",
              "3502   Professional, Scientific, and Technical Services  0.033485  2649653.0   \n",
              "4402  Administrative and Support and Waste Managemen... -1.365826   533622.0   \n",
              "\n",
              "            Market      EBIT  NetIncome       EPS      EPSP       OPM  \\\n",
              "1525  3.078651e+06  106000.0    75500.0  1.129072  0.024524  0.054746   \n",
              "1702  1.088397e+08   -5131.0   -16857.0 -0.026602 -0.000155 -0.003400   \n",
              "2692  1.175789e+06  -29812.0   -34442.0 -0.514379 -0.029293 -0.317974   \n",
              "3502  1.085654e+07   99562.0    39378.0  0.278599  0.003627  0.030981   \n",
              "4402  2.314308e+06  -29089.0   -29539.0 -0.189030 -0.012764 -0.282239   \n",
              "\n",
              "      Book_to_Market_ratio  \n",
              "1525              0.537670  \n",
              "1702              0.043527  \n",
              "2692              0.727846  \n",
              "3502              0.244061  \n",
              "4402              0.230575  \n",
              "\n",
              "[5 rows x 23 columns]"
            ],
            "text/html": [
              "\n",
              "  <div id=\"df-203ec712-7e64-41b3-a00f-205af734aad5\">\n",
              "    <div class=\"colab-df-container\">\n",
              "      <div>\n",
              "<style scoped>\n",
              "    .dataframe tbody tr th:only-of-type {\n",
              "        vertical-align: middle;\n",
              "    }\n",
              "\n",
              "    .dataframe tbody tr th {\n",
              "        vertical-align: top;\n",
              "    }\n",
              "\n",
              "    .dataframe thead th {\n",
              "        text-align: right;\n",
              "    }\n",
              "</style>\n",
              "<table border=\"1\" class=\"dataframe\">\n",
              "  <thead>\n",
              "    <tr style=\"text-align: right;\">\n",
              "      <th></th>\n",
              "      <th>firm</th>\n",
              "      <th>q</th>\n",
              "      <th>revenue</th>\n",
              "      <th>cogs</th>\n",
              "      <th>sgae</th>\n",
              "      <th>otheropexp</th>\n",
              "      <th>finexp</th>\n",
              "      <th>incometax</th>\n",
              "      <th>totalassets</th>\n",
              "      <th>totalliabilities</th>\n",
              "      <th>...</th>\n",
              "      <th>Sector NAICS\\nlevel 1</th>\n",
              "      <th>R</th>\n",
              "      <th>Book</th>\n",
              "      <th>Market</th>\n",
              "      <th>EBIT</th>\n",
              "      <th>NetIncome</th>\n",
              "      <th>EPS</th>\n",
              "      <th>EPSP</th>\n",
              "      <th>OPM</th>\n",
              "      <th>Book_to_Market_ratio</th>\n",
              "    </tr>\n",
              "  </thead>\n",
              "  <tbody>\n",
              "    <tr>\n",
              "      <th>1525</th>\n",
              "      <td>ABM</td>\n",
              "      <td>2022q1</td>\n",
              "      <td>1936200.0</td>\n",
              "      <td>1659600.0</td>\n",
              "      <td>170600.0</td>\n",
              "      <td>0.0</td>\n",
              "      <td>6200.0</td>\n",
              "      <td>24300.0</td>\n",
              "      <td>4504900.0</td>\n",
              "      <td>2849600.0</td>\n",
              "      <td>...</td>\n",
              "      <td>Administrative and Support and Waste Managemen...</td>\n",
              "      <td>-0.008253</td>\n",
              "      <td>1655300.0</td>\n",
              "      <td>3.078651e+06</td>\n",
              "      <td>106000.0</td>\n",
              "      <td>75500.0</td>\n",
              "      <td>1.129072</td>\n",
              "      <td>0.024524</td>\n",
              "      <td>0.054746</td>\n",
              "      <td>0.537670</td>\n",
              "    </tr>\n",
              "    <tr>\n",
              "      <th>1702</th>\n",
              "      <td>ABNB</td>\n",
              "      <td>2022q1</td>\n",
              "      <td>1508937.0</td>\n",
              "      <td>362623.0</td>\n",
              "      <td>918116.0</td>\n",
              "      <td>233329.0</td>\n",
              "      <td>1020.0</td>\n",
              "      <td>10706.0</td>\n",
              "      <td>17068442.0</td>\n",
              "      <td>12331026.0</td>\n",
              "      <td>...</td>\n",
              "      <td>Administrative and Support and Waste Managemen...</td>\n",
              "      <td>-0.541818</td>\n",
              "      <td>4737416.0</td>\n",
              "      <td>1.088397e+08</td>\n",
              "      <td>-5131.0</td>\n",
              "      <td>-16857.0</td>\n",
              "      <td>-0.026602</td>\n",
              "      <td>-0.000155</td>\n",
              "      <td>-0.003400</td>\n",
              "      <td>0.043527</td>\n",
              "    </tr>\n",
              "    <tr>\n",
              "      <th>2692</th>\n",
              "      <td>ACCD</td>\n",
              "      <td>2022q1</td>\n",
              "      <td>93756.0</td>\n",
              "      <td>43593.0</td>\n",
              "      <td>87109.0</td>\n",
              "      <td>-7134.0</td>\n",
              "      <td>768.0</td>\n",
              "      <td>3862.0</td>\n",
              "      <td>1285529.0</td>\n",
              "      <td>429735.0</td>\n",
              "      <td>...</td>\n",
              "      <td>Administrative and Support and Waste Managemen...</td>\n",
              "      <td>-1.993228</td>\n",
              "      <td>855794.0</td>\n",
              "      <td>1.175789e+06</td>\n",
              "      <td>-29812.0</td>\n",
              "      <td>-34442.0</td>\n",
              "      <td>-0.514379</td>\n",
              "      <td>-0.029293</td>\n",
              "      <td>-0.317974</td>\n",
              "      <td>0.727846</td>\n",
              "    </tr>\n",
              "    <tr>\n",
              "      <th>3502</th>\n",
              "      <td>ACM</td>\n",
              "      <td>2022q1</td>\n",
              "      <td>3213658.0</td>\n",
              "      <td>3003706.0</td>\n",
              "      <td>37098.0</td>\n",
              "      <td>73292.0</td>\n",
              "      <td>24173.0</td>\n",
              "      <td>36011.0</td>\n",
              "      <td>11196063.0</td>\n",
              "      <td>8546410.0</td>\n",
              "      <td>...</td>\n",
              "      <td>Professional, Scientific, and Technical Services</td>\n",
              "      <td>0.033485</td>\n",
              "      <td>2649653.0</td>\n",
              "      <td>1.085654e+07</td>\n",
              "      <td>99562.0</td>\n",
              "      <td>39378.0</td>\n",
              "      <td>0.278599</td>\n",
              "      <td>0.003627</td>\n",
              "      <td>0.030981</td>\n",
              "      <td>0.244061</td>\n",
              "    </tr>\n",
              "    <tr>\n",
              "      <th>4402</th>\n",
              "      <td>ACVA</td>\n",
              "      <td>2022q1</td>\n",
              "      <td>103065.0</td>\n",
              "      <td>60888.0</td>\n",
              "      <td>38437.0</td>\n",
              "      <td>32829.0</td>\n",
              "      <td>210.0</td>\n",
              "      <td>240.0</td>\n",
              "      <td>1019344.0</td>\n",
              "      <td>485722.0</td>\n",
              "      <td>...</td>\n",
              "      <td>Administrative and Support and Waste Managemen...</td>\n",
              "      <td>-1.365826</td>\n",
              "      <td>533622.0</td>\n",
              "      <td>2.314308e+06</td>\n",
              "      <td>-29089.0</td>\n",
              "      <td>-29539.0</td>\n",
              "      <td>-0.189030</td>\n",
              "      <td>-0.012764</td>\n",
              "      <td>-0.282239</td>\n",
              "      <td>0.230575</td>\n",
              "    </tr>\n",
              "  </tbody>\n",
              "</table>\n",
              "<p>5 rows × 23 columns</p>\n",
              "</div>\n",
              "      <button class=\"colab-df-convert\" onclick=\"convertToInteractive('df-203ec712-7e64-41b3-a00f-205af734aad5')\"\n",
              "              title=\"Convert this dataframe to an interactive table.\"\n",
              "              style=\"display:none;\">\n",
              "        \n",
              "  <svg xmlns=\"http://www.w3.org/2000/svg\" height=\"24px\"viewBox=\"0 0 24 24\"\n",
              "       width=\"24px\">\n",
              "    <path d=\"M0 0h24v24H0V0z\" fill=\"none\"/>\n",
              "    <path d=\"M18.56 5.44l.94 2.06.94-2.06 2.06-.94-2.06-.94-.94-2.06-.94 2.06-2.06.94zm-11 1L8.5 8.5l.94-2.06 2.06-.94-2.06-.94L8.5 2.5l-.94 2.06-2.06.94zm10 10l.94 2.06.94-2.06 2.06-.94-2.06-.94-.94-2.06-.94 2.06-2.06.94z\"/><path d=\"M17.41 7.96l-1.37-1.37c-.4-.4-.92-.59-1.43-.59-.52 0-1.04.2-1.43.59L10.3 9.45l-7.72 7.72c-.78.78-.78 2.05 0 2.83L4 21.41c.39.39.9.59 1.41.59.51 0 1.02-.2 1.41-.59l7.78-7.78 2.81-2.81c.8-.78.8-2.07 0-2.86zM5.41 20L4 18.59l7.72-7.72 1.47 1.35L5.41 20z\"/>\n",
              "  </svg>\n",
              "      </button>\n",
              "      \n",
              "  <style>\n",
              "    .colab-df-container {\n",
              "      display:flex;\n",
              "      flex-wrap:wrap;\n",
              "      gap: 12px;\n",
              "    }\n",
              "\n",
              "    .colab-df-convert {\n",
              "      background-color: #E8F0FE;\n",
              "      border: none;\n",
              "      border-radius: 50%;\n",
              "      cursor: pointer;\n",
              "      display: none;\n",
              "      fill: #1967D2;\n",
              "      height: 32px;\n",
              "      padding: 0 0 0 0;\n",
              "      width: 32px;\n",
              "    }\n",
              "\n",
              "    .colab-df-convert:hover {\n",
              "      background-color: #E2EBFA;\n",
              "      box-shadow: 0px 1px 2px rgba(60, 64, 67, 0.3), 0px 1px 3px 1px rgba(60, 64, 67, 0.15);\n",
              "      fill: #174EA6;\n",
              "    }\n",
              "\n",
              "    [theme=dark] .colab-df-convert {\n",
              "      background-color: #3B4455;\n",
              "      fill: #D2E3FC;\n",
              "    }\n",
              "\n",
              "    [theme=dark] .colab-df-convert:hover {\n",
              "      background-color: #434B5C;\n",
              "      box-shadow: 0px 1px 3px 1px rgba(0, 0, 0, 0.15);\n",
              "      filter: drop-shadow(0px 1px 2px rgba(0, 0, 0, 0.3));\n",
              "      fill: #FFFFFF;\n",
              "    }\n",
              "  </style>\n",
              "\n",
              "      <script>\n",
              "        const buttonEl =\n",
              "          document.querySelector('#df-203ec712-7e64-41b3-a00f-205af734aad5 button.colab-df-convert');\n",
              "        buttonEl.style.display =\n",
              "          google.colab.kernel.accessAllowed ? 'block' : 'none';\n",
              "\n",
              "        async function convertToInteractive(key) {\n",
              "          const element = document.querySelector('#df-203ec712-7e64-41b3-a00f-205af734aad5');\n",
              "          const dataTable =\n",
              "            await google.colab.kernel.invokeFunction('convertToInteractive',\n",
              "                                                     [key], {});\n",
              "          if (!dataTable) return;\n",
              "\n",
              "          const docLinkHtml = 'Like what you see? Visit the ' +\n",
              "            '<a target=\"_blank\" href=https://colab.research.google.com/notebooks/data_table.ipynb>data table notebook</a>'\n",
              "            + ' to learn more about interactive tables.';\n",
              "          element.innerHTML = '';\n",
              "          dataTable['output_type'] = 'display_data';\n",
              "          await google.colab.output.renderOutput(dataTable, element);\n",
              "          const docLink = document.createElement('div');\n",
              "          docLink.innerHTML = docLinkHtml;\n",
              "          element.appendChild(docLink);\n",
              "        }\n",
              "      </script>\n",
              "    </div>\n",
              "  </div>\n",
              "  "
            ]
          },
          "metadata": {},
          "execution_count": 107
        }
      ]
    },
    {
      "cell_type": "code",
      "source": [
        "df3['R'].isna().sum()"
      ],
      "metadata": {
        "colab": {
          "base_uri": "https://localhost:8080/"
        },
        "id": "naz7l_rSw-pp",
        "outputId": "35f9edb6-637a-4665-c657-6cd7c35b4bc0"
      },
      "execution_count": 12,
      "outputs": [
        {
          "output_type": "execute_result",
          "data": {
            "text/plain": [
              "29"
            ]
          },
          "metadata": {},
          "execution_count": 12
        }
      ]
    },
    {
      "cell_type": "markdown",
      "source": [
        "Revisamos las variables con las que obtendremos OPM, book_to_market y EPSP, eliminando los registros nulos y ceros para no entorpecer las operaciones "
      ],
      "metadata": {
        "id": "zrpfbzEqywzG"
      }
    },
    {
      "cell_type": "code",
      "source": [
        "df3['revenue'].isna().sum()"
      ],
      "metadata": {
        "colab": {
          "base_uri": "https://localhost:8080/"
        },
        "id": "tFnMD7WOxOEj",
        "outputId": "99bcdfce-134d-44d9-f1fa-06cb3276aecb"
      },
      "execution_count": 13,
      "outputs": [
        {
          "output_type": "execute_result",
          "data": {
            "text/plain": [
              "5"
            ]
          },
          "metadata": {},
          "execution_count": 13
        }
      ]
    },
    {
      "cell_type": "code",
      "source": [
        "df3['revenue'].describe()"
      ],
      "metadata": {
        "colab": {
          "base_uri": "https://localhost:8080/"
        },
        "id": "iiDDbXCBx-I8",
        "outputId": "cce4e21a-da99-4d83-a679-418eadb65e85"
      },
      "execution_count": 14,
      "outputs": [
        {
          "output_type": "execute_result",
          "data": {
            "text/plain": [
              "count    3.720000e+02\n",
              "mean     9.212180e+05\n",
              "std      3.942143e+06\n",
              "min      0.000000e+00\n",
              "25%      6.649075e+04\n",
              "50%      1.981825e+05\n",
              "75%      7.438012e+05\n",
              "max      6.801100e+07\n",
              "Name: revenue, dtype: float64"
            ]
          },
          "metadata": {},
          "execution_count": 14
        }
      ]
    },
    {
      "cell_type": "code",
      "source": [
        "df_mask = df3['revenue'] > 0\n",
        "df3 = df3[df_mask]"
      ],
      "metadata": {
        "id": "axCzCj5UyEuv"
      },
      "execution_count": 15,
      "outputs": []
    },
    {
      "cell_type": "code",
      "source": [
        "df3['revenue'].isna().sum()"
      ],
      "metadata": {
        "colab": {
          "base_uri": "https://localhost:8080/"
        },
        "id": "ajTdLWSzzL9K",
        "outputId": "30c024e9-bade-4fd9-9a79-09fdf6cb31e9"
      },
      "execution_count": 16,
      "outputs": [
        {
          "output_type": "execute_result",
          "data": {
            "text/plain": [
              "0"
            ]
          },
          "metadata": {},
          "execution_count": 16
        }
      ]
    },
    {
      "cell_type": "code",
      "source": [
        "df3['sharesoutstanding'].isna().sum()"
      ],
      "metadata": {
        "colab": {
          "base_uri": "https://localhost:8080/"
        },
        "id": "_fk6zK-rxv1M",
        "outputId": "5cf83d96-69b3-47f0-bb15-c4f6c280ff1a"
      },
      "execution_count": 17,
      "outputs": [
        {
          "output_type": "execute_result",
          "data": {
            "text/plain": [
              "1"
            ]
          },
          "metadata": {},
          "execution_count": 17
        }
      ]
    },
    {
      "cell_type": "code",
      "source": [
        "df3['sharesoutstanding'].describe()"
      ],
      "metadata": {
        "colab": {
          "base_uri": "https://localhost:8080/"
        },
        "id": "mlhLyvywyPjR",
        "outputId": "6d890555-94c7-43ad-e0d7-aa9c252d0cb9"
      },
      "execution_count": 18,
      "outputs": [
        {
          "output_type": "execute_result",
          "data": {
            "text/plain": [
              "count    3.670000e+02\n",
              "mean     1.407183e+05\n",
              "std      2.641917e+05\n",
              "min      1.786296e+03\n",
              "25%      2.958531e+04\n",
              "50%      5.722365e+04\n",
              "75%      1.400198e+05\n",
              "max      2.721942e+06\n",
              "Name: sharesoutstanding, dtype: float64"
            ]
          },
          "metadata": {},
          "execution_count": 18
        }
      ]
    },
    {
      "cell_type": "code",
      "source": [
        "df_mask = df3['sharesoutstanding'] >= 0\n",
        "df3 = df3[df_mask]"
      ],
      "metadata": {
        "id": "z1wrucrLySWo"
      },
      "execution_count": 19,
      "outputs": []
    },
    {
      "cell_type": "code",
      "source": [
        "df3['sharesoutstanding'].isna().sum()"
      ],
      "metadata": {
        "colab": {
          "base_uri": "https://localhost:8080/"
        },
        "id": "cAFMf8wZyfJm",
        "outputId": "6a5a097e-20c1-49d4-e92f-799c11cb5a46"
      },
      "execution_count": 20,
      "outputs": [
        {
          "output_type": "execute_result",
          "data": {
            "text/plain": [
              "0"
            ]
          },
          "metadata": {},
          "execution_count": 20
        }
      ]
    },
    {
      "cell_type": "code",
      "source": [
        "df3['originalprice'].isna().sum()"
      ],
      "metadata": {
        "colab": {
          "base_uri": "https://localhost:8080/"
        },
        "id": "SXmDQt2CxtX8",
        "outputId": "16026f4e-1a16-4850-ef81-7e4d7752d773"
      },
      "execution_count": 21,
      "outputs": [
        {
          "output_type": "execute_result",
          "data": {
            "text/plain": [
              "1"
            ]
          },
          "metadata": {},
          "execution_count": 21
        }
      ]
    },
    {
      "cell_type": "code",
      "source": [
        "df3['originalprice'].describe()"
      ],
      "metadata": {
        "colab": {
          "base_uri": "https://localhost:8080/"
        },
        "id": "bDqrxOmaym6q",
        "outputId": "ee45e356-6a2d-4eec-db06-9401816ee4e7"
      },
      "execution_count": 22,
      "outputs": [
        {
          "output_type": "execute_result",
          "data": {
            "text/plain": [
              "count     366.000000\n",
              "mean       75.408607\n",
              "std       217.109625\n",
              "min         0.260000\n",
              "25%        10.522500\n",
              "50%        29.585000\n",
              "75%        77.442500\n",
              "max      2781.350000\n",
              "Name: originalprice, dtype: float64"
            ]
          },
          "metadata": {},
          "execution_count": 22
        }
      ]
    },
    {
      "cell_type": "code",
      "source": [
        "df_mask = df3['originalprice'] >= 0\n",
        "df3 = df3[df_mask]"
      ],
      "metadata": {
        "id": "vKrAGqAHypvY"
      },
      "execution_count": 23,
      "outputs": []
    },
    {
      "cell_type": "code",
      "source": [
        "df3['originalprice'].isna().sum()"
      ],
      "metadata": {
        "colab": {
          "base_uri": "https://localhost:8080/"
        },
        "id": "zaoF3U27yusp",
        "outputId": "22895ed2-9b2f-441a-ac42-3baed980e017"
      },
      "execution_count": 24,
      "outputs": [
        {
          "output_type": "execute_result",
          "data": {
            "text/plain": [
              "0"
            ]
          },
          "metadata": {},
          "execution_count": 24
        }
      ]
    },
    {
      "cell_type": "markdown",
      "source": [
        "Calculamos Book to market ratio, epsp y opm a partir de los datos"
      ],
      "metadata": {
        "id": "noikcDsmx6QH"
      }
    },
    {
      "cell_type": "code",
      "execution_count": 25,
      "metadata": {
        "id": "bRF_A4gUUL-N"
      },
      "outputs": [],
      "source": [
        "df3['Book'] = df3['totalassets'] - df3['totalliabilities']\n",
        "df3['Market'] = df3['originalprice'] * df3['sharesoutstanding']\n",
        "\n",
        "\n",
        "df3['EBIT'] = df3['revenue'] - df3['cogs'] - df3['sgae'] - df3['otheropexp']\n",
        "df3['NetIncome'] = df3['EBIT'] - df3['incometax'] - df3['finexp']\n",
        "df3['EPS'] = df3['NetIncome'] / df3['sharesoutstanding']\n",
        "\n",
        "\n",
        "df3['EPSP'] = df3['EPS'] / df3['originalprice']\n",
        "df3['OPM'] = df3['EBIT'] / df3['revenue']\n",
        "df3['Book_to_Market_ratio'] = df3['Book'] / df3['Market']"
      ]
    },
    {
      "cell_type": "markdown",
      "source": [
        "Dropeamos los nan en las variables de R, OPM, EPSP Y Book_to_Market_ratio"
      ],
      "metadata": {
        "id": "oowK_brkyAfD"
      }
    },
    {
      "cell_type": "code",
      "source": [
        "df3['R'].isna().sum()"
      ],
      "metadata": {
        "colab": {
          "base_uri": "https://localhost:8080/"
        },
        "id": "c-u17Evp0RKf",
        "outputId": "311d9147-4c93-4b1c-aa2f-2785545653e2"
      },
      "execution_count": 26,
      "outputs": [
        {
          "output_type": "execute_result",
          "data": {
            "text/plain": [
              "23"
            ]
          },
          "metadata": {},
          "execution_count": 26
        }
      ]
    },
    {
      "cell_type": "code",
      "execution_count": 27,
      "metadata": {
        "id": "BBgNkvOAxTu2",
        "colab": {
          "base_uri": "https://localhost:8080/"
        },
        "outputId": "ac88e41d-f27c-49fd-f3c0-cbe14d675fc7"
      },
      "outputs": [
        {
          "output_type": "execute_result",
          "data": {
            "text/plain": [
              "count    343.000000\n",
              "mean      -0.496691\n",
              "std        0.638242\n",
              "min       -3.482115\n",
              "25%       -0.774205\n",
              "50%       -0.320379\n",
              "75%       -0.079993\n",
              "max        1.591808\n",
              "Name: R, dtype: float64"
            ]
          },
          "metadata": {},
          "execution_count": 27
        }
      ],
      "source": [
        "df3['R'].describe()"
      ]
    },
    {
      "cell_type": "code",
      "execution_count": 28,
      "metadata": {
        "id": "-RugcarNtHlA"
      },
      "outputs": [],
      "source": [
        "df_mask = df3['R'] >= -5\n",
        "df3 = df3[df_mask]"
      ]
    },
    {
      "cell_type": "code",
      "source": [
        "df3['R'].isna().sum()"
      ],
      "metadata": {
        "colab": {
          "base_uri": "https://localhost:8080/"
        },
        "id": "L3fuQ_TW0iOo",
        "outputId": "98799f59-c4c5-4dc1-ffb5-6c4be80cfcf2"
      },
      "execution_count": 29,
      "outputs": [
        {
          "output_type": "execute_result",
          "data": {
            "text/plain": [
              "0"
            ]
          },
          "metadata": {},
          "execution_count": 29
        }
      ]
    },
    {
      "cell_type": "code",
      "source": [
        "df3['EPSP'].isna().sum()"
      ],
      "metadata": {
        "colab": {
          "base_uri": "https://localhost:8080/"
        },
        "id": "c10vlnsQ0qh9",
        "outputId": "0e0a2791-c873-4746-e97f-886f78a5a1e9"
      },
      "execution_count": 30,
      "outputs": [
        {
          "output_type": "execute_result",
          "data": {
            "text/plain": [
              "0"
            ]
          },
          "metadata": {},
          "execution_count": 30
        }
      ]
    },
    {
      "cell_type": "code",
      "source": [
        "df3['Book_to_Market_ratio'].isna().sum()"
      ],
      "metadata": {
        "colab": {
          "base_uri": "https://localhost:8080/"
        },
        "id": "4ZcPmTZw0uC6",
        "outputId": "ec9cf39e-3cb5-408d-fa71-e04283bda248"
      },
      "execution_count": 31,
      "outputs": [
        {
          "output_type": "execute_result",
          "data": {
            "text/plain": [
              "0"
            ]
          },
          "metadata": {},
          "execution_count": 31
        }
      ]
    },
    {
      "cell_type": "code",
      "source": [
        "df3['OPM'].isna().sum()"
      ],
      "metadata": {
        "colab": {
          "base_uri": "https://localhost:8080/"
        },
        "id": "Gs6Wu2qM0xpp",
        "outputId": "05cbd7d6-d477-4a40-cb85-2a37e49e2ad7"
      },
      "execution_count": 32,
      "outputs": [
        {
          "output_type": "execute_result",
          "data": {
            "text/plain": [
              "0"
            ]
          },
          "metadata": {},
          "execution_count": 32
        }
      ]
    },
    {
      "cell_type": "code",
      "source": [
        "df_clean_3 = df3.copy()"
      ],
      "metadata": {
        "id": "OJ36xuaX01uB"
      },
      "execution_count": 33,
      "outputs": []
    },
    {
      "cell_type": "markdown",
      "source": [
        "Sorteamos los datos por mercado"
      ],
      "metadata": {
        "id": "dm3QCsLryGZG"
      }
    },
    {
      "cell_type": "code",
      "execution_count": 34,
      "metadata": {
        "id": "O6ZStNeCjnsv"
      },
      "outputs": [],
      "source": [
        "df_clean_3 = df_clean_3.sort_values(by = 'Market')"
      ]
    },
    {
      "cell_type": "code",
      "execution_count": 35,
      "metadata": {
        "id": "uKuPErAGlbXB"
      },
      "outputs": [],
      "source": [
        "df_clean_3 = df_clean_3.reset_index()\n",
        "df_clean_3 = df_clean_3.drop(['index'], axis = 1)"
      ]
    },
    {
      "cell_type": "code",
      "execution_count": 36,
      "metadata": {
        "id": "2ZhAZDF-nHiu"
      },
      "outputs": [],
      "source": [
        "df_clean_3 = df_clean_3.reset_index()"
      ]
    },
    {
      "cell_type": "markdown",
      "source": [
        "Asignamos las varuables dummys para obtener las grandes, medianas y grandes empresas"
      ],
      "metadata": {
        "id": "6bU_u5JSyJb6"
      }
    },
    {
      "cell_type": "code",
      "execution_count": 37,
      "metadata": {
        "id": "m0LgsKSOnbjs"
      },
      "outputs": [],
      "source": [
        "df_clean_3[\"isSmall\"] = df_clean_3.index <= len(df_clean_3) / 3\n",
        "df_clean_3[\"isSmall\"] = df_clean_3[\"isSmall\"].astype(int)\n",
        "\n",
        "df_clean_3[\"isMedium\"] = (df_clean_3.index <= (2 * len(df_clean_3) / 3)) & (df_clean_3.index > (len(df_clean_3) / 3))\n",
        "df_clean_3[\"isMedium\"] = df_clean_3[\"isMedium\"].astype(int)"
      ]
    },
    {
      "cell_type": "markdown",
      "source": [
        "Guardamos las variables que usaremos para el calculo matricial"
      ],
      "metadata": {
        "id": "oiaBexcGyQwN"
      }
    },
    {
      "cell_type": "code",
      "source": [
        "Variables = df_clean_3[['EPSP', 'OPM', 'Book_to_Market_ratio', 'isSmall', 'isMedium', 'R']]\n",
        "Variables_mat = Variables.cov().to_numpy()"
      ],
      "metadata": {
        "id": "1u02xXg6Ue4e"
      },
      "execution_count": 38,
      "outputs": []
    },
    {
      "cell_type": "markdown",
      "source": [
        "Dividimos las variables en 'X' y 'y'"
      ],
      "metadata": {
        "id": "E_vuf_4oyUnf"
      }
    },
    {
      "cell_type": "code",
      "execution_count": 39,
      "metadata": {
        "id": "N_wddFbmVCCC"
      },
      "outputs": [],
      "source": [
        "X = df_clean_3[['EPSP', 'OPM', 'Book_to_Market_ratio', 'isSmall', 'isMedium']]\n",
        "y = df_clean_3['R']"
      ]
    },
    {
      "cell_type": "markdown",
      "metadata": {
        "id": "pNHjRxyMF3J_"
      },
      "source": [
        "##Matriz de varianza y covarianza"
      ]
    },
    {
      "cell_type": "markdown",
      "source": [
        "Seguimos las formula del documento https://docs.google.com/viewer?a=v&pid=sites&srcid=ZWdhZGVyemMubmV0fGZ6MzAzMHxneDozOTI1ODBmMGU2YTMzZGM1\n",
        "\n",
        "Para obtener la matriz de varianza y covarianza"
      ],
      "metadata": {
        "id": "MLltYP2vybfQ"
      }
    },
    {
      "cell_type": "code",
      "execution_count": 40,
      "metadata": {
        "id": "VZMXDq9IFl0g"
      },
      "outputs": [],
      "source": [
        "X_varcov_mat = X.to_numpy()"
      ]
    },
    {
      "cell_type": "code",
      "execution_count": 41,
      "metadata": {
        "id": "43EC-vS2Ezbo"
      },
      "outputs": [],
      "source": [
        "X_varcov_trans = np.transpose(X_varcov_mat)"
      ]
    },
    {
      "cell_type": "code",
      "execution_count": 42,
      "metadata": {
        "id": "pIwjxFdAGAT8"
      },
      "outputs": [],
      "source": [
        "aux1 = np.dot(X_varcov_trans, X_varcov_mat)"
      ]
    },
    {
      "cell_type": "code",
      "execution_count": 43,
      "metadata": {
        "id": "hD63shSJF12L"
      },
      "outputs": [],
      "source": [
        "unos = np.zeros((X_varcov_trans.shape[1], 1))"
      ]
    },
    {
      "cell_type": "code",
      "execution_count": 44,
      "metadata": {
        "id": "nzrRRTI-IaG1"
      },
      "outputs": [],
      "source": [
        "unos = 1 + unos"
      ]
    },
    {
      "cell_type": "code",
      "execution_count": 45,
      "metadata": {
        "id": "8x9I_Vl0HVDJ"
      },
      "outputs": [],
      "source": [
        "aux2 = np.dot(X_varcov_trans, unos)"
      ]
    },
    {
      "cell_type": "code",
      "execution_count": 46,
      "metadata": {
        "id": "6x3vv-MeHeyq"
      },
      "outputs": [],
      "source": [
        "aux3 = np.transpose(aux2)"
      ]
    },
    {
      "cell_type": "code",
      "execution_count": 47,
      "metadata": {
        "id": "rOcNkKkGHiyI"
      },
      "outputs": [],
      "source": [
        "aux4 = np.dot(aux2, aux3)"
      ]
    },
    {
      "cell_type": "code",
      "execution_count": 48,
      "metadata": {
        "id": "VOdcGuK6Hn90"
      },
      "outputs": [],
      "source": [
        "aux5 = aux4 / X_varcov_mat.shape[0]"
      ]
    },
    {
      "cell_type": "code",
      "execution_count": 49,
      "metadata": {
        "id": "ndop8AqBInRN"
      },
      "outputs": [],
      "source": [
        "aux6 = aux1 - aux5"
      ]
    },
    {
      "cell_type": "code",
      "execution_count": 50,
      "metadata": {
        "id": "AqYktxKGIxe6"
      },
      "outputs": [],
      "source": [
        "mat_varcov = aux6 / (X_varcov_mat.shape[0] - 1)"
      ]
    },
    {
      "cell_type": "code",
      "execution_count": 51,
      "metadata": {
        "id": "KSCkO4SYI6hd",
        "colab": {
          "base_uri": "https://localhost:8080/"
        },
        "outputId": "76a297e7-b436-4b28-dbeb-d34a4172dbba"
      },
      "outputs": [
        {
          "output_type": "execute_result",
          "data": {
            "text/plain": [
              "array([[ 8.10117893e-03,  9.44989090e-02, -5.59550077e-03,\n",
              "        -1.22051289e-02,  5.27735695e-03],\n",
              "       [ 9.44989090e-02,  2.66685817e+02,  3.75584007e-02,\n",
              "         8.71823279e-02, -5.58580184e-01],\n",
              "       [-5.59550077e-03,  3.75584007e-02,  2.60931238e-01,\n",
              "         8.65885609e-02, -2.45076743e-02],\n",
              "       [-1.22051289e-02,  8.71823279e-02,  8.65885609e-02,\n",
              "         2.23517979e-01, -1.11758989e-01],\n",
              "       [ 5.27735695e-03, -5.58580184e-01, -2.45076743e-02,\n",
              "        -1.11758989e-01,  2.22546161e-01]])"
            ]
          },
          "metadata": {},
          "execution_count": 51
        }
      ],
      "source": [
        "mat_varcov"
      ]
    },
    {
      "cell_type": "code",
      "execution_count": 52,
      "metadata": {
        "id": "ozyBFf5dKLwR"
      },
      "outputs": [],
      "source": [
        "mat = pd.DataFrame(mat_varcov)"
      ]
    },
    {
      "cell_type": "code",
      "execution_count": 53,
      "metadata": {
        "id": "kvxoPxXzKap7",
        "colab": {
          "base_uri": "https://localhost:8080/",
          "height": 206
        },
        "outputId": "6e4a19c4-e6da-4c9e-d28f-6047da1cefbb"
      },
      "outputs": [
        {
          "output_type": "execute_result",
          "data": {
            "text/plain": [
              "          0           1         2         3         4\n",
              "0  0.008101    0.094499 -0.005596 -0.012205  0.005277\n",
              "1  0.094499  266.685817  0.037558  0.087182 -0.558580\n",
              "2 -0.005596    0.037558  0.260931  0.086589 -0.024508\n",
              "3 -0.012205    0.087182  0.086589  0.223518 -0.111759\n",
              "4  0.005277   -0.558580 -0.024508 -0.111759  0.222546"
            ],
            "text/html": [
              "\n",
              "  <div id=\"df-0cfde80d-b560-45a0-9892-6fdcc539b4a6\">\n",
              "    <div class=\"colab-df-container\">\n",
              "      <div>\n",
              "<style scoped>\n",
              "    .dataframe tbody tr th:only-of-type {\n",
              "        vertical-align: middle;\n",
              "    }\n",
              "\n",
              "    .dataframe tbody tr th {\n",
              "        vertical-align: top;\n",
              "    }\n",
              "\n",
              "    .dataframe thead th {\n",
              "        text-align: right;\n",
              "    }\n",
              "</style>\n",
              "<table border=\"1\" class=\"dataframe\">\n",
              "  <thead>\n",
              "    <tr style=\"text-align: right;\">\n",
              "      <th></th>\n",
              "      <th>0</th>\n",
              "      <th>1</th>\n",
              "      <th>2</th>\n",
              "      <th>3</th>\n",
              "      <th>4</th>\n",
              "    </tr>\n",
              "  </thead>\n",
              "  <tbody>\n",
              "    <tr>\n",
              "      <th>0</th>\n",
              "      <td>0.008101</td>\n",
              "      <td>0.094499</td>\n",
              "      <td>-0.005596</td>\n",
              "      <td>-0.012205</td>\n",
              "      <td>0.005277</td>\n",
              "    </tr>\n",
              "    <tr>\n",
              "      <th>1</th>\n",
              "      <td>0.094499</td>\n",
              "      <td>266.685817</td>\n",
              "      <td>0.037558</td>\n",
              "      <td>0.087182</td>\n",
              "      <td>-0.558580</td>\n",
              "    </tr>\n",
              "    <tr>\n",
              "      <th>2</th>\n",
              "      <td>-0.005596</td>\n",
              "      <td>0.037558</td>\n",
              "      <td>0.260931</td>\n",
              "      <td>0.086589</td>\n",
              "      <td>-0.024508</td>\n",
              "    </tr>\n",
              "    <tr>\n",
              "      <th>3</th>\n",
              "      <td>-0.012205</td>\n",
              "      <td>0.087182</td>\n",
              "      <td>0.086589</td>\n",
              "      <td>0.223518</td>\n",
              "      <td>-0.111759</td>\n",
              "    </tr>\n",
              "    <tr>\n",
              "      <th>4</th>\n",
              "      <td>0.005277</td>\n",
              "      <td>-0.558580</td>\n",
              "      <td>-0.024508</td>\n",
              "      <td>-0.111759</td>\n",
              "      <td>0.222546</td>\n",
              "    </tr>\n",
              "  </tbody>\n",
              "</table>\n",
              "</div>\n",
              "      <button class=\"colab-df-convert\" onclick=\"convertToInteractive('df-0cfde80d-b560-45a0-9892-6fdcc539b4a6')\"\n",
              "              title=\"Convert this dataframe to an interactive table.\"\n",
              "              style=\"display:none;\">\n",
              "        \n",
              "  <svg xmlns=\"http://www.w3.org/2000/svg\" height=\"24px\"viewBox=\"0 0 24 24\"\n",
              "       width=\"24px\">\n",
              "    <path d=\"M0 0h24v24H0V0z\" fill=\"none\"/>\n",
              "    <path d=\"M18.56 5.44l.94 2.06.94-2.06 2.06-.94-2.06-.94-.94-2.06-.94 2.06-2.06.94zm-11 1L8.5 8.5l.94-2.06 2.06-.94-2.06-.94L8.5 2.5l-.94 2.06-2.06.94zm10 10l.94 2.06.94-2.06 2.06-.94-2.06-.94-.94-2.06-.94 2.06-2.06.94z\"/><path d=\"M17.41 7.96l-1.37-1.37c-.4-.4-.92-.59-1.43-.59-.52 0-1.04.2-1.43.59L10.3 9.45l-7.72 7.72c-.78.78-.78 2.05 0 2.83L4 21.41c.39.39.9.59 1.41.59.51 0 1.02-.2 1.41-.59l7.78-7.78 2.81-2.81c.8-.78.8-2.07 0-2.86zM5.41 20L4 18.59l7.72-7.72 1.47 1.35L5.41 20z\"/>\n",
              "  </svg>\n",
              "      </button>\n",
              "      \n",
              "  <style>\n",
              "    .colab-df-container {\n",
              "      display:flex;\n",
              "      flex-wrap:wrap;\n",
              "      gap: 12px;\n",
              "    }\n",
              "\n",
              "    .colab-df-convert {\n",
              "      background-color: #E8F0FE;\n",
              "      border: none;\n",
              "      border-radius: 50%;\n",
              "      cursor: pointer;\n",
              "      display: none;\n",
              "      fill: #1967D2;\n",
              "      height: 32px;\n",
              "      padding: 0 0 0 0;\n",
              "      width: 32px;\n",
              "    }\n",
              "\n",
              "    .colab-df-convert:hover {\n",
              "      background-color: #E2EBFA;\n",
              "      box-shadow: 0px 1px 2px rgba(60, 64, 67, 0.3), 0px 1px 3px 1px rgba(60, 64, 67, 0.15);\n",
              "      fill: #174EA6;\n",
              "    }\n",
              "\n",
              "    [theme=dark] .colab-df-convert {\n",
              "      background-color: #3B4455;\n",
              "      fill: #D2E3FC;\n",
              "    }\n",
              "\n",
              "    [theme=dark] .colab-df-convert:hover {\n",
              "      background-color: #434B5C;\n",
              "      box-shadow: 0px 1px 3px 1px rgba(0, 0, 0, 0.15);\n",
              "      filter: drop-shadow(0px 1px 2px rgba(0, 0, 0, 0.3));\n",
              "      fill: #FFFFFF;\n",
              "    }\n",
              "  </style>\n",
              "\n",
              "      <script>\n",
              "        const buttonEl =\n",
              "          document.querySelector('#df-0cfde80d-b560-45a0-9892-6fdcc539b4a6 button.colab-df-convert');\n",
              "        buttonEl.style.display =\n",
              "          google.colab.kernel.accessAllowed ? 'block' : 'none';\n",
              "\n",
              "        async function convertToInteractive(key) {\n",
              "          const element = document.querySelector('#df-0cfde80d-b560-45a0-9892-6fdcc539b4a6');\n",
              "          const dataTable =\n",
              "            await google.colab.kernel.invokeFunction('convertToInteractive',\n",
              "                                                     [key], {});\n",
              "          if (!dataTable) return;\n",
              "\n",
              "          const docLinkHtml = 'Like what you see? Visit the ' +\n",
              "            '<a target=\"_blank\" href=https://colab.research.google.com/notebooks/data_table.ipynb>data table notebook</a>'\n",
              "            + ' to learn more about interactive tables.';\n",
              "          element.innerHTML = '';\n",
              "          dataTable['output_type'] = 'display_data';\n",
              "          await google.colab.output.renderOutput(dataTable, element);\n",
              "          const docLink = document.createElement('div');\n",
              "          docLink.innerHTML = docLinkHtml;\n",
              "          element.appendChild(docLink);\n",
              "        }\n",
              "      </script>\n",
              "    </div>\n",
              "  </div>\n",
              "  "
            ]
          },
          "metadata": {},
          "execution_count": 53
        }
      ],
      "source": [
        "mat"
      ]
    },
    {
      "cell_type": "markdown",
      "source": [
        "Comprobacion de la matriz de varianza y covarianza"
      ],
      "metadata": {
        "id": "6vboFkiGVRw7"
      }
    },
    {
      "cell_type": "code",
      "execution_count": 54,
      "metadata": {
        "id": "tQDvOgSfKeB7",
        "colab": {
          "base_uri": "https://localhost:8080/",
          "height": 206
        },
        "outputId": "82457f2d-6367-4944-e265-9143d2531e1a"
      },
      "outputs": [
        {
          "output_type": "execute_result",
          "data": {
            "text/plain": [
              "                          EPSP         OPM  Book_to_Market_ratio   isSmall  \\\n",
              "EPSP                  0.008101    0.094499             -0.005596 -0.012205   \n",
              "OPM                   0.094499  266.685817              0.037558  0.087182   \n",
              "Book_to_Market_ratio -0.005596    0.037558              0.260931  0.086589   \n",
              "isSmall              -0.012205    0.087182              0.086589  0.223518   \n",
              "isMedium              0.005277   -0.558580             -0.024508 -0.111759   \n",
              "\n",
              "                      isMedium  \n",
              "EPSP                  0.005277  \n",
              "OPM                  -0.558580  \n",
              "Book_to_Market_ratio -0.024508  \n",
              "isSmall              -0.111759  \n",
              "isMedium              0.222546  "
            ],
            "text/html": [
              "\n",
              "  <div id=\"df-fee6df48-ac93-4828-8855-0b48a1dbdcd5\">\n",
              "    <div class=\"colab-df-container\">\n",
              "      <div>\n",
              "<style scoped>\n",
              "    .dataframe tbody tr th:only-of-type {\n",
              "        vertical-align: middle;\n",
              "    }\n",
              "\n",
              "    .dataframe tbody tr th {\n",
              "        vertical-align: top;\n",
              "    }\n",
              "\n",
              "    .dataframe thead th {\n",
              "        text-align: right;\n",
              "    }\n",
              "</style>\n",
              "<table border=\"1\" class=\"dataframe\">\n",
              "  <thead>\n",
              "    <tr style=\"text-align: right;\">\n",
              "      <th></th>\n",
              "      <th>EPSP</th>\n",
              "      <th>OPM</th>\n",
              "      <th>Book_to_Market_ratio</th>\n",
              "      <th>isSmall</th>\n",
              "      <th>isMedium</th>\n",
              "    </tr>\n",
              "  </thead>\n",
              "  <tbody>\n",
              "    <tr>\n",
              "      <th>EPSP</th>\n",
              "      <td>0.008101</td>\n",
              "      <td>0.094499</td>\n",
              "      <td>-0.005596</td>\n",
              "      <td>-0.012205</td>\n",
              "      <td>0.005277</td>\n",
              "    </tr>\n",
              "    <tr>\n",
              "      <th>OPM</th>\n",
              "      <td>0.094499</td>\n",
              "      <td>266.685817</td>\n",
              "      <td>0.037558</td>\n",
              "      <td>0.087182</td>\n",
              "      <td>-0.558580</td>\n",
              "    </tr>\n",
              "    <tr>\n",
              "      <th>Book_to_Market_ratio</th>\n",
              "      <td>-0.005596</td>\n",
              "      <td>0.037558</td>\n",
              "      <td>0.260931</td>\n",
              "      <td>0.086589</td>\n",
              "      <td>-0.024508</td>\n",
              "    </tr>\n",
              "    <tr>\n",
              "      <th>isSmall</th>\n",
              "      <td>-0.012205</td>\n",
              "      <td>0.087182</td>\n",
              "      <td>0.086589</td>\n",
              "      <td>0.223518</td>\n",
              "      <td>-0.111759</td>\n",
              "    </tr>\n",
              "    <tr>\n",
              "      <th>isMedium</th>\n",
              "      <td>0.005277</td>\n",
              "      <td>-0.558580</td>\n",
              "      <td>-0.024508</td>\n",
              "      <td>-0.111759</td>\n",
              "      <td>0.222546</td>\n",
              "    </tr>\n",
              "  </tbody>\n",
              "</table>\n",
              "</div>\n",
              "      <button class=\"colab-df-convert\" onclick=\"convertToInteractive('df-fee6df48-ac93-4828-8855-0b48a1dbdcd5')\"\n",
              "              title=\"Convert this dataframe to an interactive table.\"\n",
              "              style=\"display:none;\">\n",
              "        \n",
              "  <svg xmlns=\"http://www.w3.org/2000/svg\" height=\"24px\"viewBox=\"0 0 24 24\"\n",
              "       width=\"24px\">\n",
              "    <path d=\"M0 0h24v24H0V0z\" fill=\"none\"/>\n",
              "    <path d=\"M18.56 5.44l.94 2.06.94-2.06 2.06-.94-2.06-.94-.94-2.06-.94 2.06-2.06.94zm-11 1L8.5 8.5l.94-2.06 2.06-.94-2.06-.94L8.5 2.5l-.94 2.06-2.06.94zm10 10l.94 2.06.94-2.06 2.06-.94-2.06-.94-.94-2.06-.94 2.06-2.06.94z\"/><path d=\"M17.41 7.96l-1.37-1.37c-.4-.4-.92-.59-1.43-.59-.52 0-1.04.2-1.43.59L10.3 9.45l-7.72 7.72c-.78.78-.78 2.05 0 2.83L4 21.41c.39.39.9.59 1.41.59.51 0 1.02-.2 1.41-.59l7.78-7.78 2.81-2.81c.8-.78.8-2.07 0-2.86zM5.41 20L4 18.59l7.72-7.72 1.47 1.35L5.41 20z\"/>\n",
              "  </svg>\n",
              "      </button>\n",
              "      \n",
              "  <style>\n",
              "    .colab-df-container {\n",
              "      display:flex;\n",
              "      flex-wrap:wrap;\n",
              "      gap: 12px;\n",
              "    }\n",
              "\n",
              "    .colab-df-convert {\n",
              "      background-color: #E8F0FE;\n",
              "      border: none;\n",
              "      border-radius: 50%;\n",
              "      cursor: pointer;\n",
              "      display: none;\n",
              "      fill: #1967D2;\n",
              "      height: 32px;\n",
              "      padding: 0 0 0 0;\n",
              "      width: 32px;\n",
              "    }\n",
              "\n",
              "    .colab-df-convert:hover {\n",
              "      background-color: #E2EBFA;\n",
              "      box-shadow: 0px 1px 2px rgba(60, 64, 67, 0.3), 0px 1px 3px 1px rgba(60, 64, 67, 0.15);\n",
              "      fill: #174EA6;\n",
              "    }\n",
              "\n",
              "    [theme=dark] .colab-df-convert {\n",
              "      background-color: #3B4455;\n",
              "      fill: #D2E3FC;\n",
              "    }\n",
              "\n",
              "    [theme=dark] .colab-df-convert:hover {\n",
              "      background-color: #434B5C;\n",
              "      box-shadow: 0px 1px 3px 1px rgba(0, 0, 0, 0.15);\n",
              "      filter: drop-shadow(0px 1px 2px rgba(0, 0, 0, 0.3));\n",
              "      fill: #FFFFFF;\n",
              "    }\n",
              "  </style>\n",
              "\n",
              "      <script>\n",
              "        const buttonEl =\n",
              "          document.querySelector('#df-fee6df48-ac93-4828-8855-0b48a1dbdcd5 button.colab-df-convert');\n",
              "        buttonEl.style.display =\n",
              "          google.colab.kernel.accessAllowed ? 'block' : 'none';\n",
              "\n",
              "        async function convertToInteractive(key) {\n",
              "          const element = document.querySelector('#df-fee6df48-ac93-4828-8855-0b48a1dbdcd5');\n",
              "          const dataTable =\n",
              "            await google.colab.kernel.invokeFunction('convertToInteractive',\n",
              "                                                     [key], {});\n",
              "          if (!dataTable) return;\n",
              "\n",
              "          const docLinkHtml = 'Like what you see? Visit the ' +\n",
              "            '<a target=\"_blank\" href=https://colab.research.google.com/notebooks/data_table.ipynb>data table notebook</a>'\n",
              "            + ' to learn more about interactive tables.';\n",
              "          element.innerHTML = '';\n",
              "          dataTable['output_type'] = 'display_data';\n",
              "          await google.colab.output.renderOutput(dataTable, element);\n",
              "          const docLink = document.createElement('div');\n",
              "          docLink.innerHTML = docLinkHtml;\n",
              "          element.appendChild(docLink);\n",
              "        }\n",
              "      </script>\n",
              "    </div>\n",
              "  </div>\n",
              "  "
            ]
          },
          "metadata": {},
          "execution_count": 54
        }
      ],
      "source": [
        "X.cov()"
      ]
    },
    {
      "cell_type": "markdown",
      "metadata": {
        "id": "QK9eTltRLO9N"
      },
      "source": [
        "Comprobamos que las varianzas son iguales en nuestro calculo y lo obtenido por medio de pandas, por lo que la matriz es correcta"
      ]
    },
    {
      "cell_type": "markdown",
      "metadata": {
        "id": "TPgsyy8HDkuS"
      },
      "source": [
        "##Matriz de correlaciones\n"
      ]
    },
    {
      "cell_type": "markdown",
      "source": [
        "Seguimos la formula de correlacion obtenida a base de los standar deviations y la matriz de varianza y covarianza"
      ],
      "metadata": {
        "id": "gg25H3Oey0fx"
      }
    },
    {
      "cell_type": "code",
      "source": [
        "var = np.diagonal(mat_varcov)"
      ],
      "metadata": {
        "id": "IhJIblSPY4_6"
      },
      "execution_count": 55,
      "outputs": []
    },
    {
      "cell_type": "code",
      "source": [
        "stdr_dev = np.sqrt(var)"
      ],
      "metadata": {
        "id": "WS0IMN6BZFBY"
      },
      "execution_count": 56,
      "outputs": []
    },
    {
      "cell_type": "code",
      "source": [
        "stdr_dev"
      ],
      "metadata": {
        "id": "ImbCGUwRZLi6",
        "colab": {
          "base_uri": "https://localhost:8080/"
        },
        "outputId": "43220219-eb4a-4c6c-8787-89e5709b591b"
      },
      "execution_count": 57,
      "outputs": [
        {
          "output_type": "execute_result",
          "data": {
            "text/plain": [
              "array([ 0.09000655, 16.33051797,  0.51081429,  0.47277688,  0.47174798])"
            ]
          },
          "metadata": {},
          "execution_count": 57
        }
      ]
    },
    {
      "cell_type": "code",
      "source": [
        "ya_no_se = [[ 0 for y in range( len(stdr_dev) ) ] for x in range( len(stdr_dev) )]\n",
        "for i in range(len(stdr_dev)):\n",
        "  for j in range(len(stdr_dev)):\n",
        "    ya_no_se[i][j] = stdr_dev[i] * stdr_dev[j]"
      ],
      "metadata": {
        "id": "d21ZLT_gdyUQ"
      },
      "execution_count": 58,
      "outputs": []
    },
    {
      "cell_type": "code",
      "source": [
        "corr = [[ 0 for y in range( len(ya_no_se) ) ] for x in range( len(ya_no_se) )]\n",
        "for i in range(len(ya_no_se)):\n",
        "  for j in range(len(ya_no_se)):\n",
        "    corr[i][j] = mat_varcov[i][j] / ya_no_se[i][j]"
      ],
      "metadata": {
        "id": "nWtlb9HseL_Z"
      },
      "execution_count": 59,
      "outputs": []
    },
    {
      "cell_type": "code",
      "source": [
        "print(corr)"
      ],
      "metadata": {
        "id": "_oTyv5LzefSM",
        "colab": {
          "base_uri": "https://localhost:8080/"
        },
        "outputId": "f8e99dec-b7d1-4d4c-b703-f23b50c48242"
      },
      "execution_count": 108,
      "outputs": [
        {
          "output_type": "stream",
          "name": "stdout",
          "text": [
            "[[1.0, 0.06429137624010672, -0.12170314747329583, -0.28682171558280145, 0.1242888885114298], [0.06429137624010672, 1.0000000000000002, 0.004502400179255902, 0.01129203642553, -0.07250626113564698], [-0.12170314747329583, 0.004502400179255902, 1.0, 0.35854300441971737, -0.1017018865114624], [-0.28682171558280145, 0.01129203642553, 0.35854300441971737, 1.0000000000000002, -0.5010905138363413], [0.1242888885114298, -0.07250626113564698, -0.1017018865114624, -0.5010905138363413, 1.0000000000000002]]\n"
          ]
        }
      ]
    },
    {
      "cell_type": "code",
      "source": [
        "X.corr()"
      ],
      "metadata": {
        "id": "IyhmCBODehM2",
        "colab": {
          "base_uri": "https://localhost:8080/",
          "height": 206
        },
        "outputId": "fe1c88d6-e553-4201-9c7b-ebe6d90056c7"
      },
      "execution_count": 61,
      "outputs": [
        {
          "output_type": "execute_result",
          "data": {
            "text/plain": [
              "                          EPSP       OPM  Book_to_Market_ratio   isSmall  \\\n",
              "EPSP                  1.000000  0.064291             -0.121703 -0.286822   \n",
              "OPM                   0.064291  1.000000              0.004502  0.011292   \n",
              "Book_to_Market_ratio -0.121703  0.004502              1.000000  0.358543   \n",
              "isSmall              -0.286822  0.011292              0.358543  1.000000   \n",
              "isMedium              0.124289 -0.072506             -0.101702 -0.501091   \n",
              "\n",
              "                      isMedium  \n",
              "EPSP                  0.124289  \n",
              "OPM                  -0.072506  \n",
              "Book_to_Market_ratio -0.101702  \n",
              "isSmall              -0.501091  \n",
              "isMedium              1.000000  "
            ],
            "text/html": [
              "\n",
              "  <div id=\"df-706d1ca7-2398-4238-af6a-e56c6d379fdd\">\n",
              "    <div class=\"colab-df-container\">\n",
              "      <div>\n",
              "<style scoped>\n",
              "    .dataframe tbody tr th:only-of-type {\n",
              "        vertical-align: middle;\n",
              "    }\n",
              "\n",
              "    .dataframe tbody tr th {\n",
              "        vertical-align: top;\n",
              "    }\n",
              "\n",
              "    .dataframe thead th {\n",
              "        text-align: right;\n",
              "    }\n",
              "</style>\n",
              "<table border=\"1\" class=\"dataframe\">\n",
              "  <thead>\n",
              "    <tr style=\"text-align: right;\">\n",
              "      <th></th>\n",
              "      <th>EPSP</th>\n",
              "      <th>OPM</th>\n",
              "      <th>Book_to_Market_ratio</th>\n",
              "      <th>isSmall</th>\n",
              "      <th>isMedium</th>\n",
              "    </tr>\n",
              "  </thead>\n",
              "  <tbody>\n",
              "    <tr>\n",
              "      <th>EPSP</th>\n",
              "      <td>1.000000</td>\n",
              "      <td>0.064291</td>\n",
              "      <td>-0.121703</td>\n",
              "      <td>-0.286822</td>\n",
              "      <td>0.124289</td>\n",
              "    </tr>\n",
              "    <tr>\n",
              "      <th>OPM</th>\n",
              "      <td>0.064291</td>\n",
              "      <td>1.000000</td>\n",
              "      <td>0.004502</td>\n",
              "      <td>0.011292</td>\n",
              "      <td>-0.072506</td>\n",
              "    </tr>\n",
              "    <tr>\n",
              "      <th>Book_to_Market_ratio</th>\n",
              "      <td>-0.121703</td>\n",
              "      <td>0.004502</td>\n",
              "      <td>1.000000</td>\n",
              "      <td>0.358543</td>\n",
              "      <td>-0.101702</td>\n",
              "    </tr>\n",
              "    <tr>\n",
              "      <th>isSmall</th>\n",
              "      <td>-0.286822</td>\n",
              "      <td>0.011292</td>\n",
              "      <td>0.358543</td>\n",
              "      <td>1.000000</td>\n",
              "      <td>-0.501091</td>\n",
              "    </tr>\n",
              "    <tr>\n",
              "      <th>isMedium</th>\n",
              "      <td>0.124289</td>\n",
              "      <td>-0.072506</td>\n",
              "      <td>-0.101702</td>\n",
              "      <td>-0.501091</td>\n",
              "      <td>1.000000</td>\n",
              "    </tr>\n",
              "  </tbody>\n",
              "</table>\n",
              "</div>\n",
              "      <button class=\"colab-df-convert\" onclick=\"convertToInteractive('df-706d1ca7-2398-4238-af6a-e56c6d379fdd')\"\n",
              "              title=\"Convert this dataframe to an interactive table.\"\n",
              "              style=\"display:none;\">\n",
              "        \n",
              "  <svg xmlns=\"http://www.w3.org/2000/svg\" height=\"24px\"viewBox=\"0 0 24 24\"\n",
              "       width=\"24px\">\n",
              "    <path d=\"M0 0h24v24H0V0z\" fill=\"none\"/>\n",
              "    <path d=\"M18.56 5.44l.94 2.06.94-2.06 2.06-.94-2.06-.94-.94-2.06-.94 2.06-2.06.94zm-11 1L8.5 8.5l.94-2.06 2.06-.94-2.06-.94L8.5 2.5l-.94 2.06-2.06.94zm10 10l.94 2.06.94-2.06 2.06-.94-2.06-.94-.94-2.06-.94 2.06-2.06.94z\"/><path d=\"M17.41 7.96l-1.37-1.37c-.4-.4-.92-.59-1.43-.59-.52 0-1.04.2-1.43.59L10.3 9.45l-7.72 7.72c-.78.78-.78 2.05 0 2.83L4 21.41c.39.39.9.59 1.41.59.51 0 1.02-.2 1.41-.59l7.78-7.78 2.81-2.81c.8-.78.8-2.07 0-2.86zM5.41 20L4 18.59l7.72-7.72 1.47 1.35L5.41 20z\"/>\n",
              "  </svg>\n",
              "      </button>\n",
              "      \n",
              "  <style>\n",
              "    .colab-df-container {\n",
              "      display:flex;\n",
              "      flex-wrap:wrap;\n",
              "      gap: 12px;\n",
              "    }\n",
              "\n",
              "    .colab-df-convert {\n",
              "      background-color: #E8F0FE;\n",
              "      border: none;\n",
              "      border-radius: 50%;\n",
              "      cursor: pointer;\n",
              "      display: none;\n",
              "      fill: #1967D2;\n",
              "      height: 32px;\n",
              "      padding: 0 0 0 0;\n",
              "      width: 32px;\n",
              "    }\n",
              "\n",
              "    .colab-df-convert:hover {\n",
              "      background-color: #E2EBFA;\n",
              "      box-shadow: 0px 1px 2px rgba(60, 64, 67, 0.3), 0px 1px 3px 1px rgba(60, 64, 67, 0.15);\n",
              "      fill: #174EA6;\n",
              "    }\n",
              "\n",
              "    [theme=dark] .colab-df-convert {\n",
              "      background-color: #3B4455;\n",
              "      fill: #D2E3FC;\n",
              "    }\n",
              "\n",
              "    [theme=dark] .colab-df-convert:hover {\n",
              "      background-color: #434B5C;\n",
              "      box-shadow: 0px 1px 3px 1px rgba(0, 0, 0, 0.15);\n",
              "      filter: drop-shadow(0px 1px 2px rgba(0, 0, 0, 0.3));\n",
              "      fill: #FFFFFF;\n",
              "    }\n",
              "  </style>\n",
              "\n",
              "      <script>\n",
              "        const buttonEl =\n",
              "          document.querySelector('#df-706d1ca7-2398-4238-af6a-e56c6d379fdd button.colab-df-convert');\n",
              "        buttonEl.style.display =\n",
              "          google.colab.kernel.accessAllowed ? 'block' : 'none';\n",
              "\n",
              "        async function convertToInteractive(key) {\n",
              "          const element = document.querySelector('#df-706d1ca7-2398-4238-af6a-e56c6d379fdd');\n",
              "          const dataTable =\n",
              "            await google.colab.kernel.invokeFunction('convertToInteractive',\n",
              "                                                     [key], {});\n",
              "          if (!dataTable) return;\n",
              "\n",
              "          const docLinkHtml = 'Like what you see? Visit the ' +\n",
              "            '<a target=\"_blank\" href=https://colab.research.google.com/notebooks/data_table.ipynb>data table notebook</a>'\n",
              "            + ' to learn more about interactive tables.';\n",
              "          element.innerHTML = '';\n",
              "          dataTable['output_type'] = 'display_data';\n",
              "          await google.colab.output.renderOutput(dataTable, element);\n",
              "          const docLink = document.createElement('div');\n",
              "          docLink.innerHTML = docLinkHtml;\n",
              "          element.appendChild(docLink);\n",
              "        }\n",
              "      </script>\n",
              "    </div>\n",
              "  </div>\n",
              "  "
            ]
          },
          "metadata": {},
          "execution_count": 61
        }
      ]
    },
    {
      "cell_type": "markdown",
      "source": [
        "Comprobamos que las correlaciones son iguales en nuestro calculo y lo obtenido por medio de pandas, por lo que la matriz es correcta"
      ],
      "metadata": {
        "id": "74_QNy3ZzBcO"
      }
    },
    {
      "cell_type": "markdown",
      "source": [
        "###Interpretacion de las correlaciones"
      ],
      "metadata": {
        "id": "ihcIADQ7WQn5"
      }
    },
    {
      "cell_type": "markdown",
      "source": [
        "Segun lo obtenido en la matriz de correlacion, podemos ver que las variables con mayor relacion entre ellas son la de isSmall con EPSP de manera negativa, isSmall con Book to Market de forma positiva e isMedium con isSmall de forma negativa. "
      ],
      "metadata": {
        "id": "vC4byYw8WVt7"
      }
    },
    {
      "cell_type": "markdown",
      "source": [
        "#Modelo 1"
      ],
      "metadata": {
        "id": "FkkKfc79WBwh"
      }
    },
    {
      "cell_type": "markdown",
      "metadata": {
        "id": "Z-8JqdakJ09d"
      },
      "source": [
        "###Betas"
      ]
    },
    {
      "cell_type": "markdown",
      "source": [
        "Seguimos la siguiente formula para obtener las betas "
      ],
      "metadata": {
        "id": "ufDF_6EQzKaa"
      }
    },
    {
      "cell_type": "markdown",
      "metadata": {
        "id": "o6DZsu63sKgb"
      },
      "source": [
        "Primer valor de x son 1\n",
        "\n",
        "x´ es x transpuesta\n",
        "\n",
        "x^1 es x inversa\n",
        "\n",
        "(x´x)^-1x´y"
      ]
    },
    {
      "cell_type": "code",
      "execution_count": 62,
      "metadata": {
        "id": "COGMR43etr4Q",
        "colab": {
          "base_uri": "https://localhost:8080/"
        },
        "outputId": "e4d24f29-f688-49ed-c913-4613a49f034a"
      },
      "outputs": [
        {
          "output_type": "stream",
          "name": "stderr",
          "text": [
            "/usr/local/lib/python3.7/dist-packages/ipykernel_launcher.py:1: SettingWithCopyWarning: \n",
            "A value is trying to be set on a copy of a slice from a DataFrame.\n",
            "Try using .loc[row_indexer,col_indexer] = value instead\n",
            "\n",
            "See the caveats in the documentation: https://pandas.pydata.org/pandas-docs/stable/user_guide/indexing.html#returning-a-view-versus-a-copy\n",
            "  \"\"\"Entry point for launching an IPython kernel.\n"
          ]
        }
      ],
      "source": [
        "X['1'] = 1"
      ]
    },
    {
      "cell_type": "code",
      "execution_count": 63,
      "metadata": {
        "id": "2a0AZ1aXujfd"
      },
      "outputs": [],
      "source": [
        "X = X[['1', 'isSmall', 'isMedium', 'EPSP', 'OPM', 'Book_to_Market_ratio']]"
      ]
    },
    {
      "cell_type": "code",
      "execution_count": 64,
      "metadata": {
        "id": "ZPuQ8e4pwW68"
      },
      "outputs": [],
      "source": [
        "X_mat = X.to_numpy()"
      ]
    },
    {
      "cell_type": "code",
      "execution_count": 65,
      "metadata": {
        "id": "q1-AZl_ovTXw"
      },
      "outputs": [],
      "source": [
        "X_t = np.transpose(X_mat)"
      ]
    },
    {
      "cell_type": "code",
      "execution_count": 66,
      "metadata": {
        "id": "IFIykS01zM3K"
      },
      "outputs": [],
      "source": [
        "X_sqr = np.dot(X_t, X_mat)"
      ]
    },
    {
      "cell_type": "code",
      "execution_count": 67,
      "metadata": {
        "id": "hPJgNpl5zIxg"
      },
      "outputs": [],
      "source": [
        "X_inv = np.linalg.inv(X_sqr)"
      ]
    },
    {
      "cell_type": "code",
      "execution_count": 68,
      "metadata": {
        "id": "lr_hx_M5zZXE"
      },
      "outputs": [],
      "source": [
        "aux = np.dot(X_inv, X_t)"
      ]
    },
    {
      "cell_type": "markdown",
      "source": [
        "###Hat matrix"
      ],
      "metadata": {
        "id": "6gUFQHS14efT"
      }
    },
    {
      "cell_type": "markdown",
      "source": [
        "Para obtener la hat matrix, seguiremos la formula de:\n",
        "\n",
        "H = X(X´X)^-1X´"
      ],
      "metadata": {
        "id": "mvCIzx7wZ3to"
      }
    },
    {
      "cell_type": "code",
      "source": [
        "hat_mat = np.dot(X_mat, aux)"
      ],
      "metadata": {
        "id": "Kiknaboj4eDj"
      },
      "execution_count": 69,
      "outputs": []
    },
    {
      "cell_type": "code",
      "source": [
        "print(hat_mat)"
      ],
      "metadata": {
        "colab": {
          "base_uri": "https://localhost:8080/"
        },
        "id": "IpIYtmun5Mzt",
        "outputId": "86b97b20-dd5d-43b6-b8fb-945af34698fb"
      },
      "execution_count": 70,
      "outputs": [
        {
          "output_type": "execute_result",
          "data": {
            "text/plain": [
              "array([[ 7.99814542e-02,  3.69566482e-02,  3.64933116e-02, ...,\n",
              "        -3.12175062e-03,  3.86339056e-04, -1.53510011e-03],\n",
              "       [ 3.69566482e-02,  2.11714623e-02,  2.10072578e-02, ...,\n",
              "        -1.23457873e-03,  1.55939187e-05, -6.59032828e-04],\n",
              "       [ 3.64933116e-02,  2.10072578e-02,  2.08512576e-02, ...,\n",
              "        -1.21840798e-03,  9.30848046e-06, -6.51292207e-04],\n",
              "       ...,\n",
              "       [-3.12175062e-03, -1.23457873e-03, -1.21840798e-03, ...,\n",
              "         8.91219115e-03,  8.75610265e-03,  8.84028130e-03],\n",
              "       [ 3.86339056e-04,  1.55939187e-05,  9.30848046e-06, ...,\n",
              "         8.75610265e-03,  8.78947148e-03,  8.76956564e-03],\n",
              "       [-1.53510011e-03, -6.59032828e-04, -6.51292207e-04, ...,\n",
              "         8.84028130e-03,  8.76956564e-03,  8.80742646e-03]])"
            ]
          },
          "metadata": {},
          "execution_count": 70
        }
      ]
    },
    {
      "cell_type": "code",
      "source": [
        "hat_mat_pd = pd.DataFrame(hat_mat)"
      ],
      "metadata": {
        "id": "RCQ1u6Ad6YQP"
      },
      "execution_count": 71,
      "outputs": []
    },
    {
      "cell_type": "code",
      "source": [
        "hat_mat_pd"
      ],
      "metadata": {
        "colab": {
          "base_uri": "https://localhost:8080/",
          "height": 488
        },
        "id": "M45t20OF6bG8",
        "outputId": "9ca198b3-c44b-444d-86bd-08b0f2bd43b9"
      },
      "execution_count": 72,
      "outputs": [
        {
          "output_type": "execute_result",
          "data": {
            "text/plain": [
              "          0         1         2         3         4         5         6    \\\n",
              "0    0.079981  0.036957  0.036493  0.005703  0.012052  0.029782  0.024680   \n",
              "1    0.036957  0.021171  0.021007  0.009232  0.008866  0.016961  0.018605   \n",
              "2    0.036493  0.021007  0.020851  0.009279  0.008815  0.016819  0.018585   \n",
              "3    0.005703  0.009232  0.009279  0.011155  0.006981  0.007682  0.012869   \n",
              "4    0.012052  0.008866  0.008815  0.006981  0.009939  0.009782  0.006122   \n",
              "..        ...       ...       ...       ...       ...       ...       ...   \n",
              "338 -0.006656 -0.002563 -0.002521  0.000381 -0.000377 -0.001973 -0.001294   \n",
              "339 -0.005036 -0.001930 -0.001900  0.000301 -0.000290 -0.001492 -0.000962   \n",
              "340 -0.003122 -0.001235 -0.001218  0.000134 -0.000140 -0.000921 -0.000716   \n",
              "341  0.000386  0.000016  0.000009 -0.000203  0.000148  0.000126 -0.000310   \n",
              "342 -0.001535 -0.000659 -0.000651 -0.000004 -0.000023 -0.000449 -0.000495   \n",
              "\n",
              "          7         8         9    ...       333       334       335  \\\n",
              "0   -0.006519  0.015075  0.019901  ... -0.004172  0.006343 -0.008143   \n",
              "1    0.001757  0.009248  0.015641  ... -0.001498  0.002238 -0.003076   \n",
              "2    0.001829  0.009162  0.015634  ... -0.001467  0.002187 -0.003021   \n",
              "3    0.008103  0.005748  0.011620  ...  0.000387 -0.000642  0.000548   \n",
              "4    0.008836  0.010833  0.006876  ... -0.000341  0.000563 -0.000522   \n",
              "..        ...       ...       ...  ...       ...       ...       ...   \n",
              "338  0.001372 -0.000706 -0.000911  ...  0.009170  0.008166  0.009541   \n",
              "339  0.001036 -0.000544 -0.000680  ...  0.009074  0.008313  0.009355   \n",
              "340  0.000675 -0.000272 -0.000508  ...  0.008954  0.008498  0.009129   \n",
              "341  0.000020  0.000253 -0.000219  ...  0.008732  0.008838  0.008711   \n",
              "342  0.000367 -0.000055 -0.000349  ...  0.008855  0.008648  0.008941   \n",
              "\n",
              "          336       337       338       339       340       341       342  \n",
              "0   -0.004171 -0.000980 -0.006656 -0.005036 -0.003122  0.000386 -0.001535  \n",
              "1   -0.001435 -0.000336 -0.002563 -0.001930 -0.001235  0.000016 -0.000659  \n",
              "2   -0.001403 -0.000328 -0.002521 -0.001900 -0.001218  0.000009 -0.000651  \n",
              "3    0.000472  0.000113  0.000381  0.000301  0.000134 -0.000203 -0.000004  \n",
              "4   -0.000399 -0.000095 -0.000377 -0.000290 -0.000140  0.000148 -0.000023  \n",
              "..        ...       ...       ...       ...       ...       ...       ...  \n",
              "338  0.009174  0.008866  0.009399  0.009248  0.009066  0.008728  0.008913  \n",
              "339  0.009077  0.008844  0.009248  0.009134  0.008996  0.008739  0.008879  \n",
              "340  0.008954  0.008815  0.009066  0.008996  0.008912  0.008756  0.008840  \n",
              "341  0.008725  0.008761  0.008728  0.008739  0.008756  0.008789  0.008770  \n",
              "342  0.008853  0.008791  0.008913  0.008879  0.008840  0.008770  0.008807  \n",
              "\n",
              "[343 rows x 343 columns]"
            ],
            "text/html": [
              "\n",
              "  <div id=\"df-643d2950-c09a-4ed7-861e-e711e9c17023\">\n",
              "    <div class=\"colab-df-container\">\n",
              "      <div>\n",
              "<style scoped>\n",
              "    .dataframe tbody tr th:only-of-type {\n",
              "        vertical-align: middle;\n",
              "    }\n",
              "\n",
              "    .dataframe tbody tr th {\n",
              "        vertical-align: top;\n",
              "    }\n",
              "\n",
              "    .dataframe thead th {\n",
              "        text-align: right;\n",
              "    }\n",
              "</style>\n",
              "<table border=\"1\" class=\"dataframe\">\n",
              "  <thead>\n",
              "    <tr style=\"text-align: right;\">\n",
              "      <th></th>\n",
              "      <th>0</th>\n",
              "      <th>1</th>\n",
              "      <th>2</th>\n",
              "      <th>3</th>\n",
              "      <th>4</th>\n",
              "      <th>5</th>\n",
              "      <th>6</th>\n",
              "      <th>7</th>\n",
              "      <th>8</th>\n",
              "      <th>9</th>\n",
              "      <th>...</th>\n",
              "      <th>333</th>\n",
              "      <th>334</th>\n",
              "      <th>335</th>\n",
              "      <th>336</th>\n",
              "      <th>337</th>\n",
              "      <th>338</th>\n",
              "      <th>339</th>\n",
              "      <th>340</th>\n",
              "      <th>341</th>\n",
              "      <th>342</th>\n",
              "    </tr>\n",
              "  </thead>\n",
              "  <tbody>\n",
              "    <tr>\n",
              "      <th>0</th>\n",
              "      <td>0.079981</td>\n",
              "      <td>0.036957</td>\n",
              "      <td>0.036493</td>\n",
              "      <td>0.005703</td>\n",
              "      <td>0.012052</td>\n",
              "      <td>0.029782</td>\n",
              "      <td>0.024680</td>\n",
              "      <td>-0.006519</td>\n",
              "      <td>0.015075</td>\n",
              "      <td>0.019901</td>\n",
              "      <td>...</td>\n",
              "      <td>-0.004172</td>\n",
              "      <td>0.006343</td>\n",
              "      <td>-0.008143</td>\n",
              "      <td>-0.004171</td>\n",
              "      <td>-0.000980</td>\n",
              "      <td>-0.006656</td>\n",
              "      <td>-0.005036</td>\n",
              "      <td>-0.003122</td>\n",
              "      <td>0.000386</td>\n",
              "      <td>-0.001535</td>\n",
              "    </tr>\n",
              "    <tr>\n",
              "      <th>1</th>\n",
              "      <td>0.036957</td>\n",
              "      <td>0.021171</td>\n",
              "      <td>0.021007</td>\n",
              "      <td>0.009232</td>\n",
              "      <td>0.008866</td>\n",
              "      <td>0.016961</td>\n",
              "      <td>0.018605</td>\n",
              "      <td>0.001757</td>\n",
              "      <td>0.009248</td>\n",
              "      <td>0.015641</td>\n",
              "      <td>...</td>\n",
              "      <td>-0.001498</td>\n",
              "      <td>0.002238</td>\n",
              "      <td>-0.003076</td>\n",
              "      <td>-0.001435</td>\n",
              "      <td>-0.000336</td>\n",
              "      <td>-0.002563</td>\n",
              "      <td>-0.001930</td>\n",
              "      <td>-0.001235</td>\n",
              "      <td>0.000016</td>\n",
              "      <td>-0.000659</td>\n",
              "    </tr>\n",
              "    <tr>\n",
              "      <th>2</th>\n",
              "      <td>0.036493</td>\n",
              "      <td>0.021007</td>\n",
              "      <td>0.020851</td>\n",
              "      <td>0.009279</td>\n",
              "      <td>0.008815</td>\n",
              "      <td>0.016819</td>\n",
              "      <td>0.018585</td>\n",
              "      <td>0.001829</td>\n",
              "      <td>0.009162</td>\n",
              "      <td>0.015634</td>\n",
              "      <td>...</td>\n",
              "      <td>-0.001467</td>\n",
              "      <td>0.002187</td>\n",
              "      <td>-0.003021</td>\n",
              "      <td>-0.001403</td>\n",
              "      <td>-0.000328</td>\n",
              "      <td>-0.002521</td>\n",
              "      <td>-0.001900</td>\n",
              "      <td>-0.001218</td>\n",
              "      <td>0.000009</td>\n",
              "      <td>-0.000651</td>\n",
              "    </tr>\n",
              "    <tr>\n",
              "      <th>3</th>\n",
              "      <td>0.005703</td>\n",
              "      <td>0.009232</td>\n",
              "      <td>0.009279</td>\n",
              "      <td>0.011155</td>\n",
              "      <td>0.006981</td>\n",
              "      <td>0.007682</td>\n",
              "      <td>0.012869</td>\n",
              "      <td>0.008103</td>\n",
              "      <td>0.005748</td>\n",
              "      <td>0.011620</td>\n",
              "      <td>...</td>\n",
              "      <td>0.000387</td>\n",
              "      <td>-0.000642</td>\n",
              "      <td>0.000548</td>\n",
              "      <td>0.000472</td>\n",
              "      <td>0.000113</td>\n",
              "      <td>0.000381</td>\n",
              "      <td>0.000301</td>\n",
              "      <td>0.000134</td>\n",
              "      <td>-0.000203</td>\n",
              "      <td>-0.000004</td>\n",
              "    </tr>\n",
              "    <tr>\n",
              "      <th>4</th>\n",
              "      <td>0.012052</td>\n",
              "      <td>0.008866</td>\n",
              "      <td>0.008815</td>\n",
              "      <td>0.006981</td>\n",
              "      <td>0.009939</td>\n",
              "      <td>0.009782</td>\n",
              "      <td>0.006122</td>\n",
              "      <td>0.008836</td>\n",
              "      <td>0.010833</td>\n",
              "      <td>0.006876</td>\n",
              "      <td>...</td>\n",
              "      <td>-0.000341</td>\n",
              "      <td>0.000563</td>\n",
              "      <td>-0.000522</td>\n",
              "      <td>-0.000399</td>\n",
              "      <td>-0.000095</td>\n",
              "      <td>-0.000377</td>\n",
              "      <td>-0.000290</td>\n",
              "      <td>-0.000140</td>\n",
              "      <td>0.000148</td>\n",
              "      <td>-0.000023</td>\n",
              "    </tr>\n",
              "    <tr>\n",
              "      <th>...</th>\n",
              "      <td>...</td>\n",
              "      <td>...</td>\n",
              "      <td>...</td>\n",
              "      <td>...</td>\n",
              "      <td>...</td>\n",
              "      <td>...</td>\n",
              "      <td>...</td>\n",
              "      <td>...</td>\n",
              "      <td>...</td>\n",
              "      <td>...</td>\n",
              "      <td>...</td>\n",
              "      <td>...</td>\n",
              "      <td>...</td>\n",
              "      <td>...</td>\n",
              "      <td>...</td>\n",
              "      <td>...</td>\n",
              "      <td>...</td>\n",
              "      <td>...</td>\n",
              "      <td>...</td>\n",
              "      <td>...</td>\n",
              "      <td>...</td>\n",
              "    </tr>\n",
              "    <tr>\n",
              "      <th>338</th>\n",
              "      <td>-0.006656</td>\n",
              "      <td>-0.002563</td>\n",
              "      <td>-0.002521</td>\n",
              "      <td>0.000381</td>\n",
              "      <td>-0.000377</td>\n",
              "      <td>-0.001973</td>\n",
              "      <td>-0.001294</td>\n",
              "      <td>0.001372</td>\n",
              "      <td>-0.000706</td>\n",
              "      <td>-0.000911</td>\n",
              "      <td>...</td>\n",
              "      <td>0.009170</td>\n",
              "      <td>0.008166</td>\n",
              "      <td>0.009541</td>\n",
              "      <td>0.009174</td>\n",
              "      <td>0.008866</td>\n",
              "      <td>0.009399</td>\n",
              "      <td>0.009248</td>\n",
              "      <td>0.009066</td>\n",
              "      <td>0.008728</td>\n",
              "      <td>0.008913</td>\n",
              "    </tr>\n",
              "    <tr>\n",
              "      <th>339</th>\n",
              "      <td>-0.005036</td>\n",
              "      <td>-0.001930</td>\n",
              "      <td>-0.001900</td>\n",
              "      <td>0.000301</td>\n",
              "      <td>-0.000290</td>\n",
              "      <td>-0.001492</td>\n",
              "      <td>-0.000962</td>\n",
              "      <td>0.001036</td>\n",
              "      <td>-0.000544</td>\n",
              "      <td>-0.000680</td>\n",
              "      <td>...</td>\n",
              "      <td>0.009074</td>\n",
              "      <td>0.008313</td>\n",
              "      <td>0.009355</td>\n",
              "      <td>0.009077</td>\n",
              "      <td>0.008844</td>\n",
              "      <td>0.009248</td>\n",
              "      <td>0.009134</td>\n",
              "      <td>0.008996</td>\n",
              "      <td>0.008739</td>\n",
              "      <td>0.008879</td>\n",
              "    </tr>\n",
              "    <tr>\n",
              "      <th>340</th>\n",
              "      <td>-0.003122</td>\n",
              "      <td>-0.001235</td>\n",
              "      <td>-0.001218</td>\n",
              "      <td>0.000134</td>\n",
              "      <td>-0.000140</td>\n",
              "      <td>-0.000921</td>\n",
              "      <td>-0.000716</td>\n",
              "      <td>0.000675</td>\n",
              "      <td>-0.000272</td>\n",
              "      <td>-0.000508</td>\n",
              "      <td>...</td>\n",
              "      <td>0.008954</td>\n",
              "      <td>0.008498</td>\n",
              "      <td>0.009129</td>\n",
              "      <td>0.008954</td>\n",
              "      <td>0.008815</td>\n",
              "      <td>0.009066</td>\n",
              "      <td>0.008996</td>\n",
              "      <td>0.008912</td>\n",
              "      <td>0.008756</td>\n",
              "      <td>0.008840</td>\n",
              "    </tr>\n",
              "    <tr>\n",
              "      <th>341</th>\n",
              "      <td>0.000386</td>\n",
              "      <td>0.000016</td>\n",
              "      <td>0.000009</td>\n",
              "      <td>-0.000203</td>\n",
              "      <td>0.000148</td>\n",
              "      <td>0.000126</td>\n",
              "      <td>-0.000310</td>\n",
              "      <td>0.000020</td>\n",
              "      <td>0.000253</td>\n",
              "      <td>-0.000219</td>\n",
              "      <td>...</td>\n",
              "      <td>0.008732</td>\n",
              "      <td>0.008838</td>\n",
              "      <td>0.008711</td>\n",
              "      <td>0.008725</td>\n",
              "      <td>0.008761</td>\n",
              "      <td>0.008728</td>\n",
              "      <td>0.008739</td>\n",
              "      <td>0.008756</td>\n",
              "      <td>0.008789</td>\n",
              "      <td>0.008770</td>\n",
              "    </tr>\n",
              "    <tr>\n",
              "      <th>342</th>\n",
              "      <td>-0.001535</td>\n",
              "      <td>-0.000659</td>\n",
              "      <td>-0.000651</td>\n",
              "      <td>-0.000004</td>\n",
              "      <td>-0.000023</td>\n",
              "      <td>-0.000449</td>\n",
              "      <td>-0.000495</td>\n",
              "      <td>0.000367</td>\n",
              "      <td>-0.000055</td>\n",
              "      <td>-0.000349</td>\n",
              "      <td>...</td>\n",
              "      <td>0.008855</td>\n",
              "      <td>0.008648</td>\n",
              "      <td>0.008941</td>\n",
              "      <td>0.008853</td>\n",
              "      <td>0.008791</td>\n",
              "      <td>0.008913</td>\n",
              "      <td>0.008879</td>\n",
              "      <td>0.008840</td>\n",
              "      <td>0.008770</td>\n",
              "      <td>0.008807</td>\n",
              "    </tr>\n",
              "  </tbody>\n",
              "</table>\n",
              "<p>343 rows × 343 columns</p>\n",
              "</div>\n",
              "      <button class=\"colab-df-convert\" onclick=\"convertToInteractive('df-643d2950-c09a-4ed7-861e-e711e9c17023')\"\n",
              "              title=\"Convert this dataframe to an interactive table.\"\n",
              "              style=\"display:none;\">\n",
              "        \n",
              "  <svg xmlns=\"http://www.w3.org/2000/svg\" height=\"24px\"viewBox=\"0 0 24 24\"\n",
              "       width=\"24px\">\n",
              "    <path d=\"M0 0h24v24H0V0z\" fill=\"none\"/>\n",
              "    <path d=\"M18.56 5.44l.94 2.06.94-2.06 2.06-.94-2.06-.94-.94-2.06-.94 2.06-2.06.94zm-11 1L8.5 8.5l.94-2.06 2.06-.94-2.06-.94L8.5 2.5l-.94 2.06-2.06.94zm10 10l.94 2.06.94-2.06 2.06-.94-2.06-.94-.94-2.06-.94 2.06-2.06.94z\"/><path d=\"M17.41 7.96l-1.37-1.37c-.4-.4-.92-.59-1.43-.59-.52 0-1.04.2-1.43.59L10.3 9.45l-7.72 7.72c-.78.78-.78 2.05 0 2.83L4 21.41c.39.39.9.59 1.41.59.51 0 1.02-.2 1.41-.59l7.78-7.78 2.81-2.81c.8-.78.8-2.07 0-2.86zM5.41 20L4 18.59l7.72-7.72 1.47 1.35L5.41 20z\"/>\n",
              "  </svg>\n",
              "      </button>\n",
              "      \n",
              "  <style>\n",
              "    .colab-df-container {\n",
              "      display:flex;\n",
              "      flex-wrap:wrap;\n",
              "      gap: 12px;\n",
              "    }\n",
              "\n",
              "    .colab-df-convert {\n",
              "      background-color: #E8F0FE;\n",
              "      border: none;\n",
              "      border-radius: 50%;\n",
              "      cursor: pointer;\n",
              "      display: none;\n",
              "      fill: #1967D2;\n",
              "      height: 32px;\n",
              "      padding: 0 0 0 0;\n",
              "      width: 32px;\n",
              "    }\n",
              "\n",
              "    .colab-df-convert:hover {\n",
              "      background-color: #E2EBFA;\n",
              "      box-shadow: 0px 1px 2px rgba(60, 64, 67, 0.3), 0px 1px 3px 1px rgba(60, 64, 67, 0.15);\n",
              "      fill: #174EA6;\n",
              "    }\n",
              "\n",
              "    [theme=dark] .colab-df-convert {\n",
              "      background-color: #3B4455;\n",
              "      fill: #D2E3FC;\n",
              "    }\n",
              "\n",
              "    [theme=dark] .colab-df-convert:hover {\n",
              "      background-color: #434B5C;\n",
              "      box-shadow: 0px 1px 3px 1px rgba(0, 0, 0, 0.15);\n",
              "      filter: drop-shadow(0px 1px 2px rgba(0, 0, 0, 0.3));\n",
              "      fill: #FFFFFF;\n",
              "    }\n",
              "  </style>\n",
              "\n",
              "      <script>\n",
              "        const buttonEl =\n",
              "          document.querySelector('#df-643d2950-c09a-4ed7-861e-e711e9c17023 button.colab-df-convert');\n",
              "        buttonEl.style.display =\n",
              "          google.colab.kernel.accessAllowed ? 'block' : 'none';\n",
              "\n",
              "        async function convertToInteractive(key) {\n",
              "          const element = document.querySelector('#df-643d2950-c09a-4ed7-861e-e711e9c17023');\n",
              "          const dataTable =\n",
              "            await google.colab.kernel.invokeFunction('convertToInteractive',\n",
              "                                                     [key], {});\n",
              "          if (!dataTable) return;\n",
              "\n",
              "          const docLinkHtml = 'Like what you see? Visit the ' +\n",
              "            '<a target=\"_blank\" href=https://colab.research.google.com/notebooks/data_table.ipynb>data table notebook</a>'\n",
              "            + ' to learn more about interactive tables.';\n",
              "          element.innerHTML = '';\n",
              "          dataTable['output_type'] = 'display_data';\n",
              "          await google.colab.output.renderOutput(dataTable, element);\n",
              "          const docLink = document.createElement('div');\n",
              "          docLink.innerHTML = docLinkHtml;\n",
              "          element.appendChild(docLink);\n",
              "        }\n",
              "      </script>\n",
              "    </div>\n",
              "  </div>\n",
              "  "
            ]
          },
          "metadata": {},
          "execution_count": 72
        }
      ]
    },
    {
      "cell_type": "markdown",
      "source": [
        "Para conocer los leverage points de los datos, obtenemos la diagonal de nuestra Hat matrix"
      ],
      "metadata": {
        "id": "MWiziGxHaUVr"
      }
    },
    {
      "cell_type": "code",
      "source": [
        "lp = np.diag(hat_mat_pd)"
      ],
      "metadata": {
        "id": "sRjzuOR9YX-s"
      },
      "execution_count": 73,
      "outputs": []
    },
    {
      "cell_type": "code",
      "source": [
        "import matplotlib.pyplot as plt\n",
        "plt.scatter(lp, y)"
      ],
      "metadata": {
        "colab": {
          "base_uri": "https://localhost:8080/",
          "height": 282
        },
        "id": "csGcdW8hZq-a",
        "outputId": "98ce5b9a-1272-46f4-e1c9-6c7c01b45191"
      },
      "execution_count": 74,
      "outputs": [
        {
          "output_type": "execute_result",
          "data": {
            "text/plain": [
              "<matplotlib.collections.PathCollection at 0x7f409159a390>"
            ]
          },
          "metadata": {},
          "execution_count": 74
        },
        {
          "output_type": "display_data",
          "data": {
            "text/plain": [
              "<Figure size 432x288 with 1 Axes>"
            ],
            "image/png": "[encoded data removed]"
          },
          "metadata": {
            "needs_background": "light"
          }
        }
      ]
    },
    {
      "cell_type": "code",
      "source": [
        "lp_df = pd.DataFrame(lp, columns = ['leverage_points'])"
      ],
      "metadata": {
        "id": "_WAtaiy9atGb"
      },
      "execution_count": 75,
      "outputs": []
    },
    {
      "cell_type": "code",
      "source": [
        "lp_df.describe()"
      ],
      "metadata": {
        "colab": {
          "base_uri": "https://localhost:8080/",
          "height": 300
        },
        "id": "TY5HD4w8a6f8",
        "outputId": "d44ab13f-0c4e-4fe3-d2b6-bd8e5d67cd94"
      },
      "execution_count": 76,
      "outputs": [
        {
          "output_type": "execute_result",
          "data": {
            "text/plain": [
              "       leverage_points\n",
              "count       343.000000\n",
              "mean          0.017493\n",
              "std           0.060969\n",
              "min           0.008723\n",
              "25%           0.009009\n",
              "50%           0.009527\n",
              "75%           0.011539\n",
              "max           0.897466"
            ],
            "text/html": [
              "\n",
              "  <div id=\"df-ed3c22fe-cf60-486a-88d8-95aa6c91671b\">\n",
              "    <div class=\"colab-df-container\">\n",
              "      <div>\n",
              "<style scoped>\n",
              "    .dataframe tbody tr th:only-of-type {\n",
              "        vertical-align: middle;\n",
              "    }\n",
              "\n",
              "    .dataframe tbody tr th {\n",
              "        vertical-align: top;\n",
              "    }\n",
              "\n",
              "    .dataframe thead th {\n",
              "        text-align: right;\n",
              "    }\n",
              "</style>\n",
              "<table border=\"1\" class=\"dataframe\">\n",
              "  <thead>\n",
              "    <tr style=\"text-align: right;\">\n",
              "      <th></th>\n",
              "      <th>leverage_points</th>\n",
              "    </tr>\n",
              "  </thead>\n",
              "  <tbody>\n",
              "    <tr>\n",
              "      <th>count</th>\n",
              "      <td>343.000000</td>\n",
              "    </tr>\n",
              "    <tr>\n",
              "      <th>mean</th>\n",
              "      <td>0.017493</td>\n",
              "    </tr>\n",
              "    <tr>\n",
              "      <th>std</th>\n",
              "      <td>0.060969</td>\n",
              "    </tr>\n",
              "    <tr>\n",
              "      <th>min</th>\n",
              "      <td>0.008723</td>\n",
              "    </tr>\n",
              "    <tr>\n",
              "      <th>25%</th>\n",
              "      <td>0.009009</td>\n",
              "    </tr>\n",
              "    <tr>\n",
              "      <th>50%</th>\n",
              "      <td>0.009527</td>\n",
              "    </tr>\n",
              "    <tr>\n",
              "      <th>75%</th>\n",
              "      <td>0.011539</td>\n",
              "    </tr>\n",
              "    <tr>\n",
              "      <th>max</th>\n",
              "      <td>0.897466</td>\n",
              "    </tr>\n",
              "  </tbody>\n",
              "</table>\n",
              "</div>\n",
              "      <button class=\"colab-df-convert\" onclick=\"convertToInteractive('df-ed3c22fe-cf60-486a-88d8-95aa6c91671b')\"\n",
              "              title=\"Convert this dataframe to an interactive table.\"\n",
              "              style=\"display:none;\">\n",
              "        \n",
              "  <svg xmlns=\"http://www.w3.org/2000/svg\" height=\"24px\"viewBox=\"0 0 24 24\"\n",
              "       width=\"24px\">\n",
              "    <path d=\"M0 0h24v24H0V0z\" fill=\"none\"/>\n",
              "    <path d=\"M18.56 5.44l.94 2.06.94-2.06 2.06-.94-2.06-.94-.94-2.06-.94 2.06-2.06.94zm-11 1L8.5 8.5l.94-2.06 2.06-.94-2.06-.94L8.5 2.5l-.94 2.06-2.06.94zm10 10l.94 2.06.94-2.06 2.06-.94-2.06-.94-.94-2.06-.94 2.06-2.06.94z\"/><path d=\"M17.41 7.96l-1.37-1.37c-.4-.4-.92-.59-1.43-.59-.52 0-1.04.2-1.43.59L10.3 9.45l-7.72 7.72c-.78.78-.78 2.05 0 2.83L4 21.41c.39.39.9.59 1.41.59.51 0 1.02-.2 1.41-.59l7.78-7.78 2.81-2.81c.8-.78.8-2.07 0-2.86zM5.41 20L4 18.59l7.72-7.72 1.47 1.35L5.41 20z\"/>\n",
              "  </svg>\n",
              "      </button>\n",
              "      \n",
              "  <style>\n",
              "    .colab-df-container {\n",
              "      display:flex;\n",
              "      flex-wrap:wrap;\n",
              "      gap: 12px;\n",
              "    }\n",
              "\n",
              "    .colab-df-convert {\n",
              "      background-color: #E8F0FE;\n",
              "      border: none;\n",
              "      border-radius: 50%;\n",
              "      cursor: pointer;\n",
              "      display: none;\n",
              "      fill: #1967D2;\n",
              "      height: 32px;\n",
              "      padding: 0 0 0 0;\n",
              "      width: 32px;\n",
              "    }\n",
              "\n",
              "    .colab-df-convert:hover {\n",
              "      background-color: #E2EBFA;\n",
              "      box-shadow: 0px 1px 2px rgba(60, 64, 67, 0.3), 0px 1px 3px 1px rgba(60, 64, 67, 0.15);\n",
              "      fill: #174EA6;\n",
              "    }\n",
              "\n",
              "    [theme=dark] .colab-df-convert {\n",
              "      background-color: #3B4455;\n",
              "      fill: #D2E3FC;\n",
              "    }\n",
              "\n",
              "    [theme=dark] .colab-df-convert:hover {\n",
              "      background-color: #434B5C;\n",
              "      box-shadow: 0px 1px 3px 1px rgba(0, 0, 0, 0.15);\n",
              "      filter: drop-shadow(0px 1px 2px rgba(0, 0, 0, 0.3));\n",
              "      fill: #FFFFFF;\n",
              "    }\n",
              "  </style>\n",
              "\n",
              "      <script>\n",
              "        const buttonEl =\n",
              "          document.querySelector('#df-ed3c22fe-cf60-486a-88d8-95aa6c91671b button.colab-df-convert');\n",
              "        buttonEl.style.display =\n",
              "          google.colab.kernel.accessAllowed ? 'block' : 'none';\n",
              "\n",
              "        async function convertToInteractive(key) {\n",
              "          const element = document.querySelector('#df-ed3c22fe-cf60-486a-88d8-95aa6c91671b');\n",
              "          const dataTable =\n",
              "            await google.colab.kernel.invokeFunction('convertToInteractive',\n",
              "                                                     [key], {});\n",
              "          if (!dataTable) return;\n",
              "\n",
              "          const docLinkHtml = 'Like what you see? Visit the ' +\n",
              "            '<a target=\"_blank\" href=https://colab.research.google.com/notebooks/data_table.ipynb>data table notebook</a>'\n",
              "            + ' to learn more about interactive tables.';\n",
              "          element.innerHTML = '';\n",
              "          dataTable['output_type'] = 'display_data';\n",
              "          await google.colab.output.renderOutput(dataTable, element);\n",
              "          const docLink = document.createElement('div');\n",
              "          docLink.innerHTML = docLinkHtml;\n",
              "          element.appendChild(docLink);\n",
              "        }\n",
              "      </script>\n",
              "    </div>\n",
              "  </div>\n",
              "  "
            ]
          },
          "metadata": {},
          "execution_count": 76
        }
      ]
    },
    {
      "cell_type": "markdown",
      "source": [
        "Una vez obtenidos los leverage points, podemos ver en la grafica, que tenemos algunos con valores altos,(las que se encuentran por encima de 0.6), de igual forma, podemos ver que estos son leverage points altos, ya que la media de los datos es de 0.17, por lo que se encuentran muy separados.\n",
        "\n",
        "De igual forma, podemos seguir la formula *(3k+3)/n*, con la cual obtenemos 3 veces el valor de la media de los leverage points, y los valores por encima de estos se consideran altos.\n",
        "\n",
        "Datos a tomar:\n",
        "* k = number of predictors (5)\n",
        "* n = number of observations (343)\n",
        "\n",
        "((3*5)+3)/343 = 0.0524781341107 => cualquier número por encima de este es un high leverage."
      ],
      "metadata": {
        "id": "Lt5x6fgSbErN"
      }
    },
    {
      "cell_type": "markdown",
      "source": [
        "Dropearemos todos los datos por encima de esto."
      ],
      "metadata": {
        "id": "WPOhey4IeiG_"
      }
    },
    {
      "cell_type": "code",
      "source": [
        "mask = lp_df['leverage_points'] <= 0.0524781341107\n",
        "lp_df = lp_df[mask]"
      ],
      "metadata": {
        "id": "clGRENpWbEWS"
      },
      "execution_count": 77,
      "outputs": []
    },
    {
      "cell_type": "code",
      "source": [
        "lp_df.describe()"
      ],
      "metadata": {
        "colab": {
          "base_uri": "https://localhost:8080/",
          "height": 300
        },
        "id": "ZSApg3CufIb6",
        "outputId": "48f6eb2a-c191-4dcd-b406-2828ebeeb545"
      },
      "execution_count": 78,
      "outputs": [
        {
          "output_type": "execute_result",
          "data": {
            "text/plain": [
              "       leverage_points\n",
              "count       336.000000\n",
              "mean          0.011478\n",
              "std           0.005558\n",
              "min           0.008723\n",
              "25%           0.009003\n",
              "50%           0.009512\n",
              "75%           0.011380\n",
              "max           0.050592"
            ],
            "text/html": [
              "\n",
              "  <div id=\"df-55773c38-25e2-4767-b6ed-662813180b23\">\n",
              "    <div class=\"colab-df-container\">\n",
              "      <div>\n",
              "<style scoped>\n",
              "    .dataframe tbody tr th:only-of-type {\n",
              "        vertical-align: middle;\n",
              "    }\n",
              "\n",
              "    .dataframe tbody tr th {\n",
              "        vertical-align: top;\n",
              "    }\n",
              "\n",
              "    .dataframe thead th {\n",
              "        text-align: right;\n",
              "    }\n",
              "</style>\n",
              "<table border=\"1\" class=\"dataframe\">\n",
              "  <thead>\n",
              "    <tr style=\"text-align: right;\">\n",
              "      <th></th>\n",
              "      <th>leverage_points</th>\n",
              "    </tr>\n",
              "  </thead>\n",
              "  <tbody>\n",
              "    <tr>\n",
              "      <th>count</th>\n",
              "      <td>336.000000</td>\n",
              "    </tr>\n",
              "    <tr>\n",
              "      <th>mean</th>\n",
              "      <td>0.011478</td>\n",
              "    </tr>\n",
              "    <tr>\n",
              "      <th>std</th>\n",
              "      <td>0.005558</td>\n",
              "    </tr>\n",
              "    <tr>\n",
              "      <th>min</th>\n",
              "      <td>0.008723</td>\n",
              "    </tr>\n",
              "    <tr>\n",
              "      <th>25%</th>\n",
              "      <td>0.009003</td>\n",
              "    </tr>\n",
              "    <tr>\n",
              "      <th>50%</th>\n",
              "      <td>0.009512</td>\n",
              "    </tr>\n",
              "    <tr>\n",
              "      <th>75%</th>\n",
              "      <td>0.011380</td>\n",
              "    </tr>\n",
              "    <tr>\n",
              "      <th>max</th>\n",
              "      <td>0.050592</td>\n",
              "    </tr>\n",
              "  </tbody>\n",
              "</table>\n",
              "</div>\n",
              "      <button class=\"colab-df-convert\" onclick=\"convertToInteractive('df-55773c38-25e2-4767-b6ed-662813180b23')\"\n",
              "              title=\"Convert this dataframe to an interactive table.\"\n",
              "              style=\"display:none;\">\n",
              "        \n",
              "  <svg xmlns=\"http://www.w3.org/2000/svg\" height=\"24px\"viewBox=\"0 0 24 24\"\n",
              "       width=\"24px\">\n",
              "    <path d=\"M0 0h24v24H0V0z\" fill=\"none\"/>\n",
              "    <path d=\"M18.56 5.44l.94 2.06.94-2.06 2.06-.94-2.06-.94-.94-2.06-.94 2.06-2.06.94zm-11 1L8.5 8.5l.94-2.06 2.06-.94-2.06-.94L8.5 2.5l-.94 2.06-2.06.94zm10 10l.94 2.06.94-2.06 2.06-.94-2.06-.94-.94-2.06-.94 2.06-2.06.94z\"/><path d=\"M17.41 7.96l-1.37-1.37c-.4-.4-.92-.59-1.43-.59-.52 0-1.04.2-1.43.59L10.3 9.45l-7.72 7.72c-.78.78-.78 2.05 0 2.83L4 21.41c.39.39.9.59 1.41.59.51 0 1.02-.2 1.41-.59l7.78-7.78 2.81-2.81c.8-.78.8-2.07 0-2.86zM5.41 20L4 18.59l7.72-7.72 1.47 1.35L5.41 20z\"/>\n",
              "  </svg>\n",
              "      </button>\n",
              "      \n",
              "  <style>\n",
              "    .colab-df-container {\n",
              "      display:flex;\n",
              "      flex-wrap:wrap;\n",
              "      gap: 12px;\n",
              "    }\n",
              "\n",
              "    .colab-df-convert {\n",
              "      background-color: #E8F0FE;\n",
              "      border: none;\n",
              "      border-radius: 50%;\n",
              "      cursor: pointer;\n",
              "      display: none;\n",
              "      fill: #1967D2;\n",
              "      height: 32px;\n",
              "      padding: 0 0 0 0;\n",
              "      width: 32px;\n",
              "    }\n",
              "\n",
              "    .colab-df-convert:hover {\n",
              "      background-color: #E2EBFA;\n",
              "      box-shadow: 0px 1px 2px rgba(60, 64, 67, 0.3), 0px 1px 3px 1px rgba(60, 64, 67, 0.15);\n",
              "      fill: #174EA6;\n",
              "    }\n",
              "\n",
              "    [theme=dark] .colab-df-convert {\n",
              "      background-color: #3B4455;\n",
              "      fill: #D2E3FC;\n",
              "    }\n",
              "\n",
              "    [theme=dark] .colab-df-convert:hover {\n",
              "      background-color: #434B5C;\n",
              "      box-shadow: 0px 1px 3px 1px rgba(0, 0, 0, 0.15);\n",
              "      filter: drop-shadow(0px 1px 2px rgba(0, 0, 0, 0.3));\n",
              "      fill: #FFFFFF;\n",
              "    }\n",
              "  </style>\n",
              "\n",
              "      <script>\n",
              "        const buttonEl =\n",
              "          document.querySelector('#df-55773c38-25e2-4767-b6ed-662813180b23 button.colab-df-convert');\n",
              "        buttonEl.style.display =\n",
              "          google.colab.kernel.accessAllowed ? 'block' : 'none';\n",
              "\n",
              "        async function convertToInteractive(key) {\n",
              "          const element = document.querySelector('#df-55773c38-25e2-4767-b6ed-662813180b23');\n",
              "          const dataTable =\n",
              "            await google.colab.kernel.invokeFunction('convertToInteractive',\n",
              "                                                     [key], {});\n",
              "          if (!dataTable) return;\n",
              "\n",
              "          const docLinkHtml = 'Like what you see? Visit the ' +\n",
              "            '<a target=\"_blank\" href=https://colab.research.google.com/notebooks/data_table.ipynb>data table notebook</a>'\n",
              "            + ' to learn more about interactive tables.';\n",
              "          element.innerHTML = '';\n",
              "          dataTable['output_type'] = 'display_data';\n",
              "          await google.colab.output.renderOutput(dataTable, element);\n",
              "          const docLink = document.createElement('div');\n",
              "          docLink.innerHTML = docLinkHtml;\n",
              "          element.appendChild(docLink);\n",
              "        }\n",
              "      </script>\n",
              "    </div>\n",
              "  </div>\n",
              "  "
            ]
          },
          "metadata": {},
          "execution_count": 78
        }
      ]
    },
    {
      "cell_type": "markdown",
      "source": [
        "Podemos ver que se eliminaron 7 registros, y una vez eliminados estos datos, vemos que ya no hay datos por encima del valor dicho\n",
        "\n"
      ],
      "metadata": {
        "id": "af2Gx7_VgGuO"
      }
    },
    {
      "cell_type": "markdown",
      "source": [
        "Finalmente obtenemos los valores de las Betas con outliers del primer modelo "
      ],
      "metadata": {
        "id": "FSOCkzwLhxWL"
      }
    },
    {
      "cell_type": "code",
      "execution_count": 79,
      "metadata": {
        "id": "tlZysBt6zqcJ"
      },
      "outputs": [],
      "source": [
        "B = np.dot(aux, y)"
      ]
    },
    {
      "cell_type": "code",
      "execution_count": 80,
      "metadata": {
        "id": "OTsgOD4KOZM8",
        "colab": {
          "base_uri": "https://localhost:8080/"
        },
        "outputId": "5ae4f4b2-8075-4469-becc-ce40c025e581"
      },
      "outputs": [
        {
          "output_type": "stream",
          "name": "stdout",
          "text": [
            "[-0.32709095 -0.19304263 -0.10909288  3.15241522  0.00727031 -0.03304624]\n"
          ]
        }
      ],
      "source": [
        "print(B)"
      ]
    },
    {
      "cell_type": "markdown",
      "source": [
        "###MSE"
      ],
      "metadata": {
        "id": "Gon1l7u1wbio"
      }
    },
    {
      "cell_type": "code",
      "source": [
        "y_pred = X * B"
      ],
      "metadata": {
        "id": "TdxQkJc5wlcv"
      },
      "execution_count": 81,
      "outputs": []
    },
    {
      "cell_type": "code",
      "source": [
        "y_pred['sum'] = y_pred['1'] + y_pred['isSmall'] + y_pred['isMedium'] + y_pred['EPSP'] + y_pred['OPM'] + y_pred['Book_to_Market_ratio']"
      ],
      "metadata": {
        "id": "KKav5TcBww5M"
      },
      "execution_count": 82,
      "outputs": []
    },
    {
      "cell_type": "code",
      "source": [
        "E = y - y_pred['sum']"
      ],
      "metadata": {
        "id": "8n_QU1E6xbwp"
      },
      "execution_count": 83,
      "outputs": []
    },
    {
      "cell_type": "code",
      "source": [
        "aux = E * E"
      ],
      "metadata": {
        "id": "Z-6cI71FxoGT"
      },
      "execution_count": 84,
      "outputs": []
    },
    {
      "cell_type": "code",
      "source": [
        "print(aux)"
      ],
      "metadata": {
        "id": "zrAK4sFj1ks4",
        "colab": {
          "base_uri": "https://localhost:8080/"
        },
        "outputId": "bde7f333-8be8-4696-a1e8-0e3711d1c9d0"
      },
      "execution_count": 85,
      "outputs": [
        {
          "output_type": "stream",
          "name": "stdout",
          "text": [
            "0      0.151943\n",
            "1      0.619076\n",
            "2      0.088342\n",
            "3      1.662498\n",
            "4      0.089718\n",
            "         ...   \n",
            "338    0.147653\n",
            "339    0.025062\n",
            "340    0.017362\n",
            "341    0.224387\n",
            "342    0.034444\n",
            "Length: 343, dtype: float64\n"
          ]
        }
      ]
    },
    {
      "cell_type": "code",
      "source": [
        "MSE = aux.sum()/len(aux)"
      ],
      "metadata": {
        "id": "xEEuBa_axsRt"
      },
      "execution_count": 86,
      "outputs": []
    },
    {
      "cell_type": "code",
      "source": [
        "print(MSE)"
      ],
      "metadata": {
        "id": "MkTxw3Kyx2aR",
        "colab": {
          "base_uri": "https://localhost:8080/"
        },
        "outputId": "131a2199-97c0-4d04-e748-d97cd73115fe"
      },
      "execution_count": 87,
      "outputs": [
        {
          "output_type": "stream",
          "name": "stdout",
          "text": [
            "0.28707952963553085\n"
          ]
        }
      ]
    },
    {
      "cell_type": "markdown",
      "source": [
        "###Multicolinealidad"
      ],
      "metadata": {
        "id": "S6Mw_DDRhjdB"
      }
    },
    {
      "cell_type": "markdown",
      "source": [
        "Revisamos la multicolinearidad de las variables usando la funcion de VIF"
      ],
      "metadata": {
        "id": "acNLxHwVwTzq"
      }
    },
    {
      "cell_type": "code",
      "source": [
        "from statsmodels.stats.outliers_influence import variance_inflation_factor\n",
        "vif_data = pd.DataFrame()\n",
        "vif_data[\"feature\"] = X.columns\n",
        "\n",
        "# calculating VIF for each feature\n",
        "vif_data[\"VIF\"] = [variance_inflation_factor(X.values, i)\n",
        "                          for i in range(len(X.columns))]\n",
        "\n",
        "print(vif_data)"
      ],
      "metadata": {
        "colab": {
          "base_uri": "https://localhost:8080/"
        },
        "id": "Y8Ulmg6G3Fiv",
        "outputId": "c744d373-8e85-4df9-a892-3b4766e9bf10"
      },
      "execution_count": 88,
      "outputs": [
        {
          "output_type": "stream",
          "name": "stdout",
          "text": [
            "                feature       VIF\n",
            "0                     1  3.169416\n",
            "1               isSmall  1.623790\n",
            "2              isMedium  1.356360\n",
            "3                  EPSP  1.095860\n",
            "4                   OPM  1.011020\n",
            "5  Book_to_Market_ratio  1.158820\n"
          ]
        }
      ]
    },
    {
      "cell_type": "markdown",
      "source": [
        "Como podemos ver, al tener un vif de menos de 1.5 en todas las variables, no existe multicolienaridad en los datos, por lo que no se necesita generar cambios en estos"
      ],
      "metadata": {
        "id": "4sQnKEnY3rNn"
      }
    },
    {
      "cell_type": "markdown",
      "source": [
        "##Modelo base"
      ],
      "metadata": {
        "id": "PkIiOvS2yqH7"
      }
    },
    {
      "cell_type": "code",
      "source": [
        "import statsmodels.api as sm\n",
        "import statsmodels.formula.api as smf"
      ],
      "metadata": {
        "id": "JKb3MJUxyFPo"
      },
      "execution_count": 89,
      "outputs": []
    },
    {
      "cell_type": "code",
      "source": [
        "mod = sm.OLS(y, sm.add_constant(X)).fit()\n",
        "\n",
        "print(mod.summary())"
      ],
      "metadata": {
        "id": "MrKWH1NSx7qP",
        "colab": {
          "base_uri": "https://localhost:8080/"
        },
        "outputId": "ad6625ad-30ff-47ec-b198-bd0759666834"
      },
      "execution_count": 90,
      "outputs": [
        {
          "output_type": "stream",
          "name": "stdout",
          "text": [
            "                            OLS Regression Results                            \n",
            "==============================================================================\n",
            "Dep. Variable:                      R   R-squared:                       0.293\n",
            "Model:                            OLS   Adj. R-squared:                  0.283\n",
            "Method:                 Least Squares   F-statistic:                     27.96\n",
            "Date:                Sat, 26 Nov 2022   Prob (F-statistic):           1.09e-23\n",
            "Time:                        00:39:10   Log-Likelihood:                -272.66\n",
            "No. Observations:                 343   AIC:                             557.3\n",
            "Df Residuals:                     337   BIC:                             580.4\n",
            "Df Model:                           5                                         \n",
            "Covariance Type:            nonrobust                                         \n",
            "========================================================================================\n",
            "                           coef    std err          t      P>|t|      [0.025      0.975]\n",
            "----------------------------------------------------------------------------------------\n",
            "1                       -0.3271      0.052     -6.295      0.000      -0.429      -0.225\n",
            "isSmall                 -0.1930      0.079     -2.450      0.015      -0.348      -0.038\n",
            "isMedium                -0.1091      0.072     -1.512      0.132      -0.251       0.033\n",
            "EPSP                     3.1524      0.340      9.273      0.000       2.484       3.821\n",
            "OPM                      0.0073      0.002      4.040      0.000       0.004       0.011\n",
            "Book_to_Market_ratio    -0.0330      0.062     -0.536      0.592      -0.154       0.088\n",
            "==============================================================================\n",
            "Omnibus:                       35.305   Durbin-Watson:                   2.043\n",
            "Prob(Omnibus):                  0.000   Jarque-Bera (JB):               82.739\n",
            "Skew:                          -0.514   Prob(JB):                     1.08e-18\n",
            "Kurtosis:                       5.175   Cond. No.                         191.\n",
            "==============================================================================\n",
            "\n",
            "Notes:\n",
            "[1] Standard Errors assume that the covariance matrix of the errors is correctly specified.\n"
          ]
        },
        {
          "output_type": "stream",
          "name": "stderr",
          "text": [
            "/usr/local/lib/python3.7/dist-packages/statsmodels/tsa/tsatools.py:142: FutureWarning: In a future version of pandas all arguments of concat except for the argument 'objs' will be keyword-only\n",
            "  x = pd.concat(x[::order], 1)\n"
          ]
        }
      ]
    },
    {
      "cell_type": "markdown",
      "source": [
        "###Leverage Points y Outliers"
      ],
      "metadata": {
        "id": "55am0MOkEIPa"
      }
    },
    {
      "cell_type": "code",
      "source": [
        "influence = mod.get_influence()\n",
        "inf_sum = influence.summary_frame()\n",
        "\n",
        "print(inf_sum.head())\n",
        "\n",
        "student_resid = influence.resid_studentized_external\n",
        "(cooks, p) = influence.cooks_distance\n",
        "(dffits, p) = influence.dffits\n",
        "leverage = influence.hat_matrix_diag"
      ],
      "metadata": {
        "colab": {
          "base_uri": "https://localhost:8080/"
        },
        "id": "axLtH0RZELp6",
        "outputId": "d7c9967b-1519-4d20-a2be-51d54240e8df"
      },
      "execution_count": 91,
      "outputs": [
        {
          "output_type": "stream",
          "name": "stdout",
          "text": [
            "      dfb_1  dfb_isSmall  dfb_isMedium  dfb_EPSP   dfb_OPM  \\\n",
            "0 -0.044687    -0.031668     -0.020327 -0.027360  0.002654   \n",
            "1  0.029940    -0.019770      0.015261  0.073203 -0.008763   \n",
            "2  0.011037    -0.007701      0.005749  0.027817 -0.002096   \n",
            "3 -0.014111    -0.133038     -0.002716  0.112631 -0.013666   \n",
            "4 -0.002805     0.034266     -0.000482  0.017255  0.000608   \n",
            "\n",
            "   dfb_Book_to_Market_ratio   cooks_d  standard_resid  hat_diag  \\\n",
            "0                  0.206752  0.008190        0.751811  0.079981   \n",
            "1                 -0.147880  0.007803       -1.471246  0.021171   \n",
            "2                 -0.054685  0.001096       -0.555683  0.020851   \n",
            "3                  0.044585  0.010818       -2.398740  0.011155   \n",
            "4                  0.009680  0.000519        0.556899  0.009939   \n",
            "\n",
            "   dffits_internal  student_resid    dffits  \n",
            "0         0.221669       0.751325  0.221526  \n",
            "1        -0.216375      -1.473802 -0.216751  \n",
            "2        -0.081090      -0.555112 -0.081007  \n",
            "3        -0.254769      -2.415891 -0.256591  \n",
            "4         0.055797       0.556328  0.055740  \n"
          ]
        }
      ]
    },
    {
      "cell_type": "code",
      "source": [
        "# Concatenación con la variable dependiente y (R)\n",
        "from statsmodels.formula.api import ols\n",
        "\n",
        "ym = pd.DataFrame(y)\n",
        "y_dep = pd.concat([ym.R, inf_sum], axis = 1)\n",
        "y_dep =y_dep.rename(columns={'hat_diag': 'leverage'})\n",
        "y_dep.head()"
      ],
      "metadata": {
        "colab": {
          "base_uri": "https://localhost:8080/",
          "height": 206
        },
        "id": "WdtQm6mkEguN",
        "outputId": "d33d3604-defb-4459-87d6-81f68b482016"
      },
      "execution_count": 92,
      "outputs": [
        {
          "output_type": "execute_result",
          "data": {
            "text/plain": [
              "          R     dfb_1  dfb_isSmall  dfb_isMedium  dfb_EPSP   dfb_OPM  \\\n",
              "0 -0.589921 -0.044687    -0.031668     -0.020327 -0.027360  0.002654   \n",
              "1 -1.773474  0.029940    -0.019770      0.015261  0.073203 -0.008763   \n",
              "2 -1.290984  0.011037    -0.007701      0.005749  0.027817 -0.002096   \n",
              "3 -2.218991 -0.014111    -0.133038     -0.002716  0.112631 -0.013666   \n",
              "4 -0.253549 -0.002805     0.034266     -0.000482  0.017255  0.000608   \n",
              "\n",
              "   dfb_Book_to_Market_ratio   cooks_d  standard_resid  leverage  \\\n",
              "0                  0.206752  0.008190        0.751811  0.079981   \n",
              "1                 -0.147880  0.007803       -1.471246  0.021171   \n",
              "2                 -0.054685  0.001096       -0.555683  0.020851   \n",
              "3                  0.044585  0.010818       -2.398740  0.011155   \n",
              "4                  0.009680  0.000519        0.556899  0.009939   \n",
              "\n",
              "   dffits_internal  student_resid    dffits  \n",
              "0         0.221669       0.751325  0.221526  \n",
              "1        -0.216375      -1.473802 -0.216751  \n",
              "2        -0.081090      -0.555112 -0.081007  \n",
              "3        -0.254769      -2.415891 -0.256591  \n",
              "4         0.055797       0.556328  0.055740  "
            ],
            "text/html": [
              "\n",
              "  <div id=\"df-9470e9f4-85df-4925-9ddc-5af882dbcbb8\">\n",
              "    <div class=\"colab-df-container\">\n",
              "      <div>\n",
              "<style scoped>\n",
              "    .dataframe tbody tr th:only-of-type {\n",
              "        vertical-align: middle;\n",
              "    }\n",
              "\n",
              "    .dataframe tbody tr th {\n",
              "        vertical-align: top;\n",
              "    }\n",
              "\n",
              "    .dataframe thead th {\n",
              "        text-align: right;\n",
              "    }\n",
              "</style>\n",
              "<table border=\"1\" class=\"dataframe\">\n",
              "  <thead>\n",
              "    <tr style=\"text-align: right;\">\n",
              "      <th></th>\n",
              "      <th>R</th>\n",
              "      <th>dfb_1</th>\n",
              "      <th>dfb_isSmall</th>\n",
              "      <th>dfb_isMedium</th>\n",
              "      <th>dfb_EPSP</th>\n",
              "      <th>dfb_OPM</th>\n",
              "      <th>dfb_Book_to_Market_ratio</th>\n",
              "      <th>cooks_d</th>\n",
              "      <th>standard_resid</th>\n",
              "      <th>leverage</th>\n",
              "      <th>dffits_internal</th>\n",
              "      <th>student_resid</th>\n",
              "      <th>dffits</th>\n",
              "    </tr>\n",
              "  </thead>\n",
              "  <tbody>\n",
              "    <tr>\n",
              "      <th>0</th>\n",
              "      <td>-0.589921</td>\n",
              "      <td>-0.044687</td>\n",
              "      <td>-0.031668</td>\n",
              "      <td>-0.020327</td>\n",
              "      <td>-0.027360</td>\n",
              "      <td>0.002654</td>\n",
              "      <td>0.206752</td>\n",
              "      <td>0.008190</td>\n",
              "      <td>0.751811</td>\n",
              "      <td>0.079981</td>\n",
              "      <td>0.221669</td>\n",
              "      <td>0.751325</td>\n",
              "      <td>0.221526</td>\n",
              "    </tr>\n",
              "    <tr>\n",
              "      <th>1</th>\n",
              "      <td>-1.773474</td>\n",
              "      <td>0.029940</td>\n",
              "      <td>-0.019770</td>\n",
              "      <td>0.015261</td>\n",
              "      <td>0.073203</td>\n",
              "      <td>-0.008763</td>\n",
              "      <td>-0.147880</td>\n",
              "      <td>0.007803</td>\n",
              "      <td>-1.471246</td>\n",
              "      <td>0.021171</td>\n",
              "      <td>-0.216375</td>\n",
              "      <td>-1.473802</td>\n",
              "      <td>-0.216751</td>\n",
              "    </tr>\n",
              "    <tr>\n",
              "      <th>2</th>\n",
              "      <td>-1.290984</td>\n",
              "      <td>0.011037</td>\n",
              "      <td>-0.007701</td>\n",
              "      <td>0.005749</td>\n",
              "      <td>0.027817</td>\n",
              "      <td>-0.002096</td>\n",
              "      <td>-0.054685</td>\n",
              "      <td>0.001096</td>\n",
              "      <td>-0.555683</td>\n",
              "      <td>0.020851</td>\n",
              "      <td>-0.081090</td>\n",
              "      <td>-0.555112</td>\n",
              "      <td>-0.081007</td>\n",
              "    </tr>\n",
              "    <tr>\n",
              "      <th>3</th>\n",
              "      <td>-2.218991</td>\n",
              "      <td>-0.014111</td>\n",
              "      <td>-0.133038</td>\n",
              "      <td>-0.002716</td>\n",
              "      <td>0.112631</td>\n",
              "      <td>-0.013666</td>\n",
              "      <td>0.044585</td>\n",
              "      <td>0.010818</td>\n",
              "      <td>-2.398740</td>\n",
              "      <td>0.011155</td>\n",
              "      <td>-0.254769</td>\n",
              "      <td>-2.415891</td>\n",
              "      <td>-0.256591</td>\n",
              "    </tr>\n",
              "    <tr>\n",
              "      <th>4</th>\n",
              "      <td>-0.253549</td>\n",
              "      <td>-0.002805</td>\n",
              "      <td>0.034266</td>\n",
              "      <td>-0.000482</td>\n",
              "      <td>0.017255</td>\n",
              "      <td>0.000608</td>\n",
              "      <td>0.009680</td>\n",
              "      <td>0.000519</td>\n",
              "      <td>0.556899</td>\n",
              "      <td>0.009939</td>\n",
              "      <td>0.055797</td>\n",
              "      <td>0.556328</td>\n",
              "      <td>0.055740</td>\n",
              "    </tr>\n",
              "  </tbody>\n",
              "</table>\n",
              "</div>\n",
              "      <button class=\"colab-df-convert\" onclick=\"convertToInteractive('df-9470e9f4-85df-4925-9ddc-5af882dbcbb8')\"\n",
              "              title=\"Convert this dataframe to an interactive table.\"\n",
              "              style=\"display:none;\">\n",
              "        \n",
              "  <svg xmlns=\"http://www.w3.org/2000/svg\" height=\"24px\"viewBox=\"0 0 24 24\"\n",
              "       width=\"24px\">\n",
              "    <path d=\"M0 0h24v24H0V0z\" fill=\"none\"/>\n",
              "    <path d=\"M18.56 5.44l.94 2.06.94-2.06 2.06-.94-2.06-.94-.94-2.06-.94 2.06-2.06.94zm-11 1L8.5 8.5l.94-2.06 2.06-.94-2.06-.94L8.5 2.5l-.94 2.06-2.06.94zm10 10l.94 2.06.94-2.06 2.06-.94-2.06-.94-.94-2.06-.94 2.06-2.06.94z\"/><path d=\"M17.41 7.96l-1.37-1.37c-.4-.4-.92-.59-1.43-.59-.52 0-1.04.2-1.43.59L10.3 9.45l-7.72 7.72c-.78.78-.78 2.05 0 2.83L4 21.41c.39.39.9.59 1.41.59.51 0 1.02-.2 1.41-.59l7.78-7.78 2.81-2.81c.8-.78.8-2.07 0-2.86zM5.41 20L4 18.59l7.72-7.72 1.47 1.35L5.41 20z\"/>\n",
              "  </svg>\n",
              "      </button>\n",
              "      \n",
              "  <style>\n",
              "    .colab-df-container {\n",
              "      display:flex;\n",
              "      flex-wrap:wrap;\n",
              "      gap: 12px;\n",
              "    }\n",
              "\n",
              "    .colab-df-convert {\n",
              "      background-color: #E8F0FE;\n",
              "      border: none;\n",
              "      border-radius: 50%;\n",
              "      cursor: pointer;\n",
              "      display: none;\n",
              "      fill: #1967D2;\n",
              "      height: 32px;\n",
              "      padding: 0 0 0 0;\n",
              "      width: 32px;\n",
              "    }\n",
              "\n",
              "    .colab-df-convert:hover {\n",
              "      background-color: #E2EBFA;\n",
              "      box-shadow: 0px 1px 2px rgba(60, 64, 67, 0.3), 0px 1px 3px 1px rgba(60, 64, 67, 0.15);\n",
              "      fill: #174EA6;\n",
              "    }\n",
              "\n",
              "    [theme=dark] .colab-df-convert {\n",
              "      background-color: #3B4455;\n",
              "      fill: #D2E3FC;\n",
              "    }\n",
              "\n",
              "    [theme=dark] .colab-df-convert:hover {\n",
              "      background-color: #434B5C;\n",
              "      box-shadow: 0px 1px 3px 1px rgba(0, 0, 0, 0.15);\n",
              "      filter: drop-shadow(0px 1px 2px rgba(0, 0, 0, 0.3));\n",
              "      fill: #FFFFFF;\n",
              "    }\n",
              "  </style>\n",
              "\n",
              "      <script>\n",
              "        const buttonEl =\n",
              "          document.querySelector('#df-9470e9f4-85df-4925-9ddc-5af882dbcbb8 button.colab-df-convert');\n",
              "        buttonEl.style.display =\n",
              "          google.colab.kernel.accessAllowed ? 'block' : 'none';\n",
              "\n",
              "        async function convertToInteractive(key) {\n",
              "          const element = document.querySelector('#df-9470e9f4-85df-4925-9ddc-5af882dbcbb8');\n",
              "          const dataTable =\n",
              "            await google.colab.kernel.invokeFunction('convertToInteractive',\n",
              "                                                     [key], {});\n",
              "          if (!dataTable) return;\n",
              "\n",
              "          const docLinkHtml = 'Like what you see? Visit the ' +\n",
              "            '<a target=\"_blank\" href=https://colab.research.google.com/notebooks/data_table.ipynb>data table notebook</a>'\n",
              "            + ' to learn more about interactive tables.';\n",
              "          element.innerHTML = '';\n",
              "          dataTable['output_type'] = 'display_data';\n",
              "          await google.colab.output.renderOutput(dataTable, element);\n",
              "          const docLink = document.createElement('div');\n",
              "          docLink.innerHTML = docLinkHtml;\n",
              "          element.appendChild(docLink);\n",
              "        }\n",
              "      </script>\n",
              "    </div>\n",
              "  </div>\n",
              "  "
            ]
          },
          "metadata": {},
          "execution_count": 92
        }
      ]
    },
    {
      "cell_type": "markdown",
      "source": [
        "En esta tabla, podemos ver el student residual, los cooks distances, los drifts y los leverage points de nuestros datos"
      ],
      "metadata": {
        "id": "6nRKRZiMKOO_"
      }
    },
    {
      "cell_type": "code",
      "source": [
        "import seaborn as sns\n",
        "\n",
        "print ('Leverage vs. Studentized Residuals')\n",
        "sns.regplot(leverage, mod.resid_pearson,  fit_reg=False)\n",
        "plt.title('Leverage vs. Studentized Residuals')\n",
        "plt.xlabel('Leverage Points')\n",
        "plt.ylabel('Studentized Residuals')"
      ],
      "metadata": {
        "colab": {
          "base_uri": "https://localhost:8080/",
          "height": 384
        },
        "id": "9kqrpJurE2YP",
        "outputId": "1214b477-4c00-4bdb-ea98-ae0aa8b2441b"
      },
      "execution_count": 93,
      "outputs": [
        {
          "output_type": "stream",
          "name": "stdout",
          "text": [
            "Leverage vs. Studentized Residuals\n"
          ]
        },
        {
          "output_type": "stream",
          "name": "stderr",
          "text": [
            "/usr/local/lib/python3.7/dist-packages/seaborn/_decorators.py:43: FutureWarning: Pass the following variables as keyword args: x, y. From version 0.12, the only valid positional argument will be `data`, and passing other arguments without an explicit keyword will result in an error or misinterpretation.\n",
            "  FutureWarning\n"
          ]
        },
        {
          "output_type": "execute_result",
          "data": {
            "text/plain": [
              "Text(0, 0.5, 'Studentized Residuals')"
            ]
          },
          "metadata": {},
          "execution_count": 93
        },
        {
          "output_type": "display_data",
          "data": {
            "text/plain": [
              "<Figure size 432x288 with 1 Axes>"
            ],
            "image/png": "[encoded data removed]"
          },
          "metadata": {
            "needs_background": "light"
          }
        }
      ]
    },
    {
      "cell_type": "markdown",
      "source": [
        "Podemos comprobar que los leverage points obtenidos con algebra matricial son los mismos que los obtenidos con las funciones de python"
      ],
      "metadata": {
        "id": "rWHpWIvUKokN"
      }
    },
    {
      "cell_type": "markdown",
      "source": [
        "###Studentized residuals y High Leverage Points"
      ],
      "metadata": {
        "id": "s-6p0o3yK1U2"
      }
    },
    {
      "cell_type": "markdown",
      "source": [
        "Al igual que en los leverage points calculados con algebra matricial, se tomaran como high leverage points los que se sean mayores a tres veces el valor absoluto "
      ],
      "metadata": {
        "id": "-ZZVdvTKLA8l"
      }
    },
    {
      "cell_type": "code",
      "source": [
        "r = y_dep.student_resid\n",
        "print (' student residual ')\n",
        "print (r.describe())"
      ],
      "metadata": {
        "colab": {
          "base_uri": "https://localhost:8080/"
        },
        "id": "Y0kJBA8QH3u7",
        "outputId": "147b979c-2c64-412b-ead4-0fe682556cad"
      },
      "execution_count": 94,
      "outputs": [
        {
          "output_type": "stream",
          "name": "stdout",
          "text": [
            " student residual \n",
            "count    343.000000\n",
            "mean       0.016685\n",
            "std        1.087878\n",
            "min       -3.966665\n",
            "25%       -0.510928\n",
            "50%        0.163034\n",
            "75%        0.621224\n",
            "max        8.179974\n",
            "Name: student_resid, dtype: float64\n"
          ]
        }
      ]
    },
    {
      "cell_type": "markdown",
      "source": [
        "Podemos ver que existen valores mayores al valor absouto de 3, por lo que consideraremos estos como outiers"
      ],
      "metadata": {
        "id": "zwYan7IaMVWN"
      }
    },
    {
      "cell_type": "code",
      "source": [
        "print(y_dep.student_resid[abs(r) > 3])"
      ],
      "metadata": {
        "colab": {
          "base_uri": "https://localhost:8080/"
        },
        "id": "k4BAynNAIB9w",
        "outputId": "41787df7-7444-477c-920d-16f9b91df37d"
      },
      "execution_count": 95,
      "outputs": [
        {
          "output_type": "stream",
          "name": "stdout",
          "text": [
            "24     8.179974\n",
            "41     3.650426\n",
            "53    -3.807500\n",
            "77    -3.966665\n",
            "170   -3.027921\n",
            "190    3.587238\n",
            "Name: student_resid, dtype: float64\n"
          ]
        }
      ]
    },
    {
      "cell_type": "code",
      "source": [
        "# High leverage\n",
        "# point with leverage = (3k+3)/n \n",
        "# k = number of predictors (5)\n",
        "# n = number of observations (343)\n",
        "#((3*3)+2)/343 = 0.0524781341107 => cualquier número por encima de este es un high leverage\n",
        "l = y_dep.leverage\n",
        "\n",
        "print (l.describe())"
      ],
      "metadata": {
        "colab": {
          "base_uri": "https://localhost:8080/"
        },
        "id": "6DfITtkIIKrT",
        "outputId": "93077b48-7429-493b-d595-f9ac5f138d4c"
      },
      "execution_count": 96,
      "outputs": [
        {
          "output_type": "stream",
          "name": "stdout",
          "text": [
            "count    343.000000\n",
            "mean       0.017493\n",
            "std        0.060969\n",
            "min        0.008723\n",
            "25%        0.009009\n",
            "50%        0.009527\n",
            "75%        0.011539\n",
            "max        0.897466\n",
            "Name: leverage, dtype: float64\n"
          ]
        }
      ]
    },
    {
      "cell_type": "markdown",
      "source": [
        "Podemos ver que existen valores por encima del marcado (0.0524), que son los high leverage point "
      ],
      "metadata": {
        "id": "9MU39HxsNPfn"
      }
    },
    {
      "cell_type": "code",
      "source": [
        "# Leverage Point = ((3*3)+2)/343 = 0.0524781341107\n",
        "print(y_dep.leverage[abs(l) > ((3*5)+3)/343])"
      ],
      "metadata": {
        "colab": {
          "base_uri": "https://localhost:8080/"
        },
        "id": "aPwIJq6UINqd",
        "outputId": "7a8dd520-210b-45c6-c8fb-7b2dbe3cc5d6"
      },
      "execution_count": 97,
      "outputs": [
        {
          "output_type": "stream",
          "name": "stdout",
          "text": [
            "0      0.079981\n",
            "10     0.092529\n",
            "23     0.177603\n",
            "24     0.665677\n",
            "64     0.110614\n",
            "143    0.119640\n",
            "190    0.897466\n",
            "Name: leverage, dtype: float64\n"
          ]
        }
      ]
    },
    {
      "cell_type": "markdown",
      "source": [
        "Con este filtro, podemos ver que hay 7 high leverage points en nuestros datos"
      ],
      "metadata": {
        "id": "hM7aukNxOpKd"
      }
    },
    {
      "cell_type": "markdown",
      "source": [
        "Debido a esto, ahora sabemos que hay datos con gran influenci, ya que tenemos tanto outliers como high leverage, lo que puede afectar a los coeficientes"
      ],
      "metadata": {
        "id": "NaVx-N7_P8q2"
      }
    },
    {
      "cell_type": "code",
      "source": [
        "# Valores que son outliers y high leverage\n",
        "outlier = pd.DataFrame((y_dep.R[abs(r) > 3]))\n",
        "leverage= pd.DataFrame((y_dep.R[abs(l) > ((3*5)+3)/343]))\n",
        "\n",
        "Influential=pd.merge(outlier,leverage, left_index=True, right_index=True)\n",
        "print(Influential)"
      ],
      "metadata": {
        "colab": {
          "base_uri": "https://localhost:8080/"
        },
        "id": "nonEVnKgIQzN",
        "outputId": "32004e42-45a5-422a-b535-8423986f0369"
      },
      "execution_count": 98,
      "outputs": [
        {
          "output_type": "stream",
          "name": "stdout",
          "text": [
            "          R_x       R_y\n",
            "24  -2.455893 -2.455893\n",
            "190 -2.033554 -2.033554\n"
          ]
        }
      ]
    },
    {
      "cell_type": "markdown",
      "source": [
        "Estos serian los valores mas influentes, ya que son tanto high leevrage como outliers"
      ],
      "metadata": {
        "id": "WGilLk7RQloH"
      }
    },
    {
      "cell_type": "code",
      "source": [
        "from statsmodels.graphics.regressionplots import *\n",
        "\n",
        "plt.scatter(y_dep.student_resid ** 3, y_dep.leverage)\n",
        "plt.xlabel(\"Normalized Residuals**2\")\n",
        "plt.ylabel(\"Leverage\")\n",
        "plt.show()\n",
        "\n",
        "influence_plot(mod)\n",
        "plt.show()"
      ],
      "metadata": {
        "colab": {
          "base_uri": "https://localhost:8080/",
          "height": 581
        },
        "id": "GKCp_XVWITdV",
        "outputId": "ed2b2435-6fbb-4d79-cb69-5835781bc34a"
      },
      "execution_count": 99,
      "outputs": [
        {
          "output_type": "display_data",
          "data": {
            "text/plain": [
              "<Figure size 432x288 with 1 Axes>"
            ],
            "image/png": "[encoded data removed]"
          },
          "metadata": {
            "needs_background": "light"
          }
        },
        {
          "output_type": "display_data",
          "data": {
            "text/plain": [
              "<Figure size 432x288 with 1 Axes>"
            ],
            "image/png": "[encoded data removed]"
          },
          "metadata": {
            "needs_background": "light"
          }
        }
      ]
    },
    {
      "cell_type": "markdown",
      "source": [
        "Revisamos con los registros anteriores los cuales son:\n",
        "* 0.665677 Y 0.897466 DE LEVERAGE RESPECTIVAMENTE\n",
        "* 8.179974 Y 3.587238 DE STUDENTIZED RESIDUAL \n",
        "\n",
        "Podemos decir aahora que estos dos son los datos con mayor influencia en el modelo."
      ],
      "metadata": {
        "id": "qXvXLr63RMlg"
      }
    },
    {
      "cell_type": "markdown",
      "source": [
        "###Cooks distance"
      ],
      "metadata": {
        "id": "EPz71SPASUDk"
      }
    },
    {
      "cell_type": "markdown",
      "source": [
        "En este caso, igual tomaremos el triple de la media paa obtener los outlierspor medio del metodo de cooks"
      ],
      "metadata": {
        "id": "GM7Pp6kiSs8j"
      }
    },
    {
      "cell_type": "code",
      "source": [
        "limit = (y_dep.loc[:,\"cooks_d\"].mean())*3\n",
        "outlier2 = pd.DataFrame((y_dep.R[abs(y_dep.cooks_d) > limit]))\n",
        "print(outlier2)"
      ],
      "metadata": {
        "colab": {
          "base_uri": "https://localhost:8080/"
        },
        "id": "rIWqG9AQQxck",
        "outputId": "838c7166-3b03-438a-aa27-a5f3a6e18013"
      },
      "execution_count": 100,
      "outputs": [
        {
          "output_type": "stream",
          "name": "stdout",
          "text": [
            "            R\n",
            "24  -2.455893\n",
            "190 -2.033554\n"
          ]
        }
      ]
    },
    {
      "cell_type": "markdown",
      "source": [
        "Podemos ver que al igual que en los otros metodos, nuestros outliers son los mismos"
      ],
      "metadata": {
        "id": "UQ0QhqCbTCA7"
      }
    },
    {
      "cell_type": "code",
      "source": [],
      "metadata": {
        "id": "zFqUJsQySYDM"
      },
      "execution_count": 100,
      "outputs": []
    },
    {
      "cell_type": "markdown",
      "source": [
        "##Modelo 2"
      ],
      "metadata": {
        "id": "OMWQleWTTV1M"
      }
    },
    {
      "cell_type": "markdown",
      "source": [
        "Al ya conocer los outliers, high leverage y valores influenciables denro de nuestros datos, podemos mejorar el modelo descartando estos "
      ],
      "metadata": {
        "id": "7_Ia-W2lTk5V"
      }
    },
    {
      "cell_type": "code",
      "source": [
        "X_m2 = X.copy()\n",
        "Y_m2 = ym.copy()\n",
        "\n",
        "X_m2 = X_m2.drop([24, 41, 53, 77, 170, 190])\n",
        "Y_m2 = Y_m2.drop([24, 41, 53, 77, 170, 190])"
      ],
      "metadata": {
        "id": "jxM187utTY89"
      },
      "execution_count": 101,
      "outputs": []
    },
    {
      "cell_type": "markdown",
      "source": [
        "Obtencion de las bbetas con algebra matricial"
      ],
      "metadata": {
        "id": "y7k22GcnXoni"
      }
    },
    {
      "cell_type": "code",
      "source": [
        "X = X_m2[['1', 'isSmall', 'isMedium', 'EPSP', 'OPM', 'Book_to_Market_ratio']]\n",
        "X_mat = X.to_numpy()\n",
        "X_t = np.transpose(X_mat)\n",
        "X_sqr = np.dot(X_t, X_mat)\n",
        "X_inv = np.linalg.inv(X_sqr)\n",
        "aux = np.dot(X_inv, X_t)\n",
        "B = np.dot(aux, Y_m2)\n",
        "print(B)"
      ],
      "metadata": {
        "colab": {
          "base_uri": "https://localhost:8080/"
        },
        "id": "JQsIZZANV4Qm",
        "outputId": "e2e15ec8-c222-42c9-f34b-a80028c012bd"
      },
      "execution_count": 102,
      "outputs": [
        {
          "output_type": "stream",
          "name": "stdout",
          "text": [
            "[[-0.33855748]\n",
            " [-0.06022982]\n",
            " [-0.07929252]\n",
            " [ 5.67505071]\n",
            " [ 0.01853454]\n",
            " [-0.05935155]]\n"
          ]
        }
      ]
    },
    {
      "cell_type": "code",
      "source": [
        "model2 = sm.OLS(Y_m2, sm.add_constant(X_m2)).fit()\n",
        "print(model2.summary())"
      ],
      "metadata": {
        "colab": {
          "base_uri": "https://localhost:8080/"
        },
        "id": "D29GWfjjXMFJ",
        "outputId": "8da9bce9-f441-49b5-a0cd-0a59defc45b6"
      },
      "execution_count": 103,
      "outputs": [
        {
          "output_type": "stream",
          "name": "stdout",
          "text": [
            "                            OLS Regression Results                            \n",
            "==============================================================================\n",
            "Dep. Variable:                      R   R-squared:                       0.363\n",
            "Model:                            OLS   Adj. R-squared:                  0.353\n",
            "Method:                 Least Squares   F-statistic:                     37.72\n",
            "Date:                Sat, 26 Nov 2022   Prob (F-statistic):           1.40e-30\n",
            "Time:                        00:39:11   Log-Likelihood:                -215.01\n",
            "No. Observations:                 337   AIC:                             442.0\n",
            "Df Residuals:                     331   BIC:                             464.9\n",
            "Df Model:                           5                                         \n",
            "Covariance Type:            nonrobust                                         \n",
            "========================================================================================\n",
            "                           coef    std err          t      P>|t|      [0.025      0.975]\n",
            "----------------------------------------------------------------------------------------\n",
            "1                       -0.3386      0.044     -7.615      0.000      -0.426      -0.251\n",
            "isSmall                 -0.0602      0.070     -0.858      0.392      -0.198       0.078\n",
            "isMedium                -0.0793      0.062     -1.281      0.201      -0.201       0.042\n",
            "EPSP                     5.6751      0.527     10.760      0.000       4.638       6.713\n",
            "OPM                      0.0185      0.005      3.797      0.000       0.009       0.028\n",
            "Book_to_Market_ratio    -0.0594      0.053     -1.119      0.264      -0.164       0.045\n",
            "==============================================================================\n",
            "Omnibus:                       20.467   Durbin-Watson:                   1.984\n",
            "Prob(Omnibus):                  0.000   Jarque-Bera (JB):               23.928\n",
            "Skew:                          -0.537   Prob(JB):                     6.37e-06\n",
            "Kurtosis:                       3.743   Cond. No.                         111.\n",
            "==============================================================================\n",
            "\n",
            "Notes:\n",
            "[1] Standard Errors assume that the covariance matrix of the errors is correctly specified.\n"
          ]
        },
        {
          "output_type": "stream",
          "name": "stderr",
          "text": [
            "/usr/local/lib/python3.7/dist-packages/statsmodels/tsa/tsatools.py:142: FutureWarning: In a future version of pandas all arguments of concat except for the argument 'objs' will be keyword-only\n",
            "  x = pd.concat(x[::order], 1)\n"
          ]
        }
      ]
    },
    {
      "cell_type": "markdown",
      "source": [
        "Podemos ver que con este cambio, pasamos de tener una r^2 de 0.293 a 0.363.\n",
        "\n",
        "Con esto podemos observar como los outliers y valores influenciables afectan a nuestro modelo, ya que al eliminar estos tuvimos una mejoria en nuestro modelo"
      ],
      "metadata": {
        "id": "GoN49PatXU1X"
      }
    },
    {
      "cell_type": "markdown",
      "source": [
        "##Referencias"
      ],
      "metadata": {
        "id": "njiW4Q8hSv1d"
      }
    },
    {
      "cell_type": "markdown",
      "source": [
        "* and. (2019, October 21). DataSklr. DataSklr. https://www.datasklr.com/ols-least-squares-regression/diagnostics-for-leverage-and-influence\n",
        "\n",
        "‌"
      ],
      "metadata": {
        "id": "hHNPHllXSyd1"
      }
    }
  ],
  "metadata": {
    "colab": {
      "provenance": []
    },
    "kernelspec": {
      "display_name": "Python 3",
      "name": "python3"
    },
    "language_info": {
      "name": "python"
    }
  },
  "nbformat": 4,
  "nbformat_minor": 0
}