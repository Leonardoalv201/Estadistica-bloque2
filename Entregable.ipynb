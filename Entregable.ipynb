{
  "cells": [
    {
      "cell_type": "code",
      "execution_count": 68,
      "metadata": {
        "colab": {
          "base_uri": "https://localhost:8080/"
        },
        "id": "DY3-v-zO2YpA",
        "outputId": "7d600d6e-63eb-4c09-c3b8-1498cce86620"
      },
      "outputs": [
        {
          "output_type": "stream",
          "name": "stdout",
          "text": [
            "Drive already mounted at /content/gdrive; to attempt to forcibly remount, call drive.mount(\"/content/gdrive\", force_remount=True).\n"
          ]
        }
      ],
      "source": [
        "from google.colab import drive\n",
        "\n",
        "drive.mount(\"/content/gdrive\") "
      ]
    },
    {
      "cell_type": "code",
      "execution_count": 69,
      "metadata": {
        "colab": {
          "base_uri": "https://localhost:8080/"
        },
        "id": "MWYNCrdK2hoL",
        "outputId": "bb990fd0-82d6-4f35-ce06-b618023a90b0"
      },
      "outputs": [
        {
          "output_type": "stream",
          "name": "stdout",
          "text": [
            "/content/gdrive/MyDrive/Bloque 2 IA/Estadistica\n",
            "Apuntes.gdoc  Entregable  us2022q2a.csv  usfirms2022.csv\n"
          ]
        }
      ],
      "source": [
        "%cd \"/content/gdrive/MyDrive/Bloque 2 IA/Estadistica\"\n",
        "!ls"
      ]
    },
    {
      "cell_type": "code",
      "execution_count": 70,
      "metadata": {
        "id": "z7wfh99N2nQF"
      },
      "outputs": [],
      "source": [
        "import plotly.express as px\n",
        "import pandas as pd\n",
        "import numpy as np"
      ]
    },
    {
      "cell_type": "markdown",
      "metadata": {
        "id": "3ywgW5ewJ5EW"
      },
      "source": [
        "##Seleccion y limpieza de datos"
      ]
    },
    {
      "cell_type": "code",
      "execution_count": 71,
      "metadata": {
        "id": "1jrVbKay2oaW"
      },
      "outputs": [],
      "source": [
        "df1 = pd.read_csv('us2022q2a.csv')\n",
        "df2 = pd.read_csv('usfirms2022.csv')"
      ]
    },
    {
      "cell_type": "markdown",
      "source": [
        "Dropeamos columnas que son repetidas en el dataset y no nos son utiles para lo que deseamos"
      ],
      "metadata": {
        "id": "cMmYgv4wwoL6"
      }
    },
    {
      "cell_type": "code",
      "execution_count": 72,
      "metadata": {
        "id": "5lQUW1zP2vkP"
      },
      "outputs": [],
      "source": [
        "df1 = df1.drop(['fiscalmonth', 'year', 'cto'], axis=1)\n",
        "df2 = df2.drop(['N', 'Country\\nof Origin', 'Type of Asset'], axis=1)"
      ]
    },
    {
      "cell_type": "markdown",
      "source": [
        "Mergeamos los datos de los dos datasets "
      ],
      "metadata": {
        "id": "BBSAuyqdwtiA"
      }
    },
    {
      "cell_type": "code",
      "execution_count": 73,
      "metadata": {
        "id": "ZN993zEf2q-8",
        "colab": {
          "base_uri": "https://localhost:8080/",
          "height": 956
        },
        "outputId": "c681f0b1-21b2-4235-aea9-591f11f86526"
      },
      "outputs": [
        {
          "output_type": "execute_result",
          "data": {
            "text/plain": [
              "        firm       q    revenue       cogs          sgae  otheropexp  \\\n",
              "0          A  2000q1        NaN        NaN           NaN         NaN   \n",
              "1          A  2000q2  2485000.0  1261000.0  1.010000e+06         0.0   \n",
              "2          A  2000q3  2670000.0  1369000.0  1.091000e+06         0.0   \n",
              "3          A  2000q4  3372000.0  1732000.0  1.182000e+06         0.0   \n",
              "4          A  2001q1  2841000.0  1449000.0  1.113000e+06         0.0   \n",
              "...      ...     ...        ...        ...           ...         ...   \n",
              "323811  ZYNE  2021q2        0.0        0.0  9.838494e+03         0.0   \n",
              "323812  ZYNE  2021q3        0.0        0.0  1.021065e+04         0.0   \n",
              "323813  ZYNE  2021q4        0.0        0.0  8.836436e+03         0.0   \n",
              "323814  ZYNE  2022q1        0.0        0.0  8.903915e+03         0.0   \n",
              "323815  ZYNE  2022q2        0.0        0.0  9.168770e+03         0.0   \n",
              "\n",
              "         extraincome  finexp  incometax  totalassets  ...  originalprice  \\\n",
              "0                NaN     NaN        NaN          NaN  ...       104.0000   \n",
              "1       42000.000000   0.000    90000.0  7321000.000  ...        73.7500   \n",
              "2       28000.000000   0.000    83000.0  7827000.000  ...        48.9375   \n",
              "3       10000.000000   0.000   163000.0  8425000.000  ...        54.7500   \n",
              "4       -6000.000000   0.000   119000.0  9208000.000  ...        30.7300   \n",
              "...              ...     ...        ...          ...  ...            ...   \n",
              "323811   -117.528220  -5.943        0.0    98195.904  ...         5.2900   \n",
              "323812   -376.636750  -5.038        0.0    89996.170  ...         4.2400   \n",
              "323813     16.937906  -4.433        0.0    81171.507  ...         2.8800   \n",
              "323814    317.252110 -96.044        0.0    74381.029  ...         2.0500   \n",
              "323815   -775.927860 -91.691        0.0    67006.959  ...         1.1400   \n",
              "\n",
              "        sharesoutstanding  Ticker                          Name  Class  \\\n",
              "0              452000.000       A     Agilent Technologies, Inc    Com   \n",
              "1              452271.967       A     Agilent Technologies, Inc    Com   \n",
              "2              453014.579       A     Agilent Technologies, Inc    Com   \n",
              "3              456366.381       A     Agilent Technologies, Inc    Com   \n",
              "4              456769.737       A     Agilent Technologies, Inc    Com   \n",
              "...                   ...     ...                           ...    ...   \n",
              "323811          41251.537    ZYNE  Zynerba Pharmaceuticals, Inc    Com   \n",
              "323812          41251.537    ZYNE  Zynerba Pharmaceuticals, Inc    Com   \n",
              "323813          41217.537    ZYNE  Zynerba Pharmaceuticals, Inc    Com   \n",
              "323814          42447.037    ZYNE  Zynerba Pharmaceuticals, Inc    Com   \n",
              "323815          43595.959    ZYNE  Zynerba Pharmaceuticals, Inc    Com   \n",
              "\n",
              "        Sector NAICS\\nlevel 1  Exchange / Src Sector\\nEconomatica  \\\n",
              "0               Manufacturing            NYSE   Electric Electron   \n",
              "1               Manufacturing            NYSE   Electric Electron   \n",
              "2               Manufacturing            NYSE   Electric Electron   \n",
              "3               Manufacturing            NYSE   Electric Electron   \n",
              "4               Manufacturing            NYSE   Electric Electron   \n",
              "...                       ...             ...                 ...   \n",
              "323811          Manufacturing          NASDAQ            Chemical   \n",
              "323812          Manufacturing          NASDAQ            Chemical   \n",
              "323813          Manufacturing          NASDAQ            Chemical   \n",
              "323814          Manufacturing          NASDAQ            Chemical   \n",
              "323815          Manufacturing          NASDAQ            Chemical   \n",
              "\n",
              "                             Sector NAICS\\nlast available partind  \n",
              "0       Navigational, Measuring, Electromedical, and C...   0.124  \n",
              "1       Navigational, Measuring, Electromedical, and C...   0.124  \n",
              "2       Navigational, Measuring, Electromedical, and C...   0.124  \n",
              "3       Navigational, Measuring, Electromedical, and C...   0.124  \n",
              "4       Navigational, Measuring, Electromedical, and C...   0.124  \n",
              "...                                                   ...     ...  \n",
              "323811          Pharmaceutical and Medicine Manufacturing       -  \n",
              "323812          Pharmaceutical and Medicine Manufacturing       -  \n",
              "323813          Pharmaceutical and Medicine Manufacturing       -  \n",
              "323814          Pharmaceutical and Medicine Manufacturing       -  \n",
              "323815          Pharmaceutical and Medicine Manufacturing       -  \n",
              "\n",
              "[323816 rows x 25 columns]"
            ],
            "text/html": [
              "\n",
              "  <div id=\"df-1e2ad744-ec85-4f12-9f74-7d497e0c3e1e\">\n",
              "    <div class=\"colab-df-container\">\n",
              "      <div>\n",
              "<style scoped>\n",
              "    .dataframe tbody tr th:only-of-type {\n",
              "        vertical-align: middle;\n",
              "    }\n",
              "\n",
              "    .dataframe tbody tr th {\n",
              "        vertical-align: top;\n",
              "    }\n",
              "\n",
              "    .dataframe thead th {\n",
              "        text-align: right;\n",
              "    }\n",
              "</style>\n",
              "<table border=\"1\" class=\"dataframe\">\n",
              "  <thead>\n",
              "    <tr style=\"text-align: right;\">\n",
              "      <th></th>\n",
              "      <th>firm</th>\n",
              "      <th>q</th>\n",
              "      <th>revenue</th>\n",
              "      <th>cogs</th>\n",
              "      <th>sgae</th>\n",
              "      <th>otheropexp</th>\n",
              "      <th>extraincome</th>\n",
              "      <th>finexp</th>\n",
              "      <th>incometax</th>\n",
              "      <th>totalassets</th>\n",
              "      <th>...</th>\n",
              "      <th>originalprice</th>\n",
              "      <th>sharesoutstanding</th>\n",
              "      <th>Ticker</th>\n",
              "      <th>Name</th>\n",
              "      <th>Class</th>\n",
              "      <th>Sector NAICS\\nlevel 1</th>\n",
              "      <th>Exchange / Src</th>\n",
              "      <th>Sector\\nEconomatica</th>\n",
              "      <th>Sector NAICS\\nlast available</th>\n",
              "      <th>partind</th>\n",
              "    </tr>\n",
              "  </thead>\n",
              "  <tbody>\n",
              "    <tr>\n",
              "      <th>0</th>\n",
              "      <td>A</td>\n",
              "      <td>2000q1</td>\n",
              "      <td>NaN</td>\n",
              "      <td>NaN</td>\n",
              "      <td>NaN</td>\n",
              "      <td>NaN</td>\n",
              "      <td>NaN</td>\n",
              "      <td>NaN</td>\n",
              "      <td>NaN</td>\n",
              "      <td>NaN</td>\n",
              "      <td>...</td>\n",
              "      <td>104.0000</td>\n",
              "      <td>452000.000</td>\n",
              "      <td>A</td>\n",
              "      <td>Agilent Technologies, Inc</td>\n",
              "      <td>Com</td>\n",
              "      <td>Manufacturing</td>\n",
              "      <td>NYSE</td>\n",
              "      <td>Electric Electron</td>\n",
              "      <td>Navigational, Measuring, Electromedical, and C...</td>\n",
              "      <td>0.124</td>\n",
              "    </tr>\n",
              "    <tr>\n",
              "      <th>1</th>\n",
              "      <td>A</td>\n",
              "      <td>2000q2</td>\n",
              "      <td>2485000.0</td>\n",
              "      <td>1261000.0</td>\n",
              "      <td>1.010000e+06</td>\n",
              "      <td>0.0</td>\n",
              "      <td>42000.000000</td>\n",
              "      <td>0.000</td>\n",
              "      <td>90000.0</td>\n",
              "      <td>7321000.000</td>\n",
              "      <td>...</td>\n",
              "      <td>73.7500</td>\n",
              "      <td>452271.967</td>\n",
              "      <td>A</td>\n",
              "      <td>Agilent Technologies, Inc</td>\n",
              "      <td>Com</td>\n",
              "      <td>Manufacturing</td>\n",
              "      <td>NYSE</td>\n",
              "      <td>Electric Electron</td>\n",
              "      <td>Navigational, Measuring, Electromedical, and C...</td>\n",
              "      <td>0.124</td>\n",
              "    </tr>\n",
              "    <tr>\n",
              "      <th>2</th>\n",
              "      <td>A</td>\n",
              "      <td>2000q3</td>\n",
              "      <td>2670000.0</td>\n",
              "      <td>1369000.0</td>\n",
              "      <td>1.091000e+06</td>\n",
              "      <td>0.0</td>\n",
              "      <td>28000.000000</td>\n",
              "      <td>0.000</td>\n",
              "      <td>83000.0</td>\n",
              "      <td>7827000.000</td>\n",
              "      <td>...</td>\n",
              "      <td>48.9375</td>\n",
              "      <td>453014.579</td>\n",
              "      <td>A</td>\n",
              "      <td>Agilent Technologies, Inc</td>\n",
              "      <td>Com</td>\n",
              "      <td>Manufacturing</td>\n",
              "      <td>NYSE</td>\n",
              "      <td>Electric Electron</td>\n",
              "      <td>Navigational, Measuring, Electromedical, and C...</td>\n",
              "      <td>0.124</td>\n",
              "    </tr>\n",
              "    <tr>\n",
              "      <th>3</th>\n",
              "      <td>A</td>\n",
              "      <td>2000q4</td>\n",
              "      <td>3372000.0</td>\n",
              "      <td>1732000.0</td>\n",
              "      <td>1.182000e+06</td>\n",
              "      <td>0.0</td>\n",
              "      <td>10000.000000</td>\n",
              "      <td>0.000</td>\n",
              "      <td>163000.0</td>\n",
              "      <td>8425000.000</td>\n",
              "      <td>...</td>\n",
              "      <td>54.7500</td>\n",
              "      <td>456366.381</td>\n",
              "      <td>A</td>\n",
              "      <td>Agilent Technologies, Inc</td>\n",
              "      <td>Com</td>\n",
              "      <td>Manufacturing</td>\n",
              "      <td>NYSE</td>\n",
              "      <td>Electric Electron</td>\n",
              "      <td>Navigational, Measuring, Electromedical, and C...</td>\n",
              "      <td>0.124</td>\n",
              "    </tr>\n",
              "    <tr>\n",
              "      <th>4</th>\n",
              "      <td>A</td>\n",
              "      <td>2001q1</td>\n",
              "      <td>2841000.0</td>\n",
              "      <td>1449000.0</td>\n",
              "      <td>1.113000e+06</td>\n",
              "      <td>0.0</td>\n",
              "      <td>-6000.000000</td>\n",
              "      <td>0.000</td>\n",
              "      <td>119000.0</td>\n",
              "      <td>9208000.000</td>\n",
              "      <td>...</td>\n",
              "      <td>30.7300</td>\n",
              "      <td>456769.737</td>\n",
              "      <td>A</td>\n",
              "      <td>Agilent Technologies, Inc</td>\n",
              "      <td>Com</td>\n",
              "      <td>Manufacturing</td>\n",
              "      <td>NYSE</td>\n",
              "      <td>Electric Electron</td>\n",
              "      <td>Navigational, Measuring, Electromedical, and C...</td>\n",
              "      <td>0.124</td>\n",
              "    </tr>\n",
              "    <tr>\n",
              "      <th>...</th>\n",
              "      <td>...</td>\n",
              "      <td>...</td>\n",
              "      <td>...</td>\n",
              "      <td>...</td>\n",
              "      <td>...</td>\n",
              "      <td>...</td>\n",
              "      <td>...</td>\n",
              "      <td>...</td>\n",
              "      <td>...</td>\n",
              "      <td>...</td>\n",
              "      <td>...</td>\n",
              "      <td>...</td>\n",
              "      <td>...</td>\n",
              "      <td>...</td>\n",
              "      <td>...</td>\n",
              "      <td>...</td>\n",
              "      <td>...</td>\n",
              "      <td>...</td>\n",
              "      <td>...</td>\n",
              "      <td>...</td>\n",
              "      <td>...</td>\n",
              "    </tr>\n",
              "    <tr>\n",
              "      <th>323811</th>\n",
              "      <td>ZYNE</td>\n",
              "      <td>2021q2</td>\n",
              "      <td>0.0</td>\n",
              "      <td>0.0</td>\n",
              "      <td>9.838494e+03</td>\n",
              "      <td>0.0</td>\n",
              "      <td>-117.528220</td>\n",
              "      <td>-5.943</td>\n",
              "      <td>0.0</td>\n",
              "      <td>98195.904</td>\n",
              "      <td>...</td>\n",
              "      <td>5.2900</td>\n",
              "      <td>41251.537</td>\n",
              "      <td>ZYNE</td>\n",
              "      <td>Zynerba Pharmaceuticals, Inc</td>\n",
              "      <td>Com</td>\n",
              "      <td>Manufacturing</td>\n",
              "      <td>NASDAQ</td>\n",
              "      <td>Chemical</td>\n",
              "      <td>Pharmaceutical and Medicine Manufacturing</td>\n",
              "      <td>-</td>\n",
              "    </tr>\n",
              "    <tr>\n",
              "      <th>323812</th>\n",
              "      <td>ZYNE</td>\n",
              "      <td>2021q3</td>\n",
              "      <td>0.0</td>\n",
              "      <td>0.0</td>\n",
              "      <td>1.021065e+04</td>\n",
              "      <td>0.0</td>\n",
              "      <td>-376.636750</td>\n",
              "      <td>-5.038</td>\n",
              "      <td>0.0</td>\n",
              "      <td>89996.170</td>\n",
              "      <td>...</td>\n",
              "      <td>4.2400</td>\n",
              "      <td>41251.537</td>\n",
              "      <td>ZYNE</td>\n",
              "      <td>Zynerba Pharmaceuticals, Inc</td>\n",
              "      <td>Com</td>\n",
              "      <td>Manufacturing</td>\n",
              "      <td>NASDAQ</td>\n",
              "      <td>Chemical</td>\n",
              "      <td>Pharmaceutical and Medicine Manufacturing</td>\n",
              "      <td>-</td>\n",
              "    </tr>\n",
              "    <tr>\n",
              "      <th>323813</th>\n",
              "      <td>ZYNE</td>\n",
              "      <td>2021q4</td>\n",
              "      <td>0.0</td>\n",
              "      <td>0.0</td>\n",
              "      <td>8.836436e+03</td>\n",
              "      <td>0.0</td>\n",
              "      <td>16.937906</td>\n",
              "      <td>-4.433</td>\n",
              "      <td>0.0</td>\n",
              "      <td>81171.507</td>\n",
              "      <td>...</td>\n",
              "      <td>2.8800</td>\n",
              "      <td>41217.537</td>\n",
              "      <td>ZYNE</td>\n",
              "      <td>Zynerba Pharmaceuticals, Inc</td>\n",
              "      <td>Com</td>\n",
              "      <td>Manufacturing</td>\n",
              "      <td>NASDAQ</td>\n",
              "      <td>Chemical</td>\n",
              "      <td>Pharmaceutical and Medicine Manufacturing</td>\n",
              "      <td>-</td>\n",
              "    </tr>\n",
              "    <tr>\n",
              "      <th>323814</th>\n",
              "      <td>ZYNE</td>\n",
              "      <td>2022q1</td>\n",
              "      <td>0.0</td>\n",
              "      <td>0.0</td>\n",
              "      <td>8.903915e+03</td>\n",
              "      <td>0.0</td>\n",
              "      <td>317.252110</td>\n",
              "      <td>-96.044</td>\n",
              "      <td>0.0</td>\n",
              "      <td>74381.029</td>\n",
              "      <td>...</td>\n",
              "      <td>2.0500</td>\n",
              "      <td>42447.037</td>\n",
              "      <td>ZYNE</td>\n",
              "      <td>Zynerba Pharmaceuticals, Inc</td>\n",
              "      <td>Com</td>\n",
              "      <td>Manufacturing</td>\n",
              "      <td>NASDAQ</td>\n",
              "      <td>Chemical</td>\n",
              "      <td>Pharmaceutical and Medicine Manufacturing</td>\n",
              "      <td>-</td>\n",
              "    </tr>\n",
              "    <tr>\n",
              "      <th>323815</th>\n",
              "      <td>ZYNE</td>\n",
              "      <td>2022q2</td>\n",
              "      <td>0.0</td>\n",
              "      <td>0.0</td>\n",
              "      <td>9.168770e+03</td>\n",
              "      <td>0.0</td>\n",
              "      <td>-775.927860</td>\n",
              "      <td>-91.691</td>\n",
              "      <td>0.0</td>\n",
              "      <td>67006.959</td>\n",
              "      <td>...</td>\n",
              "      <td>1.1400</td>\n",
              "      <td>43595.959</td>\n",
              "      <td>ZYNE</td>\n",
              "      <td>Zynerba Pharmaceuticals, Inc</td>\n",
              "      <td>Com</td>\n",
              "      <td>Manufacturing</td>\n",
              "      <td>NASDAQ</td>\n",
              "      <td>Chemical</td>\n",
              "      <td>Pharmaceutical and Medicine Manufacturing</td>\n",
              "      <td>-</td>\n",
              "    </tr>\n",
              "  </tbody>\n",
              "</table>\n",
              "<p>323816 rows × 25 columns</p>\n",
              "</div>\n",
              "      <button class=\"colab-df-convert\" onclick=\"convertToInteractive('df-1e2ad744-ec85-4f12-9f74-7d497e0c3e1e')\"\n",
              "              title=\"Convert this dataframe to an interactive table.\"\n",
              "              style=\"display:none;\">\n",
              "        \n",
              "  <svg xmlns=\"http://www.w3.org/2000/svg\" height=\"24px\"viewBox=\"0 0 24 24\"\n",
              "       width=\"24px\">\n",
              "    <path d=\"M0 0h24v24H0V0z\" fill=\"none\"/>\n",
              "    <path d=\"M18.56 5.44l.94 2.06.94-2.06 2.06-.94-2.06-.94-.94-2.06-.94 2.06-2.06.94zm-11 1L8.5 8.5l.94-2.06 2.06-.94-2.06-.94L8.5 2.5l-.94 2.06-2.06.94zm10 10l.94 2.06.94-2.06 2.06-.94-2.06-.94-.94-2.06-.94 2.06-2.06.94z\"/><path d=\"M17.41 7.96l-1.37-1.37c-.4-.4-.92-.59-1.43-.59-.52 0-1.04.2-1.43.59L10.3 9.45l-7.72 7.72c-.78.78-.78 2.05 0 2.83L4 21.41c.39.39.9.59 1.41.59.51 0 1.02-.2 1.41-.59l7.78-7.78 2.81-2.81c.8-.78.8-2.07 0-2.86zM5.41 20L4 18.59l7.72-7.72 1.47 1.35L5.41 20z\"/>\n",
              "  </svg>\n",
              "      </button>\n",
              "      \n",
              "  <style>\n",
              "    .colab-df-container {\n",
              "      display:flex;\n",
              "      flex-wrap:wrap;\n",
              "      gap: 12px;\n",
              "    }\n",
              "\n",
              "    .colab-df-convert {\n",
              "      background-color: #E8F0FE;\n",
              "      border: none;\n",
              "      border-radius: 50%;\n",
              "      cursor: pointer;\n",
              "      display: none;\n",
              "      fill: #1967D2;\n",
              "      height: 32px;\n",
              "      padding: 0 0 0 0;\n",
              "      width: 32px;\n",
              "    }\n",
              "\n",
              "    .colab-df-convert:hover {\n",
              "      background-color: #E2EBFA;\n",
              "      box-shadow: 0px 1px 2px rgba(60, 64, 67, 0.3), 0px 1px 3px 1px rgba(60, 64, 67, 0.15);\n",
              "      fill: #174EA6;\n",
              "    }\n",
              "\n",
              "    [theme=dark] .colab-df-convert {\n",
              "      background-color: #3B4455;\n",
              "      fill: #D2E3FC;\n",
              "    }\n",
              "\n",
              "    [theme=dark] .colab-df-convert:hover {\n",
              "      background-color: #434B5C;\n",
              "      box-shadow: 0px 1px 3px 1px rgba(0, 0, 0, 0.15);\n",
              "      filter: drop-shadow(0px 1px 2px rgba(0, 0, 0, 0.3));\n",
              "      fill: #FFFFFF;\n",
              "    }\n",
              "  </style>\n",
              "\n",
              "      <script>\n",
              "        const buttonEl =\n",
              "          document.querySelector('#df-1e2ad744-ec85-4f12-9f74-7d497e0c3e1e button.colab-df-convert');\n",
              "        buttonEl.style.display =\n",
              "          google.colab.kernel.accessAllowed ? 'block' : 'none';\n",
              "\n",
              "        async function convertToInteractive(key) {\n",
              "          const element = document.querySelector('#df-1e2ad744-ec85-4f12-9f74-7d497e0c3e1e');\n",
              "          const dataTable =\n",
              "            await google.colab.kernel.invokeFunction('convertToInteractive',\n",
              "                                                     [key], {});\n",
              "          if (!dataTable) return;\n",
              "\n",
              "          const docLinkHtml = 'Like what you see? Visit the ' +\n",
              "            '<a target=\"_blank\" href=https://colab.research.google.com/notebooks/data_table.ipynb>data table notebook</a>'\n",
              "            + ' to learn more about interactive tables.';\n",
              "          element.innerHTML = '';\n",
              "          dataTable['output_type'] = 'display_data';\n",
              "          await google.colab.output.renderOutput(dataTable, element);\n",
              "          const docLink = document.createElement('div');\n",
              "          docLink.innerHTML = docLinkHtml;\n",
              "          element.appendChild(docLink);\n",
              "        }\n",
              "      </script>\n",
              "    </div>\n",
              "  </div>\n",
              "  "
            ]
          },
          "metadata": {},
          "execution_count": 73
        }
      ],
      "source": [
        "df_merge = df1.merge(df2, left_on='firm', right_on='Ticker')\n",
        "df_merge"
      ]
    },
    {
      "cell_type": "markdown",
      "source": [
        "Dropeamos los servicios que no son industriales"
      ],
      "metadata": {
        "id": "1OiOT5Ihwzue"
      }
    },
    {
      "cell_type": "code",
      "execution_count": 74,
      "metadata": {
        "id": "20NJAwhkWDja"
      },
      "outputs": [],
      "source": [
        "df2_services = df_merge.copy()\n",
        "df2_services = df2_services.drop(df2_services[(df2_services['Sector NAICS\\nlevel 1'] == 'Manufacturing')].index)\n",
        "df2_services = df2_services.drop(df2_services[(df2_services['Sector NAICS\\nlevel 1'] == 'Finance and Insurance')].index)\n",
        "df2_services = df2_services.drop(df2_services[(df2_services['Sector NAICS\\nlevel 1'] == 'Information')].index)\n",
        "df2_services = df2_services.drop(df2_services[(df2_services['Sector NAICS\\nlevel 1'] == 'Retail Trade')].index)\n",
        "df2_services = df2_services.drop(df2_services[(df2_services['Sector NAICS\\nlevel 1'] == 'Mining, Quarrying, and Oil and Gas Extraction')].index)\n",
        "df2_services = df2_services.drop(df2_services[(df2_services['Sector NAICS\\nlevel 1'] == 'Wholesale Trade')].index)\n",
        "df2_services = df2_services.drop(df2_services[(df2_services['Sector NAICS\\nlevel 1'] == 'Utilities')].index)\n",
        "df2_services = df2_services.drop(df2_services[(df2_services['Sector NAICS\\nlevel 1'] == 'Transportation and Warehousing')].index)\n",
        "df2_services = df2_services.drop(df2_services[(df2_services['Sector NAICS\\nlevel 1'] == 'Real Estate and Rental and Leasing')].index)\n",
        "df2_services = df2_services.drop(df2_services[(df2_services['Sector NAICS\\nlevel 1'] == 'Health Care and Social Assistance')].index)\n",
        "df2_services = df2_services.drop(df2_services[(df2_services['Sector NAICS\\nlevel 1'] == 'Construction')].index)\n",
        "df2_services = df2_services.drop(df2_services[(df2_services['Sector NAICS\\nlevel 1'] == 'Arts, Entertainment, and Recreation')].index)\n",
        "df2_services = df2_services.drop(df2_services[(df2_services['Sector NAICS\\nlevel 1'] == '-')].index)\n",
        "df2_services = df2_services.drop(df2_services[(df2_services['Sector NAICS\\nlevel 1'] == 'Agriculture, Forestry, Fishing and Hunting')].index)"
      ]
    },
    {
      "cell_type": "markdown",
      "source": [
        "Obtenemos las R de cada registro "
      ],
      "metadata": {
        "id": "CXewosFTxjgs"
      }
    },
    {
      "cell_type": "code",
      "execution_count": 75,
      "metadata": {
        "id": "i7M0Yv1C37gm"
      },
      "outputs": [],
      "source": [
        "df2_services['R'] = np.log(df2_services.groupby(['firm'])['adjprice'].shift(-1)) - np.log(df2_services.groupby(['firm'])['adjprice'].shift(3))"
      ]
    },
    {
      "cell_type": "markdown",
      "source": [
        "Dropeamos todos los datos, a excepcion de el ultimo cuartil"
      ],
      "metadata": {
        "id": "_Yj3fjUaxoHn"
      }
    },
    {
      "cell_type": "code",
      "execution_count": 76,
      "metadata": {
        "id": "eD8cOm_Y21p6"
      },
      "outputs": [],
      "source": [
        "df_mask = df2_services['q'] == '2022q1'\n",
        "df3 = df2_services[df_mask]"
      ]
    },
    {
      "cell_type": "markdown",
      "source": [
        "Dropeamos columnas que no se usaran en los calculos de nuestras variables independientes"
      ],
      "metadata": {
        "id": "TEekal1exwnA"
      }
    },
    {
      "cell_type": "code",
      "execution_count": 77,
      "metadata": {
        "id": "vrC1WgFSWjLE"
      },
      "outputs": [],
      "source": [
        "df3 = df3.drop(\n",
        "    [\n",
        "        'extraincome', \n",
        "        'shortdebt', \n",
        "        'longdebt', \n",
        "        'stockholderequity', \n",
        "        'Ticker', \n",
        "        'Name', \n",
        "        'Class',\n",
        "        'Exchange / Src',\n",
        "        'Sector\\nEconomatica',\n",
        "        'Sector NAICS\\nlast available',\n",
        "        'partind'\n",
        "      ],\n",
        "       axis=1)"
      ]
    },
    {
      "cell_type": "code",
      "execution_count": 78,
      "metadata": {
        "id": "mAAl2f14yO8u",
        "colab": {
          "base_uri": "https://localhost:8080/"
        },
        "outputId": "eef8616f-aa76-4c18-9e4a-77982f04483f"
      },
      "outputs": [
        {
          "output_type": "execute_result",
          "data": {
            "text/plain": [
              "count    3.720000e+02\n",
              "mean     9.212180e+05\n",
              "std      3.942143e+06\n",
              "min      0.000000e+00\n",
              "25%      6.649075e+04\n",
              "50%      1.981825e+05\n",
              "75%      7.438012e+05\n",
              "max      6.801100e+07\n",
              "Name: revenue, dtype: float64"
            ]
          },
          "metadata": {},
          "execution_count": 78
        }
      ],
      "source": [
        "df3['revenue'].describe()"
      ]
    },
    {
      "cell_type": "markdown",
      "source": [
        "Dropeamos los nan en la variable R"
      ],
      "metadata": {
        "id": "YX4qaYJqx3UQ"
      }
    },
    {
      "cell_type": "code",
      "execution_count": 79,
      "metadata": {
        "id": "6eR6HyN2yUZV"
      },
      "outputs": [],
      "source": [
        "df_mask = df3['R'] > 0\n",
        "df3 = df3[df_mask]"
      ]
    },
    {
      "cell_type": "markdown",
      "source": [
        "Calculamos Book to market ratio, epsp y opm a partir de los datos"
      ],
      "metadata": {
        "id": "noikcDsmx6QH"
      }
    },
    {
      "cell_type": "code",
      "execution_count": 80,
      "metadata": {
        "id": "bRF_A4gUUL-N"
      },
      "outputs": [],
      "source": [
        "df3['Book'] = df3['totalassets'] - df3['totalliabilities']\n",
        "df3['Market'] = df3['originalprice'] * df3['sharesoutstanding']\n",
        "\n",
        "\n",
        "df3['EBIT'] = df3['revenue'] - df3['cogs'] - df3['sgae'] - df3['otheropexp']\n",
        "df3['NetIncome'] = df3['EBIT'] - df3['incometax'] - df3['finexp']\n",
        "df3['EPS'] = df3['NetIncome'] / df3['sharesoutstanding']\n",
        "\n",
        "\n",
        "df3['EPSP'] = df3['EPS'] / df3['originalprice']\n",
        "df3['OPM'] = df3['EBIT'] / df3['revenue']\n",
        "df3['Book_to_Market_ratio'] = df3['Book'] / df3['Market']"
      ]
    },
    {
      "cell_type": "markdown",
      "source": [
        "Dropeamos los nan en las variables de OPM, EPSP Y Book_to_Market_ratio"
      ],
      "metadata": {
        "id": "oowK_brkyAfD"
      }
    },
    {
      "cell_type": "code",
      "execution_count": 81,
      "metadata": {
        "id": "BBgNkvOAxTu2",
        "colab": {
          "base_uri": "https://localhost:8080/"
        },
        "outputId": "2cda9fc1-a905-4791-a1ca-0ba5048809f2"
      },
      "outputs": [
        {
          "output_type": "execute_result",
          "data": {
            "text/plain": [
              "count    64.000000\n",
              "mean      0.194677\n",
              "std       0.223939\n",
              "min       0.003957\n",
              "25%       0.071489\n",
              "50%       0.133235\n",
              "75%       0.269808\n",
              "max       1.591808\n",
              "Name: R, dtype: float64"
            ]
          },
          "metadata": {},
          "execution_count": 81
        }
      ],
      "source": [
        "df3['R'].describe()"
      ]
    },
    {
      "cell_type": "code",
      "execution_count": 82,
      "metadata": {
        "id": "-RugcarNtHlA"
      },
      "outputs": [],
      "source": [
        "df_mask = df3['R'] >= -5\n",
        "df_clean = df3[df_mask]"
      ]
    },
    {
      "cell_type": "code",
      "execution_count": 83,
      "metadata": {
        "id": "dqUlgYicwzlw",
        "colab": {
          "base_uri": "https://localhost:8080/"
        },
        "outputId": "b61038d8-0ad5-45db-9061-a72a55e7ede0"
      },
      "outputs": [
        {
          "output_type": "execute_result",
          "data": {
            "text/plain": [
              "count    64.000000\n",
              "mean      0.012926\n",
              "std       0.023902\n",
              "min      -0.029480\n",
              "25%       0.003823\n",
              "50%       0.008263\n",
              "75%       0.015408\n",
              "max       0.157480\n",
              "Name: EPSP, dtype: float64"
            ]
          },
          "metadata": {},
          "execution_count": 83
        }
      ],
      "source": [
        "df_clean['EPSP'].describe()"
      ]
    },
    {
      "cell_type": "code",
      "execution_count": 84,
      "metadata": {
        "id": "JdLd2lLXw8TG"
      },
      "outputs": [],
      "source": [
        "df_mask = df_clean['EPSP'] >= -5\n",
        "df_clean_2 = df_clean[df_mask]"
      ]
    },
    {
      "cell_type": "code",
      "execution_count": 85,
      "metadata": {
        "id": "HLre3Kh5xDbU",
        "colab": {
          "base_uri": "https://localhost:8080/"
        },
        "outputId": "6b97a711-a4a4-437f-9412-83002aa22123"
      },
      "outputs": [
        {
          "output_type": "execute_result",
          "data": {
            "text/plain": [
              "count    64.000000\n",
              "mean      0.302797\n",
              "std       0.250904\n",
              "min      -0.247891\n",
              "25%       0.108701\n",
              "50%       0.254069\n",
              "75%       0.425732\n",
              "max       1.119752\n",
              "Name: Book_to_Market_ratio, dtype: float64"
            ]
          },
          "metadata": {},
          "execution_count": 85
        }
      ],
      "source": [
        "df_clean_2['Book_to_Market_ratio'].describe()"
      ]
    },
    {
      "cell_type": "code",
      "execution_count": 86,
      "metadata": {
        "id": "m2J4Qv3jxM_x"
      },
      "outputs": [],
      "source": [
        "df_mask = df_clean_2['Book_to_Market_ratio'] >= -5\n",
        "df_clean_3 = df_clean_2[df_mask]"
      ]
    },
    {
      "cell_type": "code",
      "execution_count": 87,
      "metadata": {
        "id": "WhkxLtJSyEZr",
        "colab": {
          "base_uri": "https://localhost:8080/"
        },
        "outputId": "85fafe0e-b3dd-43a3-cae6-21b9ab9fb6f9"
      },
      "outputs": [
        {
          "output_type": "execute_result",
          "data": {
            "text/plain": [
              "count    64.000000\n",
              "mean      0.130387\n",
              "std       0.122849\n",
              "min      -0.107435\n",
              "25%       0.046636\n",
              "50%       0.099495\n",
              "75%       0.188092\n",
              "max       0.441066\n",
              "Name: OPM, dtype: float64"
            ]
          },
          "metadata": {},
          "execution_count": 87
        }
      ],
      "source": [
        "df_clean_2['OPM'].describe()"
      ]
    },
    {
      "cell_type": "markdown",
      "source": [
        "Sorteamos los datos por mercado"
      ],
      "metadata": {
        "id": "dm3QCsLryGZG"
      }
    },
    {
      "cell_type": "code",
      "execution_count": 88,
      "metadata": {
        "id": "O6ZStNeCjnsv"
      },
      "outputs": [],
      "source": [
        "df_clean_3 = df_clean_3.sort_values(by = 'Market')"
      ]
    },
    {
      "cell_type": "code",
      "execution_count": 89,
      "metadata": {
        "id": "uKuPErAGlbXB"
      },
      "outputs": [],
      "source": [
        "df_clean_3 = df_clean_3.reset_index()\n",
        "df_clean_3 = df_clean_3.drop(['index'], axis = 1)"
      ]
    },
    {
      "cell_type": "code",
      "execution_count": 90,
      "metadata": {
        "id": "2ZhAZDF-nHiu"
      },
      "outputs": [],
      "source": [
        "df_clean_3 = df_clean_3.reset_index()"
      ]
    },
    {
      "cell_type": "markdown",
      "source": [
        "Asignamos las varuables dummys para obtener las grandes, medianas y grandes empresas"
      ],
      "metadata": {
        "id": "6bU_u5JSyJb6"
      }
    },
    {
      "cell_type": "code",
      "execution_count": 91,
      "metadata": {
        "id": "m0LgsKSOnbjs"
      },
      "outputs": [],
      "source": [
        "df_clean_3[\"isSmall\"] = df_clean_3.index <= len(df_clean_3) / 3\n",
        "df_clean_3[\"isSmall\"] = df_clean_3[\"isSmall\"].astype(int)\n",
        "\n",
        "df_clean_3[\"isMedium\"] = (df_clean_3.index <= (2 * len(df_clean_3) / 3)) & (df_clean_3.index > (len(df_clean_3) / 3))\n",
        "df_clean_3[\"isMedium\"] = df_clean_3[\"isMedium\"].astype(int)"
      ]
    },
    {
      "cell_type": "markdown",
      "source": [
        "Guardamos las variables que usaremos para el calculo matricial"
      ],
      "metadata": {
        "id": "oiaBexcGyQwN"
      }
    },
    {
      "cell_type": "code",
      "source": [
        "Variables = df_clean_3[['EPSP', 'OPM', 'Book_to_Market_ratio', 'isSmall', 'isMedium', 'R']]\n",
        "Variables_mat = Variables.cov().to_numpy()"
      ],
      "metadata": {
        "id": "1u02xXg6Ue4e"
      },
      "execution_count": 92,
      "outputs": []
    },
    {
      "cell_type": "markdown",
      "source": [
        "Dividimos las variables en 'X' y 'y'"
      ],
      "metadata": {
        "id": "E_vuf_4oyUnf"
      }
    },
    {
      "cell_type": "code",
      "execution_count": 93,
      "metadata": {
        "id": "N_wddFbmVCCC"
      },
      "outputs": [],
      "source": [
        "X = df_clean_3[['EPSP', 'OPM', 'Book_to_Market_ratio', 'isSmall', 'isMedium']]\n",
        "y = df_clean_3['R']"
      ]
    },
    {
      "cell_type": "code",
      "source": [
        "from statsmodels.stats.outliers_influence import variance_inflation_factor\n",
        "vif_data = pd.DataFrame()\n",
        "vif_data[\"feature\"] = X.columns\n",
        "  \n",
        "# calculating VIF for each feature\n",
        "vif_data[\"VIF\"] = [variance_inflation_factor(X.values, i)\n",
        "                          for i in range(len(X.columns))]\n",
        "\n",
        "print(vif_data)"
      ],
      "metadata": {
        "colab": {
          "base_uri": "https://localhost:8080/"
        },
        "id": "Y8Ulmg6G3Fiv",
        "outputId": "4f101661-6f93-4adf-e432-803955e1a6b3"
      },
      "execution_count": 97,
      "outputs": [
        {
          "output_type": "stream",
          "name": "stdout",
          "text": [
            "                feature       VIF\n",
            "0                  EPSP  1.624803\n",
            "1                   OPM  1.655611\n",
            "2  Book_to_Market_ratio  2.886763\n",
            "3               isSmall  2.256689\n",
            "4              isMedium  2.096322\n"
          ]
        }
      ]
    },
    {
      "cell_type": "markdown",
      "source": [
        "Como podemos ver, al tener un vif de menos de 1.5 en todas las variables, no existe multicolienaridad en los datos, por lo que no se necesita generar cambios en estos"
      ],
      "metadata": {
        "id": "4sQnKEnY3rNn"
      }
    },
    {
      "cell_type": "markdown",
      "metadata": {
        "id": "pNHjRxyMF3J_"
      },
      "source": [
        "##Matriz de varianza y covarianza"
      ]
    },
    {
      "cell_type": "markdown",
      "source": [
        "Seguimos las formula del documento https://docs.google.com/viewer?a=v&pid=sites&srcid=ZWdhZGVyemMubmV0fGZ6MzAzMHxneDozOTI1ODBmMGU2YTMzZGM1\n",
        "\n",
        "Para obtener la matriz de varianza y covarianza"
      ],
      "metadata": {
        "id": "MLltYP2vybfQ"
      }
    },
    {
      "cell_type": "code",
      "execution_count": null,
      "metadata": {
        "id": "VZMXDq9IFl0g"
      },
      "outputs": [],
      "source": [
        "X_varcov_mat = X.to_numpy()"
      ]
    },
    {
      "cell_type": "code",
      "execution_count": null,
      "metadata": {
        "id": "43EC-vS2Ezbo"
      },
      "outputs": [],
      "source": [
        "X_varcov_trans = np.transpose(X_varcov_mat)"
      ]
    },
    {
      "cell_type": "code",
      "execution_count": null,
      "metadata": {
        "id": "pIwjxFdAGAT8"
      },
      "outputs": [],
      "source": [
        "aux1 = np.dot(X_varcov_trans, X_varcov_mat)"
      ]
    },
    {
      "cell_type": "code",
      "execution_count": null,
      "metadata": {
        "id": "hD63shSJF12L"
      },
      "outputs": [],
      "source": [
        "unos = np.zeros((X_varcov_trans.shape[1], 1))"
      ]
    },
    {
      "cell_type": "code",
      "execution_count": null,
      "metadata": {
        "id": "nzrRRTI-IaG1"
      },
      "outputs": [],
      "source": [
        "unos = 1 + unos"
      ]
    },
    {
      "cell_type": "code",
      "execution_count": null,
      "metadata": {
        "id": "8x9I_Vl0HVDJ"
      },
      "outputs": [],
      "source": [
        "aux2 = np.dot(X_varcov_trans, unos)"
      ]
    },
    {
      "cell_type": "code",
      "execution_count": null,
      "metadata": {
        "id": "6x3vv-MeHeyq"
      },
      "outputs": [],
      "source": [
        "aux3 = np.transpose(aux2)"
      ]
    },
    {
      "cell_type": "code",
      "execution_count": null,
      "metadata": {
        "id": "rOcNkKkGHiyI"
      },
      "outputs": [],
      "source": [
        "aux4 = np.dot(aux2, aux3)"
      ]
    },
    {
      "cell_type": "code",
      "execution_count": null,
      "metadata": {
        "id": "VOdcGuK6Hn90"
      },
      "outputs": [],
      "source": [
        "aux5 = aux4 / X_varcov_mat.shape[0]"
      ]
    },
    {
      "cell_type": "code",
      "execution_count": null,
      "metadata": {
        "id": "ndop8AqBInRN"
      },
      "outputs": [],
      "source": [
        "aux6 = aux1 - aux5"
      ]
    },
    {
      "cell_type": "code",
      "execution_count": null,
      "metadata": {
        "id": "AqYktxKGIxe6"
      },
      "outputs": [],
      "source": [
        "mat_varcov = aux6 / (X_varcov_mat.shape[0] - 1)"
      ]
    },
    {
      "cell_type": "code",
      "execution_count": null,
      "metadata": {
        "id": "KSCkO4SYI6hd"
      },
      "outputs": [],
      "source": [
        "mat_varcov"
      ]
    },
    {
      "cell_type": "code",
      "execution_count": null,
      "metadata": {
        "id": "ozyBFf5dKLwR"
      },
      "outputs": [],
      "source": [
        "mat = pd.DataFrame(mat_varcov)"
      ]
    },
    {
      "cell_type": "code",
      "execution_count": null,
      "metadata": {
        "id": "kvxoPxXzKap7"
      },
      "outputs": [],
      "source": [
        "mat"
      ]
    },
    {
      "cell_type": "code",
      "execution_count": null,
      "metadata": {
        "id": "tQDvOgSfKeB7"
      },
      "outputs": [],
      "source": [
        "X.cov()"
      ]
    },
    {
      "cell_type": "markdown",
      "metadata": {
        "id": "QK9eTltRLO9N"
      },
      "source": [
        "Comprobamos que las varianzas son iguales en nuestro calculo y lo obtenido por medio de pandas, por lo que la matriz es correcta"
      ]
    },
    {
      "cell_type": "markdown",
      "metadata": {
        "id": "TPgsyy8HDkuS"
      },
      "source": [
        "##Matriz de correlaciones\n"
      ]
    },
    {
      "cell_type": "markdown",
      "source": [
        "Seguimos la formula de correlacion obtenida a base de los standar deviations y la matriz de varianza y covarianza"
      ],
      "metadata": {
        "id": "gg25H3Oey0fx"
      }
    },
    {
      "cell_type": "code",
      "source": [
        "var = np.diagonal(mat_varcov)"
      ],
      "metadata": {
        "id": "IhJIblSPY4_6"
      },
      "execution_count": null,
      "outputs": []
    },
    {
      "cell_type": "code",
      "source": [
        "stdr_dev = np.sqrt(var)"
      ],
      "metadata": {
        "id": "WS0IMN6BZFBY"
      },
      "execution_count": null,
      "outputs": []
    },
    {
      "cell_type": "code",
      "source": [
        "stdr_dev"
      ],
      "metadata": {
        "id": "ImbCGUwRZLi6"
      },
      "execution_count": null,
      "outputs": []
    },
    {
      "cell_type": "code",
      "source": [
        "ya_no_se = [[ 0 for y in range( len(stdr_dev) ) ] for x in range( len(stdr_dev) )]\n",
        "for i in range(len(stdr_dev)):\n",
        "  for j in range(len(stdr_dev)):\n",
        "    ya_no_se[i][j] = stdr_dev[i] * stdr_dev[j]"
      ],
      "metadata": {
        "id": "d21ZLT_gdyUQ"
      },
      "execution_count": null,
      "outputs": []
    },
    {
      "cell_type": "code",
      "source": [
        "corr = [[ 0 for y in range( len(ya_no_se) ) ] for x in range( len(ya_no_se) )]\n",
        "for i in range(len(ya_no_se)):\n",
        "  for j in range(len(ya_no_se)):\n",
        "    corr[i][j] = mat_varcov[i][j] / ya_no_se[i][j]"
      ],
      "metadata": {
        "id": "nWtlb9HseL_Z"
      },
      "execution_count": null,
      "outputs": []
    },
    {
      "cell_type": "code",
      "source": [
        "corr"
      ],
      "metadata": {
        "id": "_oTyv5LzefSM"
      },
      "execution_count": null,
      "outputs": []
    },
    {
      "cell_type": "code",
      "source": [
        "X.corr()"
      ],
      "metadata": {
        "id": "IyhmCBODehM2"
      },
      "execution_count": null,
      "outputs": []
    },
    {
      "cell_type": "markdown",
      "source": [
        "Comprobamos que las correlaciones son iguales en nuestro calculo y lo obtenido por medio de pandas, por lo que la matriz es correcta"
      ],
      "metadata": {
        "id": "74_QNy3ZzBcO"
      }
    },
    {
      "cell_type": "markdown",
      "metadata": {
        "id": "Z-8JqdakJ09d"
      },
      "source": [
        "##Betas"
      ]
    },
    {
      "cell_type": "markdown",
      "source": [
        "Seguimos la siguiente formula para obtener las betas "
      ],
      "metadata": {
        "id": "ufDF_6EQzKaa"
      }
    },
    {
      "cell_type": "markdown",
      "metadata": {
        "id": "o6DZsu63sKgb"
      },
      "source": [
        "Primer valor de x son 1\n",
        "\n",
        "x´ es x transpuesta\n",
        "\n",
        "x^1 es x inversa\n",
        "\n",
        "(x´x)^-1x´y"
      ]
    },
    {
      "cell_type": "code",
      "execution_count": null,
      "metadata": {
        "id": "COGMR43etr4Q"
      },
      "outputs": [],
      "source": [
        "X['1'] = 1"
      ]
    },
    {
      "cell_type": "code",
      "execution_count": null,
      "metadata": {
        "id": "2a0AZ1aXujfd"
      },
      "outputs": [],
      "source": [
        "X = X[['1', 'isSmall', 'isMedium', 'EPSP', 'OPM', 'Book_to_Market_ratio']]"
      ]
    },
    {
      "cell_type": "code",
      "execution_count": null,
      "metadata": {
        "id": "ZPuQ8e4pwW68"
      },
      "outputs": [],
      "source": [
        "X_mat = X.to_numpy()"
      ]
    },
    {
      "cell_type": "code",
      "execution_count": null,
      "metadata": {
        "id": "q1-AZl_ovTXw"
      },
      "outputs": [],
      "source": [
        "X_t = np.transpose(X_mat)"
      ]
    },
    {
      "cell_type": "code",
      "execution_count": null,
      "metadata": {
        "id": "IFIykS01zM3K"
      },
      "outputs": [],
      "source": [
        "X_sqr = np.dot(X_t, X_mat)"
      ]
    },
    {
      "cell_type": "code",
      "execution_count": null,
      "metadata": {
        "id": "hPJgNpl5zIxg"
      },
      "outputs": [],
      "source": [
        "X_inv = np.linalg.inv(X_sqr)"
      ]
    },
    {
      "cell_type": "code",
      "execution_count": null,
      "metadata": {
        "id": "lr_hx_M5zZXE"
      },
      "outputs": [],
      "source": [
        "aux = np.dot(X_inv, X_t)"
      ]
    },
    {
      "cell_type": "code",
      "execution_count": null,
      "metadata": {
        "id": "tlZysBt6zqcJ"
      },
      "outputs": [],
      "source": [
        "B = np.dot(aux, y)"
      ]
    },
    {
      "cell_type": "code",
      "execution_count": null,
      "metadata": {
        "id": "OTsgOD4KOZM8"
      },
      "outputs": [],
      "source": [
        "B"
      ]
    },
    {
      "cell_type": "markdown",
      "source": [
        "###Comprobación"
      ],
      "metadata": {
        "id": "PkIiOvS2yqH7"
      }
    },
    {
      "cell_type": "code",
      "source": [
        "import statsmodels.api as sm\n",
        "import statsmodels.formula.api as smf"
      ],
      "metadata": {
        "id": "JKb3MJUxyFPo"
      },
      "execution_count": null,
      "outputs": []
    },
    {
      "cell_type": "code",
      "source": [
        "mod = smf.ols('R ~ isSmall + isMedium + EPSP + OPM + Book_to_Market_ratio', data = df_clean_3).fit()\n",
        "\n",
        "print(mod.summary())"
      ],
      "metadata": {
        "id": "MrKWH1NSx7qP"
      },
      "execution_count": null,
      "outputs": []
    },
    {
      "cell_type": "markdown",
      "source": [
        "Comprobamos que las betas son iguales en nuestro calculo y lo obtenido por medio de ols, por lo que las betas son correctas"
      ],
      "metadata": {
        "id": "ZCAcIjbOzSvf"
      }
    },
    {
      "cell_type": "markdown",
      "source": [
        "###MSE"
      ],
      "metadata": {
        "id": "Gon1l7u1wbio"
      }
    },
    {
      "cell_type": "code",
      "source": [
        "y_pred = X * B"
      ],
      "metadata": {
        "id": "TdxQkJc5wlcv"
      },
      "execution_count": null,
      "outputs": []
    },
    {
      "cell_type": "code",
      "source": [
        "y_pred['sum'] = y_pred['1'] + y_pred['isSmall'] + y_pred['isMedium'] + y_pred['EPSP'] + y_pred['OPM'] + y_pred['Book_to_Market_ratio']"
      ],
      "metadata": {
        "id": "KKav5TcBww5M"
      },
      "execution_count": null,
      "outputs": []
    },
    {
      "cell_type": "code",
      "source": [
        "E = y - y_pred['sum']"
      ],
      "metadata": {
        "id": "8n_QU1E6xbwp"
      },
      "execution_count": null,
      "outputs": []
    },
    {
      "cell_type": "code",
      "source": [
        "aux = E * E"
      ],
      "metadata": {
        "id": "Z-6cI71FxoGT"
      },
      "execution_count": null,
      "outputs": []
    },
    {
      "cell_type": "markdown",
      "source": [
        "Matriz de errores"
      ],
      "metadata": {
        "id": "pMerwVj11iZR"
      }
    },
    {
      "cell_type": "code",
      "source": [
        "aux"
      ],
      "metadata": {
        "id": "zrAK4sFj1ks4"
      },
      "execution_count": null,
      "outputs": []
    },
    {
      "cell_type": "code",
      "source": [
        "MSE = aux.sum()"
      ],
      "metadata": {
        "id": "xEEuBa_axsRt"
      },
      "execution_count": null,
      "outputs": []
    },
    {
      "cell_type": "code",
      "source": [
        "MSE"
      ],
      "metadata": {
        "id": "MkTxw3Kyx2aR"
      },
      "execution_count": null,
      "outputs": []
    }
  ],
  "metadata": {
    "colab": {
      "provenance": []
    },
    "kernelspec": {
      "display_name": "Python 3",
      "name": "python3"
    },
    "language_info": {
      "name": "python"
    }
  },
  "nbformat": 4,
  "nbformat_minor": 0
}