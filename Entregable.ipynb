{
  "cells": [
    {
      "cell_type": "code",
      "execution_count": 1,
      "metadata": {
        "colab": {
          "base_uri": "https://localhost:8080/"
        },
        "id": "DY3-v-zO2YpA",
        "outputId": "8895a41b-539d-4626-91ec-9ac09db4eec6"
      },
      "outputs": [
        {
          "output_type": "stream",
          "name": "stdout",
          "text": [
            "Drive already mounted at /content/gdrive; to attempt to forcibly remount, call drive.mount(\"/content/gdrive\", force_remount=True).\n"
          ]
        }
      ],
      "source": [
        "from google.colab import drive\n",
        "\n",
        "drive.mount(\"/content/gdrive\") "
      ]
    },
    {
      "cell_type": "code",
      "execution_count": 2,
      "metadata": {
        "colab": {
          "base_uri": "https://localhost:8080/"
        },
        "id": "MWYNCrdK2hoL",
        "outputId": "cfad330a-7998-48db-ca50-fea5897c9f02"
      },
      "outputs": [
        {
          "output_type": "stream",
          "name": "stdout",
          "text": [
            "/content/gdrive/MyDrive/Bloque 2 IA/Estadistica\n",
            "Apuntes.gdoc  Entregable  us2022q2a.csv  usfirms2022.csv\n"
          ]
        }
      ],
      "source": [
        "%cd \"/content/gdrive/MyDrive/Bloque 2 IA/Estadistica\"\n",
        "!ls"
      ]
    },
    {
      "cell_type": "code",
      "execution_count": 3,
      "metadata": {
        "id": "z7wfh99N2nQF"
      },
      "outputs": [],
      "source": [
        "import plotly.express as px\n",
        "import pandas as pd\n",
        "import numpy as np"
      ]
    },
    {
      "cell_type": "markdown",
      "metadata": {
        "id": "3ywgW5ewJ5EW"
      },
      "source": [
        "##Seleccion y limpieza de datos"
      ]
    },
    {
      "cell_type": "code",
      "execution_count": 4,
      "metadata": {
        "id": "1jrVbKay2oaW"
      },
      "outputs": [],
      "source": [
        "df1 = pd.read_csv('us2022q2a.csv')\n",
        "df2 = pd.read_csv('usfirms2022.csv')"
      ]
    },
    {
      "cell_type": "markdown",
      "source": [
        "Dropeamos columnas que son repetidas en el dataset y no nos son utiles para lo que deseamos"
      ],
      "metadata": {
        "id": "cMmYgv4wwoL6"
      }
    },
    {
      "cell_type": "code",
      "execution_count": 5,
      "metadata": {
        "id": "5lQUW1zP2vkP"
      },
      "outputs": [],
      "source": [
        "df1 = df1.drop(['fiscalmonth', 'year', 'cto'], axis=1)\n",
        "df2 = df2.drop(['N', 'Country\\nof Origin', 'Type of Asset'], axis=1)"
      ]
    },
    {
      "cell_type": "markdown",
      "source": [
        "Mergeamos los datos de los dos datasets "
      ],
      "metadata": {
        "id": "BBSAuyqdwtiA"
      }
    },
    {
      "cell_type": "code",
      "execution_count": 6,
      "metadata": {
        "id": "ZN993zEf2q-8",
        "colab": {
          "base_uri": "https://localhost:8080/",
          "height": 956
        },
        "outputId": "3af35839-beab-4621-a7e1-df022eea540f"
      },
      "outputs": [
        {
          "output_type": "execute_result",
          "data": {
            "text/plain": [
              "        firm       q    revenue       cogs          sgae  otheropexp  \\\n",
              "0          A  2000q1        NaN        NaN           NaN         NaN   \n",
              "1          A  2000q2  2485000.0  1261000.0  1.010000e+06         0.0   \n",
              "2          A  2000q3  2670000.0  1369000.0  1.091000e+06         0.0   \n",
              "3          A  2000q4  3372000.0  1732000.0  1.182000e+06         0.0   \n",
              "4          A  2001q1  2841000.0  1449000.0  1.113000e+06         0.0   \n",
              "...      ...     ...        ...        ...           ...         ...   \n",
              "323811  ZYNE  2021q2        0.0        0.0  9.838494e+03         0.0   \n",
              "323812  ZYNE  2021q3        0.0        0.0  1.021065e+04         0.0   \n",
              "323813  ZYNE  2021q4        0.0        0.0  8.836436e+03         0.0   \n",
              "323814  ZYNE  2022q1        0.0        0.0  8.903915e+03         0.0   \n",
              "323815  ZYNE  2022q2        0.0        0.0  9.168770e+03         0.0   \n",
              "\n",
              "         extraincome  finexp  incometax  totalassets  ...  originalprice  \\\n",
              "0                NaN     NaN        NaN          NaN  ...       104.0000   \n",
              "1       42000.000000   0.000    90000.0  7321000.000  ...        73.7500   \n",
              "2       28000.000000   0.000    83000.0  7827000.000  ...        48.9375   \n",
              "3       10000.000000   0.000   163000.0  8425000.000  ...        54.7500   \n",
              "4       -6000.000000   0.000   119000.0  9208000.000  ...        30.7300   \n",
              "...              ...     ...        ...          ...  ...            ...   \n",
              "323811   -117.528220  -5.943        0.0    98195.904  ...         5.2900   \n",
              "323812   -376.636750  -5.038        0.0    89996.170  ...         4.2400   \n",
              "323813     16.937906  -4.433        0.0    81171.507  ...         2.8800   \n",
              "323814    317.252110 -96.044        0.0    74381.029  ...         2.0500   \n",
              "323815   -775.927860 -91.691        0.0    67006.959  ...         1.1400   \n",
              "\n",
              "        sharesoutstanding  Ticker                          Name  Class  \\\n",
              "0              452000.000       A     Agilent Technologies, Inc    Com   \n",
              "1              452271.967       A     Agilent Technologies, Inc    Com   \n",
              "2              453014.579       A     Agilent Technologies, Inc    Com   \n",
              "3              456366.381       A     Agilent Technologies, Inc    Com   \n",
              "4              456769.737       A     Agilent Technologies, Inc    Com   \n",
              "...                   ...     ...                           ...    ...   \n",
              "323811          41251.537    ZYNE  Zynerba Pharmaceuticals, Inc    Com   \n",
              "323812          41251.537    ZYNE  Zynerba Pharmaceuticals, Inc    Com   \n",
              "323813          41217.537    ZYNE  Zynerba Pharmaceuticals, Inc    Com   \n",
              "323814          42447.037    ZYNE  Zynerba Pharmaceuticals, Inc    Com   \n",
              "323815          43595.959    ZYNE  Zynerba Pharmaceuticals, Inc    Com   \n",
              "\n",
              "        Sector NAICS\\nlevel 1  Exchange / Src Sector\\nEconomatica  \\\n",
              "0               Manufacturing            NYSE   Electric Electron   \n",
              "1               Manufacturing            NYSE   Electric Electron   \n",
              "2               Manufacturing            NYSE   Electric Electron   \n",
              "3               Manufacturing            NYSE   Electric Electron   \n",
              "4               Manufacturing            NYSE   Electric Electron   \n",
              "...                       ...             ...                 ...   \n",
              "323811          Manufacturing          NASDAQ            Chemical   \n",
              "323812          Manufacturing          NASDAQ            Chemical   \n",
              "323813          Manufacturing          NASDAQ            Chemical   \n",
              "323814          Manufacturing          NASDAQ            Chemical   \n",
              "323815          Manufacturing          NASDAQ            Chemical   \n",
              "\n",
              "                             Sector NAICS\\nlast available partind  \n",
              "0       Navigational, Measuring, Electromedical, and C...   0.124  \n",
              "1       Navigational, Measuring, Electromedical, and C...   0.124  \n",
              "2       Navigational, Measuring, Electromedical, and C...   0.124  \n",
              "3       Navigational, Measuring, Electromedical, and C...   0.124  \n",
              "4       Navigational, Measuring, Electromedical, and C...   0.124  \n",
              "...                                                   ...     ...  \n",
              "323811          Pharmaceutical and Medicine Manufacturing       -  \n",
              "323812          Pharmaceutical and Medicine Manufacturing       -  \n",
              "323813          Pharmaceutical and Medicine Manufacturing       -  \n",
              "323814          Pharmaceutical and Medicine Manufacturing       -  \n",
              "323815          Pharmaceutical and Medicine Manufacturing       -  \n",
              "\n",
              "[323816 rows x 25 columns]"
            ],
            "text/html": [
              "\n",
              "  <div id=\"df-0c65a6f6-a659-4f92-b723-e352043e717b\">\n",
              "    <div class=\"colab-df-container\">\n",
              "      <div>\n",
              "<style scoped>\n",
              "    .dataframe tbody tr th:only-of-type {\n",
              "        vertical-align: middle;\n",
              "    }\n",
              "\n",
              "    .dataframe tbody tr th {\n",
              "        vertical-align: top;\n",
              "    }\n",
              "\n",
              "    .dataframe thead th {\n",
              "        text-align: right;\n",
              "    }\n",
              "</style>\n",
              "<table border=\"1\" class=\"dataframe\">\n",
              "  <thead>\n",
              "    <tr style=\"text-align: right;\">\n",
              "      <th></th>\n",
              "      <th>firm</th>\n",
              "      <th>q</th>\n",
              "      <th>revenue</th>\n",
              "      <th>cogs</th>\n",
              "      <th>sgae</th>\n",
              "      <th>otheropexp</th>\n",
              "      <th>extraincome</th>\n",
              "      <th>finexp</th>\n",
              "      <th>incometax</th>\n",
              "      <th>totalassets</th>\n",
              "      <th>...</th>\n",
              "      <th>originalprice</th>\n",
              "      <th>sharesoutstanding</th>\n",
              "      <th>Ticker</th>\n",
              "      <th>Name</th>\n",
              "      <th>Class</th>\n",
              "      <th>Sector NAICS\\nlevel 1</th>\n",
              "      <th>Exchange / Src</th>\n",
              "      <th>Sector\\nEconomatica</th>\n",
              "      <th>Sector NAICS\\nlast available</th>\n",
              "      <th>partind</th>\n",
              "    </tr>\n",
              "  </thead>\n",
              "  <tbody>\n",
              "    <tr>\n",
              "      <th>0</th>\n",
              "      <td>A</td>\n",
              "      <td>2000q1</td>\n",
              "      <td>NaN</td>\n",
              "      <td>NaN</td>\n",
              "      <td>NaN</td>\n",
              "      <td>NaN</td>\n",
              "      <td>NaN</td>\n",
              "      <td>NaN</td>\n",
              "      <td>NaN</td>\n",
              "      <td>NaN</td>\n",
              "      <td>...</td>\n",
              "      <td>104.0000</td>\n",
              "      <td>452000.000</td>\n",
              "      <td>A</td>\n",
              "      <td>Agilent Technologies, Inc</td>\n",
              "      <td>Com</td>\n",
              "      <td>Manufacturing</td>\n",
              "      <td>NYSE</td>\n",
              "      <td>Electric Electron</td>\n",
              "      <td>Navigational, Measuring, Electromedical, and C...</td>\n",
              "      <td>0.124</td>\n",
              "    </tr>\n",
              "    <tr>\n",
              "      <th>1</th>\n",
              "      <td>A</td>\n",
              "      <td>2000q2</td>\n",
              "      <td>2485000.0</td>\n",
              "      <td>1261000.0</td>\n",
              "      <td>1.010000e+06</td>\n",
              "      <td>0.0</td>\n",
              "      <td>42000.000000</td>\n",
              "      <td>0.000</td>\n",
              "      <td>90000.0</td>\n",
              "      <td>7321000.000</td>\n",
              "      <td>...</td>\n",
              "      <td>73.7500</td>\n",
              "      <td>452271.967</td>\n",
              "      <td>A</td>\n",
              "      <td>Agilent Technologies, Inc</td>\n",
              "      <td>Com</td>\n",
              "      <td>Manufacturing</td>\n",
              "      <td>NYSE</td>\n",
              "      <td>Electric Electron</td>\n",
              "      <td>Navigational, Measuring, Electromedical, and C...</td>\n",
              "      <td>0.124</td>\n",
              "    </tr>\n",
              "    <tr>\n",
              "      <th>2</th>\n",
              "      <td>A</td>\n",
              "      <td>2000q3</td>\n",
              "      <td>2670000.0</td>\n",
              "      <td>1369000.0</td>\n",
              "      <td>1.091000e+06</td>\n",
              "      <td>0.0</td>\n",
              "      <td>28000.000000</td>\n",
              "      <td>0.000</td>\n",
              "      <td>83000.0</td>\n",
              "      <td>7827000.000</td>\n",
              "      <td>...</td>\n",
              "      <td>48.9375</td>\n",
              "      <td>453014.579</td>\n",
              "      <td>A</td>\n",
              "      <td>Agilent Technologies, Inc</td>\n",
              "      <td>Com</td>\n",
              "      <td>Manufacturing</td>\n",
              "      <td>NYSE</td>\n",
              "      <td>Electric Electron</td>\n",
              "      <td>Navigational, Measuring, Electromedical, and C...</td>\n",
              "      <td>0.124</td>\n",
              "    </tr>\n",
              "    <tr>\n",
              "      <th>3</th>\n",
              "      <td>A</td>\n",
              "      <td>2000q4</td>\n",
              "      <td>3372000.0</td>\n",
              "      <td>1732000.0</td>\n",
              "      <td>1.182000e+06</td>\n",
              "      <td>0.0</td>\n",
              "      <td>10000.000000</td>\n",
              "      <td>0.000</td>\n",
              "      <td>163000.0</td>\n",
              "      <td>8425000.000</td>\n",
              "      <td>...</td>\n",
              "      <td>54.7500</td>\n",
              "      <td>456366.381</td>\n",
              "      <td>A</td>\n",
              "      <td>Agilent Technologies, Inc</td>\n",
              "      <td>Com</td>\n",
              "      <td>Manufacturing</td>\n",
              "      <td>NYSE</td>\n",
              "      <td>Electric Electron</td>\n",
              "      <td>Navigational, Measuring, Electromedical, and C...</td>\n",
              "      <td>0.124</td>\n",
              "    </tr>\n",
              "    <tr>\n",
              "      <th>4</th>\n",
              "      <td>A</td>\n",
              "      <td>2001q1</td>\n",
              "      <td>2841000.0</td>\n",
              "      <td>1449000.0</td>\n",
              "      <td>1.113000e+06</td>\n",
              "      <td>0.0</td>\n",
              "      <td>-6000.000000</td>\n",
              "      <td>0.000</td>\n",
              "      <td>119000.0</td>\n",
              "      <td>9208000.000</td>\n",
              "      <td>...</td>\n",
              "      <td>30.7300</td>\n",
              "      <td>456769.737</td>\n",
              "      <td>A</td>\n",
              "      <td>Agilent Technologies, Inc</td>\n",
              "      <td>Com</td>\n",
              "      <td>Manufacturing</td>\n",
              "      <td>NYSE</td>\n",
              "      <td>Electric Electron</td>\n",
              "      <td>Navigational, Measuring, Electromedical, and C...</td>\n",
              "      <td>0.124</td>\n",
              "    </tr>\n",
              "    <tr>\n",
              "      <th>...</th>\n",
              "      <td>...</td>\n",
              "      <td>...</td>\n",
              "      <td>...</td>\n",
              "      <td>...</td>\n",
              "      <td>...</td>\n",
              "      <td>...</td>\n",
              "      <td>...</td>\n",
              "      <td>...</td>\n",
              "      <td>...</td>\n",
              "      <td>...</td>\n",
              "      <td>...</td>\n",
              "      <td>...</td>\n",
              "      <td>...</td>\n",
              "      <td>...</td>\n",
              "      <td>...</td>\n",
              "      <td>...</td>\n",
              "      <td>...</td>\n",
              "      <td>...</td>\n",
              "      <td>...</td>\n",
              "      <td>...</td>\n",
              "      <td>...</td>\n",
              "    </tr>\n",
              "    <tr>\n",
              "      <th>323811</th>\n",
              "      <td>ZYNE</td>\n",
              "      <td>2021q2</td>\n",
              "      <td>0.0</td>\n",
              "      <td>0.0</td>\n",
              "      <td>9.838494e+03</td>\n",
              "      <td>0.0</td>\n",
              "      <td>-117.528220</td>\n",
              "      <td>-5.943</td>\n",
              "      <td>0.0</td>\n",
              "      <td>98195.904</td>\n",
              "      <td>...</td>\n",
              "      <td>5.2900</td>\n",
              "      <td>41251.537</td>\n",
              "      <td>ZYNE</td>\n",
              "      <td>Zynerba Pharmaceuticals, Inc</td>\n",
              "      <td>Com</td>\n",
              "      <td>Manufacturing</td>\n",
              "      <td>NASDAQ</td>\n",
              "      <td>Chemical</td>\n",
              "      <td>Pharmaceutical and Medicine Manufacturing</td>\n",
              "      <td>-</td>\n",
              "    </tr>\n",
              "    <tr>\n",
              "      <th>323812</th>\n",
              "      <td>ZYNE</td>\n",
              "      <td>2021q3</td>\n",
              "      <td>0.0</td>\n",
              "      <td>0.0</td>\n",
              "      <td>1.021065e+04</td>\n",
              "      <td>0.0</td>\n",
              "      <td>-376.636750</td>\n",
              "      <td>-5.038</td>\n",
              "      <td>0.0</td>\n",
              "      <td>89996.170</td>\n",
              "      <td>...</td>\n",
              "      <td>4.2400</td>\n",
              "      <td>41251.537</td>\n",
              "      <td>ZYNE</td>\n",
              "      <td>Zynerba Pharmaceuticals, Inc</td>\n",
              "      <td>Com</td>\n",
              "      <td>Manufacturing</td>\n",
              "      <td>NASDAQ</td>\n",
              "      <td>Chemical</td>\n",
              "      <td>Pharmaceutical and Medicine Manufacturing</td>\n",
              "      <td>-</td>\n",
              "    </tr>\n",
              "    <tr>\n",
              "      <th>323813</th>\n",
              "      <td>ZYNE</td>\n",
              "      <td>2021q4</td>\n",
              "      <td>0.0</td>\n",
              "      <td>0.0</td>\n",
              "      <td>8.836436e+03</td>\n",
              "      <td>0.0</td>\n",
              "      <td>16.937906</td>\n",
              "      <td>-4.433</td>\n",
              "      <td>0.0</td>\n",
              "      <td>81171.507</td>\n",
              "      <td>...</td>\n",
              "      <td>2.8800</td>\n",
              "      <td>41217.537</td>\n",
              "      <td>ZYNE</td>\n",
              "      <td>Zynerba Pharmaceuticals, Inc</td>\n",
              "      <td>Com</td>\n",
              "      <td>Manufacturing</td>\n",
              "      <td>NASDAQ</td>\n",
              "      <td>Chemical</td>\n",
              "      <td>Pharmaceutical and Medicine Manufacturing</td>\n",
              "      <td>-</td>\n",
              "    </tr>\n",
              "    <tr>\n",
              "      <th>323814</th>\n",
              "      <td>ZYNE</td>\n",
              "      <td>2022q1</td>\n",
              "      <td>0.0</td>\n",
              "      <td>0.0</td>\n",
              "      <td>8.903915e+03</td>\n",
              "      <td>0.0</td>\n",
              "      <td>317.252110</td>\n",
              "      <td>-96.044</td>\n",
              "      <td>0.0</td>\n",
              "      <td>74381.029</td>\n",
              "      <td>...</td>\n",
              "      <td>2.0500</td>\n",
              "      <td>42447.037</td>\n",
              "      <td>ZYNE</td>\n",
              "      <td>Zynerba Pharmaceuticals, Inc</td>\n",
              "      <td>Com</td>\n",
              "      <td>Manufacturing</td>\n",
              "      <td>NASDAQ</td>\n",
              "      <td>Chemical</td>\n",
              "      <td>Pharmaceutical and Medicine Manufacturing</td>\n",
              "      <td>-</td>\n",
              "    </tr>\n",
              "    <tr>\n",
              "      <th>323815</th>\n",
              "      <td>ZYNE</td>\n",
              "      <td>2022q2</td>\n",
              "      <td>0.0</td>\n",
              "      <td>0.0</td>\n",
              "      <td>9.168770e+03</td>\n",
              "      <td>0.0</td>\n",
              "      <td>-775.927860</td>\n",
              "      <td>-91.691</td>\n",
              "      <td>0.0</td>\n",
              "      <td>67006.959</td>\n",
              "      <td>...</td>\n",
              "      <td>1.1400</td>\n",
              "      <td>43595.959</td>\n",
              "      <td>ZYNE</td>\n",
              "      <td>Zynerba Pharmaceuticals, Inc</td>\n",
              "      <td>Com</td>\n",
              "      <td>Manufacturing</td>\n",
              "      <td>NASDAQ</td>\n",
              "      <td>Chemical</td>\n",
              "      <td>Pharmaceutical and Medicine Manufacturing</td>\n",
              "      <td>-</td>\n",
              "    </tr>\n",
              "  </tbody>\n",
              "</table>\n",
              "<p>323816 rows × 25 columns</p>\n",
              "</div>\n",
              "      <button class=\"colab-df-convert\" onclick=\"convertToInteractive('df-0c65a6f6-a659-4f92-b723-e352043e717b')\"\n",
              "              title=\"Convert this dataframe to an interactive table.\"\n",
              "              style=\"display:none;\">\n",
              "        \n",
              "  <svg xmlns=\"http://www.w3.org/2000/svg\" height=\"24px\"viewBox=\"0 0 24 24\"\n",
              "       width=\"24px\">\n",
              "    <path d=\"M0 0h24v24H0V0z\" fill=\"none\"/>\n",
              "    <path d=\"M18.56 5.44l.94 2.06.94-2.06 2.06-.94-2.06-.94-.94-2.06-.94 2.06-2.06.94zm-11 1L8.5 8.5l.94-2.06 2.06-.94-2.06-.94L8.5 2.5l-.94 2.06-2.06.94zm10 10l.94 2.06.94-2.06 2.06-.94-2.06-.94-.94-2.06-.94 2.06-2.06.94z\"/><path d=\"M17.41 7.96l-1.37-1.37c-.4-.4-.92-.59-1.43-.59-.52 0-1.04.2-1.43.59L10.3 9.45l-7.72 7.72c-.78.78-.78 2.05 0 2.83L4 21.41c.39.39.9.59 1.41.59.51 0 1.02-.2 1.41-.59l7.78-7.78 2.81-2.81c.8-.78.8-2.07 0-2.86zM5.41 20L4 18.59l7.72-7.72 1.47 1.35L5.41 20z\"/>\n",
              "  </svg>\n",
              "      </button>\n",
              "      \n",
              "  <style>\n",
              "    .colab-df-container {\n",
              "      display:flex;\n",
              "      flex-wrap:wrap;\n",
              "      gap: 12px;\n",
              "    }\n",
              "\n",
              "    .colab-df-convert {\n",
              "      background-color: #E8F0FE;\n",
              "      border: none;\n",
              "      border-radius: 50%;\n",
              "      cursor: pointer;\n",
              "      display: none;\n",
              "      fill: #1967D2;\n",
              "      height: 32px;\n",
              "      padding: 0 0 0 0;\n",
              "      width: 32px;\n",
              "    }\n",
              "\n",
              "    .colab-df-convert:hover {\n",
              "      background-color: #E2EBFA;\n",
              "      box-shadow: 0px 1px 2px rgba(60, 64, 67, 0.3), 0px 1px 3px 1px rgba(60, 64, 67, 0.15);\n",
              "      fill: #174EA6;\n",
              "    }\n",
              "\n",
              "    [theme=dark] .colab-df-convert {\n",
              "      background-color: #3B4455;\n",
              "      fill: #D2E3FC;\n",
              "    }\n",
              "\n",
              "    [theme=dark] .colab-df-convert:hover {\n",
              "      background-color: #434B5C;\n",
              "      box-shadow: 0px 1px 3px 1px rgba(0, 0, 0, 0.15);\n",
              "      filter: drop-shadow(0px 1px 2px rgba(0, 0, 0, 0.3));\n",
              "      fill: #FFFFFF;\n",
              "    }\n",
              "  </style>\n",
              "\n",
              "      <script>\n",
              "        const buttonEl =\n",
              "          document.querySelector('#df-0c65a6f6-a659-4f92-b723-e352043e717b button.colab-df-convert');\n",
              "        buttonEl.style.display =\n",
              "          google.colab.kernel.accessAllowed ? 'block' : 'none';\n",
              "\n",
              "        async function convertToInteractive(key) {\n",
              "          const element = document.querySelector('#df-0c65a6f6-a659-4f92-b723-e352043e717b');\n",
              "          const dataTable =\n",
              "            await google.colab.kernel.invokeFunction('convertToInteractive',\n",
              "                                                     [key], {});\n",
              "          if (!dataTable) return;\n",
              "\n",
              "          const docLinkHtml = 'Like what you see? Visit the ' +\n",
              "            '<a target=\"_blank\" href=https://colab.research.google.com/notebooks/data_table.ipynb>data table notebook</a>'\n",
              "            + ' to learn more about interactive tables.';\n",
              "          element.innerHTML = '';\n",
              "          dataTable['output_type'] = 'display_data';\n",
              "          await google.colab.output.renderOutput(dataTable, element);\n",
              "          const docLink = document.createElement('div');\n",
              "          docLink.innerHTML = docLinkHtml;\n",
              "          element.appendChild(docLink);\n",
              "        }\n",
              "      </script>\n",
              "    </div>\n",
              "  </div>\n",
              "  "
            ]
          },
          "metadata": {},
          "execution_count": 6
        }
      ],
      "source": [
        "df_merge = df1.merge(df2, left_on='firm', right_on='Ticker')\n",
        "df_merge"
      ]
    },
    {
      "cell_type": "markdown",
      "source": [
        "Dropeamos los servicios que no son industriales"
      ],
      "metadata": {
        "id": "1OiOT5Ihwzue"
      }
    },
    {
      "cell_type": "code",
      "execution_count": 7,
      "metadata": {
        "id": "20NJAwhkWDja"
      },
      "outputs": [],
      "source": [
        "df2_services = df_merge.copy()\n",
        "df2_services = df2_services.drop(df2_services[(df2_services['Sector NAICS\\nlevel 1'] == 'Manufacturing')].index)\n",
        "df2_services = df2_services.drop(df2_services[(df2_services['Sector NAICS\\nlevel 1'] == 'Finance and Insurance')].index)\n",
        "df2_services = df2_services.drop(df2_services[(df2_services['Sector NAICS\\nlevel 1'] == 'Information')].index)\n",
        "df2_services = df2_services.drop(df2_services[(df2_services['Sector NAICS\\nlevel 1'] == 'Retail Trade')].index)\n",
        "df2_services = df2_services.drop(df2_services[(df2_services['Sector NAICS\\nlevel 1'] == 'Mining, Quarrying, and Oil and Gas Extraction')].index)\n",
        "df2_services = df2_services.drop(df2_services[(df2_services['Sector NAICS\\nlevel 1'] == 'Wholesale Trade')].index)\n",
        "df2_services = df2_services.drop(df2_services[(df2_services['Sector NAICS\\nlevel 1'] == 'Utilities')].index)\n",
        "df2_services = df2_services.drop(df2_services[(df2_services['Sector NAICS\\nlevel 1'] == 'Transportation and Warehousing')].index)\n",
        "df2_services = df2_services.drop(df2_services[(df2_services['Sector NAICS\\nlevel 1'] == 'Real Estate and Rental and Leasing')].index)\n",
        "df2_services = df2_services.drop(df2_services[(df2_services['Sector NAICS\\nlevel 1'] == 'Health Care and Social Assistance')].index)\n",
        "df2_services = df2_services.drop(df2_services[(df2_services['Sector NAICS\\nlevel 1'] == 'Construction')].index)\n",
        "df2_services = df2_services.drop(df2_services[(df2_services['Sector NAICS\\nlevel 1'] == 'Arts, Entertainment, and Recreation')].index)\n",
        "df2_services = df2_services.drop(df2_services[(df2_services['Sector NAICS\\nlevel 1'] == '-')].index)\n",
        "df2_services = df2_services.drop(df2_services[(df2_services['Sector NAICS\\nlevel 1'] == 'Agriculture, Forestry, Fishing and Hunting')].index)"
      ]
    },
    {
      "cell_type": "markdown",
      "source": [
        "Obtenemos las R de cada registro "
      ],
      "metadata": {
        "id": "CXewosFTxjgs"
      }
    },
    {
      "cell_type": "code",
      "execution_count": 8,
      "metadata": {
        "id": "i7M0Yv1C37gm"
      },
      "outputs": [],
      "source": [
        "df2_services['R'] = np.log(df2_services.groupby(['firm'])['adjprice'].shift(-1)) - np.log(df2_services.groupby(['firm'])['adjprice'].shift(3))"
      ]
    },
    {
      "cell_type": "markdown",
      "source": [
        "Dropeamos todos los datos, a excepcion de el ultimo cuartil"
      ],
      "metadata": {
        "id": "_Yj3fjUaxoHn"
      }
    },
    {
      "cell_type": "code",
      "execution_count": 9,
      "metadata": {
        "id": "eD8cOm_Y21p6"
      },
      "outputs": [],
      "source": [
        "df_mask = df2_services['q'] == '2022q1'\n",
        "df3 = df2_services[df_mask]"
      ]
    },
    {
      "cell_type": "markdown",
      "source": [
        "Dropeamos columnas que no se usaran en los calculos de nuestras variables independientes"
      ],
      "metadata": {
        "id": "TEekal1exwnA"
      }
    },
    {
      "cell_type": "code",
      "execution_count": 10,
      "metadata": {
        "id": "vrC1WgFSWjLE"
      },
      "outputs": [],
      "source": [
        "df3 = df3.drop(\n",
        "    [\n",
        "        'extraincome', \n",
        "        'shortdebt', \n",
        "        'longdebt', \n",
        "        'stockholderequity', \n",
        "        'Ticker', \n",
        "        'Name', \n",
        "        'Class',\n",
        "        'Exchange / Src',\n",
        "        'Sector\\nEconomatica',\n",
        "        'Sector NAICS\\nlast available',\n",
        "        'partind'\n",
        "      ],\n",
        "       axis=1)"
      ]
    },
    {
      "cell_type": "code",
      "execution_count": 11,
      "metadata": {
        "id": "mAAl2f14yO8u",
        "colab": {
          "base_uri": "https://localhost:8080/"
        },
        "outputId": "79fcdd4d-e052-4c02-df4a-bdb96ff2b4e2"
      },
      "outputs": [
        {
          "output_type": "execute_result",
          "data": {
            "text/plain": [
              "count    3.720000e+02\n",
              "mean     9.212180e+05\n",
              "std      3.942143e+06\n",
              "min      0.000000e+00\n",
              "25%      6.649075e+04\n",
              "50%      1.981825e+05\n",
              "75%      7.438012e+05\n",
              "max      6.801100e+07\n",
              "Name: revenue, dtype: float64"
            ]
          },
          "metadata": {},
          "execution_count": 11
        }
      ],
      "source": [
        "df3['revenue'].describe()"
      ]
    },
    {
      "cell_type": "markdown",
      "source": [
        "Dropeamos los nan en la variable R"
      ],
      "metadata": {
        "id": "YX4qaYJqx3UQ"
      }
    },
    {
      "cell_type": "code",
      "execution_count": 12,
      "metadata": {
        "id": "6eR6HyN2yUZV"
      },
      "outputs": [],
      "source": [
        "df_mask = df3['R'] > 0\n",
        "df3 = df3[df_mask]"
      ]
    },
    {
      "cell_type": "markdown",
      "source": [
        "Calculamos Book to market ratio, epsp y opm a partir de los datos"
      ],
      "metadata": {
        "id": "noikcDsmx6QH"
      }
    },
    {
      "cell_type": "code",
      "execution_count": 13,
      "metadata": {
        "id": "bRF_A4gUUL-N",
        "colab": {
          "base_uri": "https://localhost:8080/"
        },
        "outputId": "ca2e029e-4d5d-401c-a486-e872b2103824"
      },
      "outputs": [
        {
          "output_type": "stream",
          "name": "stderr",
          "text": [
            "/usr/local/lib/python3.7/dist-packages/ipykernel_launcher.py:1: SettingWithCopyWarning: \n",
            "A value is trying to be set on a copy of a slice from a DataFrame.\n",
            "Try using .loc[row_indexer,col_indexer] = value instead\n",
            "\n",
            "See the caveats in the documentation: https://pandas.pydata.org/pandas-docs/stable/user_guide/indexing.html#returning-a-view-versus-a-copy\n",
            "  \"\"\"Entry point for launching an IPython kernel.\n",
            "/usr/local/lib/python3.7/dist-packages/ipykernel_launcher.py:2: SettingWithCopyWarning: \n",
            "A value is trying to be set on a copy of a slice from a DataFrame.\n",
            "Try using .loc[row_indexer,col_indexer] = value instead\n",
            "\n",
            "See the caveats in the documentation: https://pandas.pydata.org/pandas-docs/stable/user_guide/indexing.html#returning-a-view-versus-a-copy\n",
            "  \n",
            "/usr/local/lib/python3.7/dist-packages/ipykernel_launcher.py:5: SettingWithCopyWarning: \n",
            "A value is trying to be set on a copy of a slice from a DataFrame.\n",
            "Try using .loc[row_indexer,col_indexer] = value instead\n",
            "\n",
            "See the caveats in the documentation: https://pandas.pydata.org/pandas-docs/stable/user_guide/indexing.html#returning-a-view-versus-a-copy\n",
            "  \"\"\"\n",
            "/usr/local/lib/python3.7/dist-packages/ipykernel_launcher.py:6: SettingWithCopyWarning: \n",
            "A value is trying to be set on a copy of a slice from a DataFrame.\n",
            "Try using .loc[row_indexer,col_indexer] = value instead\n",
            "\n",
            "See the caveats in the documentation: https://pandas.pydata.org/pandas-docs/stable/user_guide/indexing.html#returning-a-view-versus-a-copy\n",
            "  \n",
            "/usr/local/lib/python3.7/dist-packages/ipykernel_launcher.py:7: SettingWithCopyWarning: \n",
            "A value is trying to be set on a copy of a slice from a DataFrame.\n",
            "Try using .loc[row_indexer,col_indexer] = value instead\n",
            "\n",
            "See the caveats in the documentation: https://pandas.pydata.org/pandas-docs/stable/user_guide/indexing.html#returning-a-view-versus-a-copy\n",
            "  import sys\n",
            "/usr/local/lib/python3.7/dist-packages/ipykernel_launcher.py:10: SettingWithCopyWarning: \n",
            "A value is trying to be set on a copy of a slice from a DataFrame.\n",
            "Try using .loc[row_indexer,col_indexer] = value instead\n",
            "\n",
            "See the caveats in the documentation: https://pandas.pydata.org/pandas-docs/stable/user_guide/indexing.html#returning-a-view-versus-a-copy\n",
            "  # Remove the CWD from sys.path while we load stuff.\n",
            "/usr/local/lib/python3.7/dist-packages/ipykernel_launcher.py:11: SettingWithCopyWarning: \n",
            "A value is trying to be set on a copy of a slice from a DataFrame.\n",
            "Try using .loc[row_indexer,col_indexer] = value instead\n",
            "\n",
            "See the caveats in the documentation: https://pandas.pydata.org/pandas-docs/stable/user_guide/indexing.html#returning-a-view-versus-a-copy\n",
            "  # This is added back by InteractiveShellApp.init_path()\n",
            "/usr/local/lib/python3.7/dist-packages/ipykernel_launcher.py:12: SettingWithCopyWarning: \n",
            "A value is trying to be set on a copy of a slice from a DataFrame.\n",
            "Try using .loc[row_indexer,col_indexer] = value instead\n",
            "\n",
            "See the caveats in the documentation: https://pandas.pydata.org/pandas-docs/stable/user_guide/indexing.html#returning-a-view-versus-a-copy\n",
            "  if sys.path[0] == '':\n"
          ]
        }
      ],
      "source": [
        "df3['Book'] = df3['totalassets'] - df3['totalliabilities']\n",
        "df3['Market'] = df3['originalprice'] * df3['sharesoutstanding']\n",
        "\n",
        "\n",
        "df3['EBIT'] = df3['revenue'] - df3['cogs'] - df3['sgae'] - df3['otheropexp']\n",
        "df3['NetIncome'] = df3['EBIT'] - df3['incometax'] - df3['finexp']\n",
        "df3['EPS'] = df3['NetIncome'] / df3['sharesoutstanding']\n",
        "\n",
        "\n",
        "df3['EPSP'] = df3['EPS'] / df3['originalprice']\n",
        "df3['OPM'] = df3['EBIT'] / df3['revenue']\n",
        "df3['Book_to_Market_ratio'] = df3['Book'] / df3['Market']"
      ]
    },
    {
      "cell_type": "markdown",
      "source": [
        "Dropeamos los nan en las variables de OPM, EPSP Y Book_to_Market_ratio"
      ],
      "metadata": {
        "id": "oowK_brkyAfD"
      }
    },
    {
      "cell_type": "code",
      "execution_count": 14,
      "metadata": {
        "id": "BBgNkvOAxTu2",
        "colab": {
          "base_uri": "https://localhost:8080/"
        },
        "outputId": "48cbe720-a322-4d8c-d6a1-47d00e5ba77e"
      },
      "outputs": [
        {
          "output_type": "execute_result",
          "data": {
            "text/plain": [
              "count    64.000000\n",
              "mean      0.194677\n",
              "std       0.223939\n",
              "min       0.003957\n",
              "25%       0.071489\n",
              "50%       0.133235\n",
              "75%       0.269808\n",
              "max       1.591808\n",
              "Name: R, dtype: float64"
            ]
          },
          "metadata": {},
          "execution_count": 14
        }
      ],
      "source": [
        "df3['R'].describe()"
      ]
    },
    {
      "cell_type": "code",
      "execution_count": 15,
      "metadata": {
        "id": "-RugcarNtHlA"
      },
      "outputs": [],
      "source": [
        "df_mask = df3['R'] >= -5\n",
        "df_clean = df3[df_mask]"
      ]
    },
    {
      "cell_type": "code",
      "execution_count": 16,
      "metadata": {
        "id": "dqUlgYicwzlw",
        "colab": {
          "base_uri": "https://localhost:8080/"
        },
        "outputId": "12f9db3c-c146-4a55-b628-ddb84043354a"
      },
      "outputs": [
        {
          "output_type": "execute_result",
          "data": {
            "text/plain": [
              "count    64.000000\n",
              "mean      0.012926\n",
              "std       0.023902\n",
              "min      -0.029480\n",
              "25%       0.003823\n",
              "50%       0.008263\n",
              "75%       0.015408\n",
              "max       0.157480\n",
              "Name: EPSP, dtype: float64"
            ]
          },
          "metadata": {},
          "execution_count": 16
        }
      ],
      "source": [
        "df_clean['EPSP'].describe()"
      ]
    },
    {
      "cell_type": "code",
      "execution_count": 17,
      "metadata": {
        "id": "JdLd2lLXw8TG"
      },
      "outputs": [],
      "source": [
        "df_mask = df_clean['EPSP'] >= -5\n",
        "df_clean_2 = df_clean[df_mask]"
      ]
    },
    {
      "cell_type": "code",
      "execution_count": 18,
      "metadata": {
        "id": "HLre3Kh5xDbU",
        "colab": {
          "base_uri": "https://localhost:8080/"
        },
        "outputId": "59670543-7efb-4c51-dd72-76e6b8403cc6"
      },
      "outputs": [
        {
          "output_type": "execute_result",
          "data": {
            "text/plain": [
              "count    64.000000\n",
              "mean      0.302797\n",
              "std       0.250904\n",
              "min      -0.247891\n",
              "25%       0.108701\n",
              "50%       0.254069\n",
              "75%       0.425732\n",
              "max       1.119752\n",
              "Name: Book_to_Market_ratio, dtype: float64"
            ]
          },
          "metadata": {},
          "execution_count": 18
        }
      ],
      "source": [
        "df_clean_2['Book_to_Market_ratio'].describe()"
      ]
    },
    {
      "cell_type": "code",
      "execution_count": 19,
      "metadata": {
        "id": "m2J4Qv3jxM_x"
      },
      "outputs": [],
      "source": [
        "df_mask = df_clean_2['Book_to_Market_ratio'] >= -5\n",
        "df_clean_3 = df_clean_2[df_mask]"
      ]
    },
    {
      "cell_type": "code",
      "execution_count": 20,
      "metadata": {
        "id": "WhkxLtJSyEZr",
        "colab": {
          "base_uri": "https://localhost:8080/"
        },
        "outputId": "eb5b915e-e777-407c-f3d0-11f677b11f8a"
      },
      "outputs": [
        {
          "output_type": "execute_result",
          "data": {
            "text/plain": [
              "count    64.000000\n",
              "mean      0.130387\n",
              "std       0.122849\n",
              "min      -0.107435\n",
              "25%       0.046636\n",
              "50%       0.099495\n",
              "75%       0.188092\n",
              "max       0.441066\n",
              "Name: OPM, dtype: float64"
            ]
          },
          "metadata": {},
          "execution_count": 20
        }
      ],
      "source": [
        "df_clean_2['OPM'].describe()"
      ]
    },
    {
      "cell_type": "markdown",
      "source": [
        "Sorteamos los datos por mercado"
      ],
      "metadata": {
        "id": "dm3QCsLryGZG"
      }
    },
    {
      "cell_type": "code",
      "execution_count": 21,
      "metadata": {
        "id": "O6ZStNeCjnsv"
      },
      "outputs": [],
      "source": [
        "df_clean_3 = df_clean_3.sort_values(by = 'Market')"
      ]
    },
    {
      "cell_type": "code",
      "execution_count": 22,
      "metadata": {
        "id": "uKuPErAGlbXB"
      },
      "outputs": [],
      "source": [
        "df_clean_3 = df_clean_3.reset_index()\n",
        "df_clean_3 = df_clean_3.drop(['index'], axis = 1)"
      ]
    },
    {
      "cell_type": "code",
      "execution_count": 23,
      "metadata": {
        "id": "2ZhAZDF-nHiu"
      },
      "outputs": [],
      "source": [
        "df_clean_3 = df_clean_3.reset_index()"
      ]
    },
    {
      "cell_type": "markdown",
      "source": [
        "Asignamos las varuables dummys para obtener las grandes, medianas y grandes empresas"
      ],
      "metadata": {
        "id": "6bU_u5JSyJb6"
      }
    },
    {
      "cell_type": "code",
      "execution_count": 24,
      "metadata": {
        "id": "m0LgsKSOnbjs"
      },
      "outputs": [],
      "source": [
        "df_clean_3[\"isSmall\"] = df_clean_3.index <= len(df_clean_3) / 3\n",
        "df_clean_3[\"isSmall\"] = df_clean_3[\"isSmall\"].astype(int)\n",
        "\n",
        "df_clean_3[\"isMedium\"] = (df_clean_3.index <= (2 * len(df_clean_3) / 3)) & (df_clean_3.index > (len(df_clean_3) / 3))\n",
        "df_clean_3[\"isMedium\"] = df_clean_3[\"isMedium\"].astype(int)"
      ]
    },
    {
      "cell_type": "markdown",
      "source": [
        "Guardamos las variables que usaremos para el calculo matricial"
      ],
      "metadata": {
        "id": "oiaBexcGyQwN"
      }
    },
    {
      "cell_type": "code",
      "source": [
        "Variables = df_clean_3[['EPSP', 'OPM', 'Book_to_Market_ratio', 'isSmall', 'isMedium', 'R']]\n",
        "Variables_mat = Variables.cov().to_numpy()"
      ],
      "metadata": {
        "id": "1u02xXg6Ue4e"
      },
      "execution_count": 25,
      "outputs": []
    },
    {
      "cell_type": "markdown",
      "source": [
        "Dividimos las variables en 'X' y 'y'"
      ],
      "metadata": {
        "id": "E_vuf_4oyUnf"
      }
    },
    {
      "cell_type": "code",
      "execution_count": 26,
      "metadata": {
        "id": "N_wddFbmVCCC"
      },
      "outputs": [],
      "source": [
        "X = df_clean_3[['EPSP', 'OPM', 'Book_to_Market_ratio', 'isSmall', 'isMedium']]\n",
        "y = df_clean_3['R']"
      ]
    },
    {
      "cell_type": "markdown",
      "metadata": {
        "id": "pNHjRxyMF3J_"
      },
      "source": [
        "##Matriz de varianza y covarianza"
      ]
    },
    {
      "cell_type": "markdown",
      "source": [
        "Seguimos las formula del documento https://docs.google.com/viewer?a=v&pid=sites&srcid=ZWdhZGVyemMubmV0fGZ6MzAzMHxneDozOTI1ODBmMGU2YTMzZGM1\n",
        "\n",
        "Para obtener la matriz de varianza y covarianza"
      ],
      "metadata": {
        "id": "MLltYP2vybfQ"
      }
    },
    {
      "cell_type": "code",
      "execution_count": 27,
      "metadata": {
        "id": "VZMXDq9IFl0g"
      },
      "outputs": [],
      "source": [
        "X_varcov_mat = X.to_numpy()"
      ]
    },
    {
      "cell_type": "code",
      "execution_count": 28,
      "metadata": {
        "id": "43EC-vS2Ezbo"
      },
      "outputs": [],
      "source": [
        "X_varcov_trans = np.transpose(X_varcov_mat)"
      ]
    },
    {
      "cell_type": "code",
      "execution_count": 29,
      "metadata": {
        "id": "pIwjxFdAGAT8"
      },
      "outputs": [],
      "source": [
        "aux1 = np.dot(X_varcov_trans, X_varcov_mat)"
      ]
    },
    {
      "cell_type": "code",
      "execution_count": 30,
      "metadata": {
        "id": "hD63shSJF12L"
      },
      "outputs": [],
      "source": [
        "unos = np.zeros((X_varcov_trans.shape[1], 1))"
      ]
    },
    {
      "cell_type": "code",
      "execution_count": 31,
      "metadata": {
        "id": "nzrRRTI-IaG1"
      },
      "outputs": [],
      "source": [
        "unos = 1 + unos"
      ]
    },
    {
      "cell_type": "code",
      "execution_count": 32,
      "metadata": {
        "id": "8x9I_Vl0HVDJ"
      },
      "outputs": [],
      "source": [
        "aux2 = np.dot(X_varcov_trans, unos)"
      ]
    },
    {
      "cell_type": "code",
      "execution_count": 33,
      "metadata": {
        "id": "6x3vv-MeHeyq"
      },
      "outputs": [],
      "source": [
        "aux3 = np.transpose(aux2)"
      ]
    },
    {
      "cell_type": "code",
      "execution_count": 34,
      "metadata": {
        "id": "rOcNkKkGHiyI"
      },
      "outputs": [],
      "source": [
        "aux4 = np.dot(aux2, aux3)"
      ]
    },
    {
      "cell_type": "code",
      "execution_count": 35,
      "metadata": {
        "id": "VOdcGuK6Hn90"
      },
      "outputs": [],
      "source": [
        "aux5 = aux4 / X_varcov_mat.shape[0]"
      ]
    },
    {
      "cell_type": "code",
      "execution_count": 36,
      "metadata": {
        "id": "ndop8AqBInRN"
      },
      "outputs": [],
      "source": [
        "aux6 = aux1 - aux5"
      ]
    },
    {
      "cell_type": "code",
      "execution_count": 37,
      "metadata": {
        "id": "AqYktxKGIxe6"
      },
      "outputs": [],
      "source": [
        "mat_varcov = aux6 / (X_varcov_mat.shape[0] - 1)"
      ]
    },
    {
      "cell_type": "code",
      "execution_count": 38,
      "metadata": {
        "colab": {
          "base_uri": "https://localhost:8080/"
        },
        "id": "KSCkO4SYI6hd",
        "outputId": "006685d4-d3c4-45ba-f01d-b3a5bf1d4c32"
      },
      "outputs": [
        {
          "output_type": "execute_result",
          "data": {
            "text/plain": [
              "array([[ 0.00057129,  0.00110538, -0.00087653,  0.0005751 ,  0.000365  ],\n",
              "       [ 0.00110538,  0.01509194, -0.01598234, -0.02142199, -0.00162864],\n",
              "       [-0.00087653, -0.01598234,  0.06295262,  0.03482429,  0.02106378],\n",
              "       [ 0.0005751 , -0.02142199,  0.03482429,  0.22916667, -0.11458333],\n",
              "       [ 0.000365  , -0.00162864,  0.02106378, -0.11458333,  0.22395833]])"
            ]
          },
          "metadata": {},
          "execution_count": 38
        }
      ],
      "source": [
        "mat_varcov"
      ]
    },
    {
      "cell_type": "code",
      "execution_count": 39,
      "metadata": {
        "id": "ozyBFf5dKLwR"
      },
      "outputs": [],
      "source": [
        "mat = pd.DataFrame(mat_varcov)"
      ]
    },
    {
      "cell_type": "code",
      "execution_count": 40,
      "metadata": {
        "colab": {
          "base_uri": "https://localhost:8080/",
          "height": 206
        },
        "id": "kvxoPxXzKap7",
        "outputId": "9a2b69ba-f7d1-40ab-edf2-305a72afd586"
      },
      "outputs": [
        {
          "output_type": "execute_result",
          "data": {
            "text/plain": [
              "          0         1         2         3         4\n",
              "0  0.000571  0.001105 -0.000877  0.000575  0.000365\n",
              "1  0.001105  0.015092 -0.015982 -0.021422 -0.001629\n",
              "2 -0.000877 -0.015982  0.062953  0.034824  0.021064\n",
              "3  0.000575 -0.021422  0.034824  0.229167 -0.114583\n",
              "4  0.000365 -0.001629  0.021064 -0.114583  0.223958"
            ],
            "text/html": [
              "\n",
              "  <div id=\"df-c00c30df-fa25-44fd-a1db-50f1105d9868\">\n",
              "    <div class=\"colab-df-container\">\n",
              "      <div>\n",
              "<style scoped>\n",
              "    .dataframe tbody tr th:only-of-type {\n",
              "        vertical-align: middle;\n",
              "    }\n",
              "\n",
              "    .dataframe tbody tr th {\n",
              "        vertical-align: top;\n",
              "    }\n",
              "\n",
              "    .dataframe thead th {\n",
              "        text-align: right;\n",
              "    }\n",
              "</style>\n",
              "<table border=\"1\" class=\"dataframe\">\n",
              "  <thead>\n",
              "    <tr style=\"text-align: right;\">\n",
              "      <th></th>\n",
              "      <th>0</th>\n",
              "      <th>1</th>\n",
              "      <th>2</th>\n",
              "      <th>3</th>\n",
              "      <th>4</th>\n",
              "    </tr>\n",
              "  </thead>\n",
              "  <tbody>\n",
              "    <tr>\n",
              "      <th>0</th>\n",
              "      <td>0.000571</td>\n",
              "      <td>0.001105</td>\n",
              "      <td>-0.000877</td>\n",
              "      <td>0.000575</td>\n",
              "      <td>0.000365</td>\n",
              "    </tr>\n",
              "    <tr>\n",
              "      <th>1</th>\n",
              "      <td>0.001105</td>\n",
              "      <td>0.015092</td>\n",
              "      <td>-0.015982</td>\n",
              "      <td>-0.021422</td>\n",
              "      <td>-0.001629</td>\n",
              "    </tr>\n",
              "    <tr>\n",
              "      <th>2</th>\n",
              "      <td>-0.000877</td>\n",
              "      <td>-0.015982</td>\n",
              "      <td>0.062953</td>\n",
              "      <td>0.034824</td>\n",
              "      <td>0.021064</td>\n",
              "    </tr>\n",
              "    <tr>\n",
              "      <th>3</th>\n",
              "      <td>0.000575</td>\n",
              "      <td>-0.021422</td>\n",
              "      <td>0.034824</td>\n",
              "      <td>0.229167</td>\n",
              "      <td>-0.114583</td>\n",
              "    </tr>\n",
              "    <tr>\n",
              "      <th>4</th>\n",
              "      <td>0.000365</td>\n",
              "      <td>-0.001629</td>\n",
              "      <td>0.021064</td>\n",
              "      <td>-0.114583</td>\n",
              "      <td>0.223958</td>\n",
              "    </tr>\n",
              "  </tbody>\n",
              "</table>\n",
              "</div>\n",
              "      <button class=\"colab-df-convert\" onclick=\"convertToInteractive('df-c00c30df-fa25-44fd-a1db-50f1105d9868')\"\n",
              "              title=\"Convert this dataframe to an interactive table.\"\n",
              "              style=\"display:none;\">\n",
              "        \n",
              "  <svg xmlns=\"http://www.w3.org/2000/svg\" height=\"24px\"viewBox=\"0 0 24 24\"\n",
              "       width=\"24px\">\n",
              "    <path d=\"M0 0h24v24H0V0z\" fill=\"none\"/>\n",
              "    <path d=\"M18.56 5.44l.94 2.06.94-2.06 2.06-.94-2.06-.94-.94-2.06-.94 2.06-2.06.94zm-11 1L8.5 8.5l.94-2.06 2.06-.94-2.06-.94L8.5 2.5l-.94 2.06-2.06.94zm10 10l.94 2.06.94-2.06 2.06-.94-2.06-.94-.94-2.06-.94 2.06-2.06.94z\"/><path d=\"M17.41 7.96l-1.37-1.37c-.4-.4-.92-.59-1.43-.59-.52 0-1.04.2-1.43.59L10.3 9.45l-7.72 7.72c-.78.78-.78 2.05 0 2.83L4 21.41c.39.39.9.59 1.41.59.51 0 1.02-.2 1.41-.59l7.78-7.78 2.81-2.81c.8-.78.8-2.07 0-2.86zM5.41 20L4 18.59l7.72-7.72 1.47 1.35L5.41 20z\"/>\n",
              "  </svg>\n",
              "      </button>\n",
              "      \n",
              "  <style>\n",
              "    .colab-df-container {\n",
              "      display:flex;\n",
              "      flex-wrap:wrap;\n",
              "      gap: 12px;\n",
              "    }\n",
              "\n",
              "    .colab-df-convert {\n",
              "      background-color: #E8F0FE;\n",
              "      border: none;\n",
              "      border-radius: 50%;\n",
              "      cursor: pointer;\n",
              "      display: none;\n",
              "      fill: #1967D2;\n",
              "      height: 32px;\n",
              "      padding: 0 0 0 0;\n",
              "      width: 32px;\n",
              "    }\n",
              "\n",
              "    .colab-df-convert:hover {\n",
              "      background-color: #E2EBFA;\n",
              "      box-shadow: 0px 1px 2px rgba(60, 64, 67, 0.3), 0px 1px 3px 1px rgba(60, 64, 67, 0.15);\n",
              "      fill: #174EA6;\n",
              "    }\n",
              "\n",
              "    [theme=dark] .colab-df-convert {\n",
              "      background-color: #3B4455;\n",
              "      fill: #D2E3FC;\n",
              "    }\n",
              "\n",
              "    [theme=dark] .colab-df-convert:hover {\n",
              "      background-color: #434B5C;\n",
              "      box-shadow: 0px 1px 3px 1px rgba(0, 0, 0, 0.15);\n",
              "      filter: drop-shadow(0px 1px 2px rgba(0, 0, 0, 0.3));\n",
              "      fill: #FFFFFF;\n",
              "    }\n",
              "  </style>\n",
              "\n",
              "      <script>\n",
              "        const buttonEl =\n",
              "          document.querySelector('#df-c00c30df-fa25-44fd-a1db-50f1105d9868 button.colab-df-convert');\n",
              "        buttonEl.style.display =\n",
              "          google.colab.kernel.accessAllowed ? 'block' : 'none';\n",
              "\n",
              "        async function convertToInteractive(key) {\n",
              "          const element = document.querySelector('#df-c00c30df-fa25-44fd-a1db-50f1105d9868');\n",
              "          const dataTable =\n",
              "            await google.colab.kernel.invokeFunction('convertToInteractive',\n",
              "                                                     [key], {});\n",
              "          if (!dataTable) return;\n",
              "\n",
              "          const docLinkHtml = 'Like what you see? Visit the ' +\n",
              "            '<a target=\"_blank\" href=https://colab.research.google.com/notebooks/data_table.ipynb>data table notebook</a>'\n",
              "            + ' to learn more about interactive tables.';\n",
              "          element.innerHTML = '';\n",
              "          dataTable['output_type'] = 'display_data';\n",
              "          await google.colab.output.renderOutput(dataTable, element);\n",
              "          const docLink = document.createElement('div');\n",
              "          docLink.innerHTML = docLinkHtml;\n",
              "          element.appendChild(docLink);\n",
              "        }\n",
              "      </script>\n",
              "    </div>\n",
              "  </div>\n",
              "  "
            ]
          },
          "metadata": {},
          "execution_count": 40
        }
      ],
      "source": [
        "mat"
      ]
    },
    {
      "cell_type": "code",
      "execution_count": 41,
      "metadata": {
        "colab": {
          "base_uri": "https://localhost:8080/",
          "height": 206
        },
        "id": "tQDvOgSfKeB7",
        "outputId": "a5b10d3b-6e59-4e9c-9dd6-337ed058bdf3"
      },
      "outputs": [
        {
          "output_type": "execute_result",
          "data": {
            "text/plain": [
              "                          EPSP       OPM  Book_to_Market_ratio   isSmall  \\\n",
              "EPSP                  0.000571  0.001105             -0.000877  0.000575   \n",
              "OPM                   0.001105  0.015092             -0.015982 -0.021422   \n",
              "Book_to_Market_ratio -0.000877 -0.015982              0.062953  0.034824   \n",
              "isSmall               0.000575 -0.021422              0.034824  0.229167   \n",
              "isMedium              0.000365 -0.001629              0.021064 -0.114583   \n",
              "\n",
              "                      isMedium  \n",
              "EPSP                  0.000365  \n",
              "OPM                  -0.001629  \n",
              "Book_to_Market_ratio  0.021064  \n",
              "isSmall              -0.114583  \n",
              "isMedium              0.223958  "
            ],
            "text/html": [
              "\n",
              "  <div id=\"df-144dd24a-b9fb-4c3f-9de5-47afa5fabe47\">\n",
              "    <div class=\"colab-df-container\">\n",
              "      <div>\n",
              "<style scoped>\n",
              "    .dataframe tbody tr th:only-of-type {\n",
              "        vertical-align: middle;\n",
              "    }\n",
              "\n",
              "    .dataframe tbody tr th {\n",
              "        vertical-align: top;\n",
              "    }\n",
              "\n",
              "    .dataframe thead th {\n",
              "        text-align: right;\n",
              "    }\n",
              "</style>\n",
              "<table border=\"1\" class=\"dataframe\">\n",
              "  <thead>\n",
              "    <tr style=\"text-align: right;\">\n",
              "      <th></th>\n",
              "      <th>EPSP</th>\n",
              "      <th>OPM</th>\n",
              "      <th>Book_to_Market_ratio</th>\n",
              "      <th>isSmall</th>\n",
              "      <th>isMedium</th>\n",
              "    </tr>\n",
              "  </thead>\n",
              "  <tbody>\n",
              "    <tr>\n",
              "      <th>EPSP</th>\n",
              "      <td>0.000571</td>\n",
              "      <td>0.001105</td>\n",
              "      <td>-0.000877</td>\n",
              "      <td>0.000575</td>\n",
              "      <td>0.000365</td>\n",
              "    </tr>\n",
              "    <tr>\n",
              "      <th>OPM</th>\n",
              "      <td>0.001105</td>\n",
              "      <td>0.015092</td>\n",
              "      <td>-0.015982</td>\n",
              "      <td>-0.021422</td>\n",
              "      <td>-0.001629</td>\n",
              "    </tr>\n",
              "    <tr>\n",
              "      <th>Book_to_Market_ratio</th>\n",
              "      <td>-0.000877</td>\n",
              "      <td>-0.015982</td>\n",
              "      <td>0.062953</td>\n",
              "      <td>0.034824</td>\n",
              "      <td>0.021064</td>\n",
              "    </tr>\n",
              "    <tr>\n",
              "      <th>isSmall</th>\n",
              "      <td>0.000575</td>\n",
              "      <td>-0.021422</td>\n",
              "      <td>0.034824</td>\n",
              "      <td>0.229167</td>\n",
              "      <td>-0.114583</td>\n",
              "    </tr>\n",
              "    <tr>\n",
              "      <th>isMedium</th>\n",
              "      <td>0.000365</td>\n",
              "      <td>-0.001629</td>\n",
              "      <td>0.021064</td>\n",
              "      <td>-0.114583</td>\n",
              "      <td>0.223958</td>\n",
              "    </tr>\n",
              "  </tbody>\n",
              "</table>\n",
              "</div>\n",
              "      <button class=\"colab-df-convert\" onclick=\"convertToInteractive('df-144dd24a-b9fb-4c3f-9de5-47afa5fabe47')\"\n",
              "              title=\"Convert this dataframe to an interactive table.\"\n",
              "              style=\"display:none;\">\n",
              "        \n",
              "  <svg xmlns=\"http://www.w3.org/2000/svg\" height=\"24px\"viewBox=\"0 0 24 24\"\n",
              "       width=\"24px\">\n",
              "    <path d=\"M0 0h24v24H0V0z\" fill=\"none\"/>\n",
              "    <path d=\"M18.56 5.44l.94 2.06.94-2.06 2.06-.94-2.06-.94-.94-2.06-.94 2.06-2.06.94zm-11 1L8.5 8.5l.94-2.06 2.06-.94-2.06-.94L8.5 2.5l-.94 2.06-2.06.94zm10 10l.94 2.06.94-2.06 2.06-.94-2.06-.94-.94-2.06-.94 2.06-2.06.94z\"/><path d=\"M17.41 7.96l-1.37-1.37c-.4-.4-.92-.59-1.43-.59-.52 0-1.04.2-1.43.59L10.3 9.45l-7.72 7.72c-.78.78-.78 2.05 0 2.83L4 21.41c.39.39.9.59 1.41.59.51 0 1.02-.2 1.41-.59l7.78-7.78 2.81-2.81c.8-.78.8-2.07 0-2.86zM5.41 20L4 18.59l7.72-7.72 1.47 1.35L5.41 20z\"/>\n",
              "  </svg>\n",
              "      </button>\n",
              "      \n",
              "  <style>\n",
              "    .colab-df-container {\n",
              "      display:flex;\n",
              "      flex-wrap:wrap;\n",
              "      gap: 12px;\n",
              "    }\n",
              "\n",
              "    .colab-df-convert {\n",
              "      background-color: #E8F0FE;\n",
              "      border: none;\n",
              "      border-radius: 50%;\n",
              "      cursor: pointer;\n",
              "      display: none;\n",
              "      fill: #1967D2;\n",
              "      height: 32px;\n",
              "      padding: 0 0 0 0;\n",
              "      width: 32px;\n",
              "    }\n",
              "\n",
              "    .colab-df-convert:hover {\n",
              "      background-color: #E2EBFA;\n",
              "      box-shadow: 0px 1px 2px rgba(60, 64, 67, 0.3), 0px 1px 3px 1px rgba(60, 64, 67, 0.15);\n",
              "      fill: #174EA6;\n",
              "    }\n",
              "\n",
              "    [theme=dark] .colab-df-convert {\n",
              "      background-color: #3B4455;\n",
              "      fill: #D2E3FC;\n",
              "    }\n",
              "\n",
              "    [theme=dark] .colab-df-convert:hover {\n",
              "      background-color: #434B5C;\n",
              "      box-shadow: 0px 1px 3px 1px rgba(0, 0, 0, 0.15);\n",
              "      filter: drop-shadow(0px 1px 2px rgba(0, 0, 0, 0.3));\n",
              "      fill: #FFFFFF;\n",
              "    }\n",
              "  </style>\n",
              "\n",
              "      <script>\n",
              "        const buttonEl =\n",
              "          document.querySelector('#df-144dd24a-b9fb-4c3f-9de5-47afa5fabe47 button.colab-df-convert');\n",
              "        buttonEl.style.display =\n",
              "          google.colab.kernel.accessAllowed ? 'block' : 'none';\n",
              "\n",
              "        async function convertToInteractive(key) {\n",
              "          const element = document.querySelector('#df-144dd24a-b9fb-4c3f-9de5-47afa5fabe47');\n",
              "          const dataTable =\n",
              "            await google.colab.kernel.invokeFunction('convertToInteractive',\n",
              "                                                     [key], {});\n",
              "          if (!dataTable) return;\n",
              "\n",
              "          const docLinkHtml = 'Like what you see? Visit the ' +\n",
              "            '<a target=\"_blank\" href=https://colab.research.google.com/notebooks/data_table.ipynb>data table notebook</a>'\n",
              "            + ' to learn more about interactive tables.';\n",
              "          element.innerHTML = '';\n",
              "          dataTable['output_type'] = 'display_data';\n",
              "          await google.colab.output.renderOutput(dataTable, element);\n",
              "          const docLink = document.createElement('div');\n",
              "          docLink.innerHTML = docLinkHtml;\n",
              "          element.appendChild(docLink);\n",
              "        }\n",
              "      </script>\n",
              "    </div>\n",
              "  </div>\n",
              "  "
            ]
          },
          "metadata": {},
          "execution_count": 41
        }
      ],
      "source": [
        "X.cov()"
      ]
    },
    {
      "cell_type": "markdown",
      "metadata": {
        "id": "QK9eTltRLO9N"
      },
      "source": [
        "Comprobamos que las varianzas son iguales en nuestro calculo y lo obtenido por medio de pandas, por lo que la matriz es correcta"
      ]
    },
    {
      "cell_type": "markdown",
      "metadata": {
        "id": "TPgsyy8HDkuS"
      },
      "source": [
        "##Matriz de correlaciones\n"
      ]
    },
    {
      "cell_type": "markdown",
      "source": [
        "Seguimos la formula de correlacion obtenida a base de los standar deviations y la matriz de varianza y covarianza"
      ],
      "metadata": {
        "id": "gg25H3Oey0fx"
      }
    },
    {
      "cell_type": "code",
      "source": [
        "var = np.diagonal(mat_varcov)"
      ],
      "metadata": {
        "id": "IhJIblSPY4_6"
      },
      "execution_count": 42,
      "outputs": []
    },
    {
      "cell_type": "code",
      "source": [
        "stdr_dev = np.sqrt(var)"
      ],
      "metadata": {
        "id": "WS0IMN6BZFBY"
      },
      "execution_count": 43,
      "outputs": []
    },
    {
      "cell_type": "code",
      "source": [
        "stdr_dev"
      ],
      "metadata": {
        "colab": {
          "base_uri": "https://localhost:8080/"
        },
        "id": "ImbCGUwRZLi6",
        "outputId": "aa571a26-8adb-48e1-b612-4c6b426c6d3e"
      },
      "execution_count": 44,
      "outputs": [
        {
          "output_type": "execute_result",
          "data": {
            "text/plain": [
              "array([0.02390169, 0.12284925, 0.2509036 , 0.47871355, 0.47324236])"
            ]
          },
          "metadata": {},
          "execution_count": 44
        }
      ]
    },
    {
      "cell_type": "code",
      "source": [
        "ya_no_se = [[ 0 for y in range( len(stdr_dev) ) ] for x in range( len(stdr_dev) )]\n",
        "for i in range(len(stdr_dev)):\n",
        "  for j in range(len(stdr_dev)):\n",
        "    ya_no_se[i][j] = stdr_dev[i] * stdr_dev[j]"
      ],
      "metadata": {
        "id": "d21ZLT_gdyUQ"
      },
      "execution_count": 45,
      "outputs": []
    },
    {
      "cell_type": "code",
      "source": [
        "corr = [[ 0 for y in range( len(ya_no_se) ) ] for x in range( len(ya_no_se) )]\n",
        "for i in range(len(ya_no_se)):\n",
        "  for j in range(len(ya_no_se)):\n",
        "    corr[i][j] = mat_varcov[i][j] / ya_no_se[i][j]"
      ],
      "metadata": {
        "id": "nWtlb9HseL_Z"
      },
      "execution_count": 47,
      "outputs": []
    },
    {
      "cell_type": "code",
      "source": [
        "corr"
      ],
      "metadata": {
        "colab": {
          "base_uri": "https://localhost:8080/"
        },
        "id": "_oTyv5LzefSM",
        "outputId": "2980ae51-1e72-4d2c-ebaa-9f725b021cf4"
      },
      "execution_count": 48,
      "outputs": [
        {
          "output_type": "execute_result",
          "data": {
            "text/plain": [
              "[[0.9999999999999998,\n",
              "  0.3764513838918727,\n",
              "  -0.14616089228811677,\n",
              "  0.0502615792665872,\n",
              "  0.032268836110310326],\n",
              " [0.3764513838918727,\n",
              "  0.9999999999999999,\n",
              "  -0.5185143922484545,\n",
              "  -0.3642600879871348,\n",
              "  -0.028013613157682502],\n",
              " [-0.14616089228811677,\n",
              "  -0.5185143922484545,\n",
              "  1.0000000000000002,\n",
              "  0.2899343236215871,\n",
              "  0.1773967997169645],\n",
              " [0.0502615792665872,\n",
              "  -0.3642600879871348,\n",
              "  0.2899343236215871,\n",
              "  1.0,\n",
              "  -0.5057805388588731],\n",
              " [0.032268836110310326,\n",
              "  -0.028013613157682502,\n",
              "  0.1773967997169645,\n",
              "  -0.5057805388588731,\n",
              "  1.0]]"
            ]
          },
          "metadata": {},
          "execution_count": 48
        }
      ]
    },
    {
      "cell_type": "code",
      "source": [
        "X.corr()"
      ],
      "metadata": {
        "colab": {
          "base_uri": "https://localhost:8080/",
          "height": 206
        },
        "id": "IyhmCBODehM2",
        "outputId": "f91dc327-98a1-437e-ce0d-f05864e14b93"
      },
      "execution_count": 49,
      "outputs": [
        {
          "output_type": "execute_result",
          "data": {
            "text/plain": [
              "                          EPSP       OPM  Book_to_Market_ratio   isSmall  \\\n",
              "EPSP                  1.000000  0.376451             -0.146161  0.050262   \n",
              "OPM                   0.376451  1.000000             -0.518514 -0.364260   \n",
              "Book_to_Market_ratio -0.146161 -0.518514              1.000000  0.289934   \n",
              "isSmall               0.050262 -0.364260              0.289934  1.000000   \n",
              "isMedium              0.032269 -0.028014              0.177397 -0.505781   \n",
              "\n",
              "                      isMedium  \n",
              "EPSP                  0.032269  \n",
              "OPM                  -0.028014  \n",
              "Book_to_Market_ratio  0.177397  \n",
              "isSmall              -0.505781  \n",
              "isMedium              1.000000  "
            ],
            "text/html": [
              "\n",
              "  <div id=\"df-c6724fa1-812e-45df-a699-2694a0d744dc\">\n",
              "    <div class=\"colab-df-container\">\n",
              "      <div>\n",
              "<style scoped>\n",
              "    .dataframe tbody tr th:only-of-type {\n",
              "        vertical-align: middle;\n",
              "    }\n",
              "\n",
              "    .dataframe tbody tr th {\n",
              "        vertical-align: top;\n",
              "    }\n",
              "\n",
              "    .dataframe thead th {\n",
              "        text-align: right;\n",
              "    }\n",
              "</style>\n",
              "<table border=\"1\" class=\"dataframe\">\n",
              "  <thead>\n",
              "    <tr style=\"text-align: right;\">\n",
              "      <th></th>\n",
              "      <th>EPSP</th>\n",
              "      <th>OPM</th>\n",
              "      <th>Book_to_Market_ratio</th>\n",
              "      <th>isSmall</th>\n",
              "      <th>isMedium</th>\n",
              "    </tr>\n",
              "  </thead>\n",
              "  <tbody>\n",
              "    <tr>\n",
              "      <th>EPSP</th>\n",
              "      <td>1.000000</td>\n",
              "      <td>0.376451</td>\n",
              "      <td>-0.146161</td>\n",
              "      <td>0.050262</td>\n",
              "      <td>0.032269</td>\n",
              "    </tr>\n",
              "    <tr>\n",
              "      <th>OPM</th>\n",
              "      <td>0.376451</td>\n",
              "      <td>1.000000</td>\n",
              "      <td>-0.518514</td>\n",
              "      <td>-0.364260</td>\n",
              "      <td>-0.028014</td>\n",
              "    </tr>\n",
              "    <tr>\n",
              "      <th>Book_to_Market_ratio</th>\n",
              "      <td>-0.146161</td>\n",
              "      <td>-0.518514</td>\n",
              "      <td>1.000000</td>\n",
              "      <td>0.289934</td>\n",
              "      <td>0.177397</td>\n",
              "    </tr>\n",
              "    <tr>\n",
              "      <th>isSmall</th>\n",
              "      <td>0.050262</td>\n",
              "      <td>-0.364260</td>\n",
              "      <td>0.289934</td>\n",
              "      <td>1.000000</td>\n",
              "      <td>-0.505781</td>\n",
              "    </tr>\n",
              "    <tr>\n",
              "      <th>isMedium</th>\n",
              "      <td>0.032269</td>\n",
              "      <td>-0.028014</td>\n",
              "      <td>0.177397</td>\n",
              "      <td>-0.505781</td>\n",
              "      <td>1.000000</td>\n",
              "    </tr>\n",
              "  </tbody>\n",
              "</table>\n",
              "</div>\n",
              "      <button class=\"colab-df-convert\" onclick=\"convertToInteractive('df-c6724fa1-812e-45df-a699-2694a0d744dc')\"\n",
              "              title=\"Convert this dataframe to an interactive table.\"\n",
              "              style=\"display:none;\">\n",
              "        \n",
              "  <svg xmlns=\"http://www.w3.org/2000/svg\" height=\"24px\"viewBox=\"0 0 24 24\"\n",
              "       width=\"24px\">\n",
              "    <path d=\"M0 0h24v24H0V0z\" fill=\"none\"/>\n",
              "    <path d=\"M18.56 5.44l.94 2.06.94-2.06 2.06-.94-2.06-.94-.94-2.06-.94 2.06-2.06.94zm-11 1L8.5 8.5l.94-2.06 2.06-.94-2.06-.94L8.5 2.5l-.94 2.06-2.06.94zm10 10l.94 2.06.94-2.06 2.06-.94-2.06-.94-.94-2.06-.94 2.06-2.06.94z\"/><path d=\"M17.41 7.96l-1.37-1.37c-.4-.4-.92-.59-1.43-.59-.52 0-1.04.2-1.43.59L10.3 9.45l-7.72 7.72c-.78.78-.78 2.05 0 2.83L4 21.41c.39.39.9.59 1.41.59.51 0 1.02-.2 1.41-.59l7.78-7.78 2.81-2.81c.8-.78.8-2.07 0-2.86zM5.41 20L4 18.59l7.72-7.72 1.47 1.35L5.41 20z\"/>\n",
              "  </svg>\n",
              "      </button>\n",
              "      \n",
              "  <style>\n",
              "    .colab-df-container {\n",
              "      display:flex;\n",
              "      flex-wrap:wrap;\n",
              "      gap: 12px;\n",
              "    }\n",
              "\n",
              "    .colab-df-convert {\n",
              "      background-color: #E8F0FE;\n",
              "      border: none;\n",
              "      border-radius: 50%;\n",
              "      cursor: pointer;\n",
              "      display: none;\n",
              "      fill: #1967D2;\n",
              "      height: 32px;\n",
              "      padding: 0 0 0 0;\n",
              "      width: 32px;\n",
              "    }\n",
              "\n",
              "    .colab-df-convert:hover {\n",
              "      background-color: #E2EBFA;\n",
              "      box-shadow: 0px 1px 2px rgba(60, 64, 67, 0.3), 0px 1px 3px 1px rgba(60, 64, 67, 0.15);\n",
              "      fill: #174EA6;\n",
              "    }\n",
              "\n",
              "    [theme=dark] .colab-df-convert {\n",
              "      background-color: #3B4455;\n",
              "      fill: #D2E3FC;\n",
              "    }\n",
              "\n",
              "    [theme=dark] .colab-df-convert:hover {\n",
              "      background-color: #434B5C;\n",
              "      box-shadow: 0px 1px 3px 1px rgba(0, 0, 0, 0.15);\n",
              "      filter: drop-shadow(0px 1px 2px rgba(0, 0, 0, 0.3));\n",
              "      fill: #FFFFFF;\n",
              "    }\n",
              "  </style>\n",
              "\n",
              "      <script>\n",
              "        const buttonEl =\n",
              "          document.querySelector('#df-c6724fa1-812e-45df-a699-2694a0d744dc button.colab-df-convert');\n",
              "        buttonEl.style.display =\n",
              "          google.colab.kernel.accessAllowed ? 'block' : 'none';\n",
              "\n",
              "        async function convertToInteractive(key) {\n",
              "          const element = document.querySelector('#df-c6724fa1-812e-45df-a699-2694a0d744dc');\n",
              "          const dataTable =\n",
              "            await google.colab.kernel.invokeFunction('convertToInteractive',\n",
              "                                                     [key], {});\n",
              "          if (!dataTable) return;\n",
              "\n",
              "          const docLinkHtml = 'Like what you see? Visit the ' +\n",
              "            '<a target=\"_blank\" href=https://colab.research.google.com/notebooks/data_table.ipynb>data table notebook</a>'\n",
              "            + ' to learn more about interactive tables.';\n",
              "          element.innerHTML = '';\n",
              "          dataTable['output_type'] = 'display_data';\n",
              "          await google.colab.output.renderOutput(dataTable, element);\n",
              "          const docLink = document.createElement('div');\n",
              "          docLink.innerHTML = docLinkHtml;\n",
              "          element.appendChild(docLink);\n",
              "        }\n",
              "      </script>\n",
              "    </div>\n",
              "  </div>\n",
              "  "
            ]
          },
          "metadata": {},
          "execution_count": 49
        }
      ]
    },
    {
      "cell_type": "markdown",
      "source": [
        "Comprobamos que las correlaciones son iguales en nuestro calculo y lo obtenido por medio de pandas, por lo que la matriz es correcta"
      ],
      "metadata": {
        "id": "74_QNy3ZzBcO"
      }
    },
    {
      "cell_type": "markdown",
      "metadata": {
        "id": "Z-8JqdakJ09d"
      },
      "source": [
        "##Betas"
      ]
    },
    {
      "cell_type": "markdown",
      "source": [
        "Seguimos la siguiente formula para obtener las betas "
      ],
      "metadata": {
        "id": "ufDF_6EQzKaa"
      }
    },
    {
      "cell_type": "markdown",
      "metadata": {
        "id": "o6DZsu63sKgb"
      },
      "source": [
        "Primer valor de x son 1\n",
        "\n",
        "x´ es x transpuesta\n",
        "\n",
        "x^1 es x inversa\n",
        "\n",
        "(x´x)^-1x´y"
      ]
    },
    {
      "cell_type": "code",
      "execution_count": 50,
      "metadata": {
        "colab": {
          "base_uri": "https://localhost:8080/"
        },
        "id": "COGMR43etr4Q",
        "outputId": "8214e8ca-2140-4174-b37b-14f7a736a450"
      },
      "outputs": [
        {
          "output_type": "stream",
          "name": "stderr",
          "text": [
            "/usr/local/lib/python3.7/dist-packages/ipykernel_launcher.py:1: SettingWithCopyWarning: \n",
            "A value is trying to be set on a copy of a slice from a DataFrame.\n",
            "Try using .loc[row_indexer,col_indexer] = value instead\n",
            "\n",
            "See the caveats in the documentation: https://pandas.pydata.org/pandas-docs/stable/user_guide/indexing.html#returning-a-view-versus-a-copy\n",
            "  \"\"\"Entry point for launching an IPython kernel.\n"
          ]
        }
      ],
      "source": [
        "X['1'] = 1"
      ]
    },
    {
      "cell_type": "code",
      "execution_count": 51,
      "metadata": {
        "id": "2a0AZ1aXujfd"
      },
      "outputs": [],
      "source": [
        "X = X[['1', 'isSmall', 'isMedium', 'EPSP', 'OPM', 'Book_to_Market_ratio']]"
      ]
    },
    {
      "cell_type": "code",
      "execution_count": 52,
      "metadata": {
        "id": "ZPuQ8e4pwW68"
      },
      "outputs": [],
      "source": [
        "X_mat = X.to_numpy()"
      ]
    },
    {
      "cell_type": "code",
      "execution_count": 53,
      "metadata": {
        "id": "q1-AZl_ovTXw"
      },
      "outputs": [],
      "source": [
        "X_t = np.transpose(X_mat)"
      ]
    },
    {
      "cell_type": "code",
      "execution_count": 54,
      "metadata": {
        "id": "IFIykS01zM3K"
      },
      "outputs": [],
      "source": [
        "X_sqr = np.dot(X_t, X_mat)"
      ]
    },
    {
      "cell_type": "code",
      "execution_count": 55,
      "metadata": {
        "id": "hPJgNpl5zIxg"
      },
      "outputs": [],
      "source": [
        "X_inv = np.linalg.inv(X_sqr)"
      ]
    },
    {
      "cell_type": "code",
      "execution_count": 56,
      "metadata": {
        "id": "lr_hx_M5zZXE"
      },
      "outputs": [],
      "source": [
        "aux = np.dot(X_inv, X_t)"
      ]
    },
    {
      "cell_type": "code",
      "execution_count": 57,
      "metadata": {
        "id": "tlZysBt6zqcJ"
      },
      "outputs": [],
      "source": [
        "B = np.dot(aux, y)"
      ]
    },
    {
      "cell_type": "code",
      "execution_count": 58,
      "metadata": {
        "colab": {
          "base_uri": "https://localhost:8080/"
        },
        "id": "OTsgOD4KOZM8",
        "outputId": "79c29d27-f9d3-4e24-e910-4913e32dacac"
      },
      "outputs": [
        {
          "output_type": "execute_result",
          "data": {
            "text/plain": [
              "array([ 0.15918545,  0.0977592 ,  0.00468293,  3.33957089, -0.31871804,\n",
              "       -0.00416607])"
            ]
          },
          "metadata": {},
          "execution_count": 58
        }
      ],
      "source": [
        "B"
      ]
    },
    {
      "cell_type": "markdown",
      "source": [
        "###Comprobación"
      ],
      "metadata": {
        "id": "PkIiOvS2yqH7"
      }
    },
    {
      "cell_type": "code",
      "source": [
        "import statsmodels.api as sm\n",
        "import statsmodels.formula.api as smf"
      ],
      "metadata": {
        "id": "JKb3MJUxyFPo"
      },
      "execution_count": 59,
      "outputs": []
    },
    {
      "cell_type": "code",
      "source": [
        "mod = smf.ols('R ~ isSmall + isMedium + EPSP + OPM + Book_to_Market_ratio', data = df_clean_3).fit()\n",
        "\n",
        "print(mod.summary())"
      ],
      "metadata": {
        "colab": {
          "base_uri": "https://localhost:8080/"
        },
        "id": "MrKWH1NSx7qP",
        "outputId": "820ac6e2-f046-4d68-b239-997acffd93f8"
      },
      "execution_count": 60,
      "outputs": [
        {
          "output_type": "stream",
          "name": "stdout",
          "text": [
            "                            OLS Regression Results                            \n",
            "==============================================================================\n",
            "Dep. Variable:                      R   R-squared:                       0.186\n",
            "Model:                            OLS   Adj. R-squared:                  0.116\n",
            "Method:                 Least Squares   F-statistic:                     2.649\n",
            "Date:                Fri, 14 Oct 2022   Prob (F-statistic):             0.0318\n",
            "Time:                        22:07:24   Log-Likelihood:                 12.041\n",
            "No. Observations:                  64   AIC:                            -12.08\n",
            "Df Residuals:                      58   BIC:                            0.8705\n",
            "Df Model:                           5                                         \n",
            "Covariance Type:            nonrobust                                         \n",
            "========================================================================================\n",
            "                           coef    std err          t      P>|t|      [0.025      0.975]\n",
            "----------------------------------------------------------------------------------------\n",
            "Intercept                0.1592      0.078      2.046      0.045       0.003       0.315\n",
            "isSmall                  0.0978      0.078      1.255      0.215      -0.058       0.254\n",
            "isMedium                 0.0047      0.073      0.065      0.949      -0.141       0.150\n",
            "EPSP                     3.3396      1.255      2.662      0.010       0.828       5.851\n",
            "OPM                     -0.3187      0.290     -1.101      0.276      -0.898       0.261\n",
            "Book_to_Market_ratio    -0.0042      0.131     -0.032      0.975      -0.267       0.259\n",
            "==============================================================================\n",
            "Omnibus:                       71.630   Durbin-Watson:                   1.371\n",
            "Prob(Omnibus):                  0.000   Jarque-Bera (JB):              722.817\n",
            "Skew:                           3.096   Prob(JB):                    1.10e-157\n",
            "Kurtosis:                      18.255   Cond. No.                         56.0\n",
            "==============================================================================\n",
            "\n",
            "Notes:\n",
            "[1] Standard Errors assume that the covariance matrix of the errors is correctly specified.\n"
          ]
        }
      ]
    },
    {
      "cell_type": "markdown",
      "source": [
        "Comprobamos que las betas son iguales en nuestro calculo y lo obtenido por medio de ols, por lo que las betas son correctas"
      ],
      "metadata": {
        "id": "ZCAcIjbOzSvf"
      }
    },
    {
      "cell_type": "markdown",
      "source": [
        "###MSE"
      ],
      "metadata": {
        "id": "Gon1l7u1wbio"
      }
    },
    {
      "cell_type": "code",
      "source": [
        "y_pred = X * B"
      ],
      "metadata": {
        "id": "TdxQkJc5wlcv"
      },
      "execution_count": 61,
      "outputs": []
    },
    {
      "cell_type": "code",
      "source": [
        "y_pred['sum'] = y_pred['1'] + y_pred['isSmall'] + y_pred['isMedium'] + y_pred['EPSP'] + y_pred['OPM'] + y_pred['Book_to_Market_ratio']"
      ],
      "metadata": {
        "id": "KKav5TcBww5M"
      },
      "execution_count": 62,
      "outputs": []
    },
    {
      "cell_type": "code",
      "source": [
        "E = y - y_pred['sum']"
      ],
      "metadata": {
        "id": "8n_QU1E6xbwp"
      },
      "execution_count": 63,
      "outputs": []
    },
    {
      "cell_type": "code",
      "source": [
        "aux = E * E"
      ],
      "metadata": {
        "id": "Z-6cI71FxoGT"
      },
      "execution_count": 64,
      "outputs": []
    },
    {
      "cell_type": "markdown",
      "source": [
        "Matriz de errores"
      ],
      "metadata": {
        "id": "pMerwVj11iZR"
      }
    },
    {
      "cell_type": "code",
      "source": [
        "aux"
      ],
      "metadata": {
        "colab": {
          "base_uri": "https://localhost:8080/"
        },
        "id": "zrAK4sFj1ks4",
        "outputId": "4190a6e9-e0ed-4ee9-9789-a7f82c59ae1f"
      },
      "execution_count": 65,
      "outputs": [
        {
          "output_type": "execute_result",
          "data": {
            "text/plain": [
              "0     1.350317\n",
              "1     0.062596\n",
              "2     0.001662\n",
              "3     0.062186\n",
              "4     0.004580\n",
              "        ...   \n",
              "59    0.008154\n",
              "60    0.003735\n",
              "61    0.001269\n",
              "62    0.000869\n",
              "63    0.000922\n",
              "Length: 64, dtype: float64"
            ]
          },
          "metadata": {},
          "execution_count": 65
        }
      ]
    },
    {
      "cell_type": "code",
      "source": [
        "MSE = aux.sum()"
      ],
      "metadata": {
        "id": "xEEuBa_axsRt"
      },
      "execution_count": 66,
      "outputs": []
    },
    {
      "cell_type": "code",
      "source": [
        "MSE"
      ],
      "metadata": {
        "colab": {
          "base_uri": "https://localhost:8080/"
        },
        "id": "MkTxw3Kyx2aR",
        "outputId": "f8c9fccb-7e43-4ca6-ac6b-aa22ad29e2d6"
      },
      "execution_count": 67,
      "outputs": [
        {
          "output_type": "execute_result",
          "data": {
            "text/plain": [
              "2.5720738792895044"
            ]
          },
          "metadata": {},
          "execution_count": 67
        }
      ]
    }
  ],
  "metadata": {
    "colab": {
      "provenance": []
    },
    "kernelspec": {
      "display_name": "Python 3",
      "name": "python3"
    },
    "language_info": {
      "name": "python"
    }
  },
  "nbformat": 4,
  "nbformat_minor": 0
}